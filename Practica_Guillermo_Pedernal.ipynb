{
  "nbformat": 4,
  "nbformat_minor": 0,
  "metadata": {
    "colab": {
      "name": "Practica Guillermo Pedernal.ipynb",
      "version": "0.3.2",
      "views": {},
      "default_view": {},
      "provenance": [],
      "collapsed_sections": []
    },
    "kernelspec": {
      "name": "python3",
      "display_name": "Python 3"
    },
    "accelerator": "GPU"
  },
  "cells": [
    {
      "metadata": {
        "id": "Q_M_PYXGXlnH",
        "colab_type": "code",
        "colab": {
          "autoexec": {
            "startup": false,
            "wait_interval": 0
          }
        }
      },
      "cell_type": "code",
      "source": [
        "import numpy as np\n",
        "#os hago el trabajo más duro\n",
        "\n",
        "# xD"
      ],
      "execution_count": 0,
      "outputs": []
    },
    {
      "metadata": {
        "id": "pRJ7fiaDYMqo",
        "colab_type": "text"
      },
      "cell_type": "markdown",
      "source": [
        "# Introducción \n",
        "\n",
        "La idea de la práctica es visitar aquellos temas que en cierta manera nos permitan ver más contenido del curso.\n",
        "\n",
        "La práctica esta dividida en 4 o 5 subapartados, que ya tenéis en este mismo Notebook. Estos subapartados estan aquí para que rellenéis el código que hace falta para la realización de la práctica. Obviamente podéis usar tantas celdas como os hagan falta, es más es de agradecer si el código final esta algo \"limpio\". Usar funciones, algo de comentario, etc, etc...\n",
        "\n",
        "Usaremos 2 datasets, uno para el primer ejercicio, y otro para el resto de ejercicios.\n",
        "\n",
        "Ejercicios:\n",
        "\n",
        "\n",
        "1.   Machine Learning vs Deep Learning (Acordaros que hay que implementar el pipeline visto en clase entero)\n",
        "\n",
        "    1.1. Implementación de un modelo de Sentiment Analysis con algún algoritmo de Machine Learning Clásico.\n",
        "    \n",
        "    1.2. Implementación de un modelo de Sentiment Analysis con alguna arquitectura de Deep Learning.\n",
        "    \n",
        "    1.3. Breve Comparación de resultados. Confusion Matrix.\n",
        "    \n",
        "2. Hacer Analysis de los tweets del segundo dataset. Que temas aparecen? Como se representan estos temas? De que hablan unos y otros?\n",
        "\n",
        "3. Escoged a uno de los dos presidentes, y escribid tweets como ellos, usando un Modelo Generativo.\n",
        "\n",
        "En cada ejercicio, espero explicaciones y razonamientos del porque una arquitectura y no otra, por ejemplo en Deep Learning, porque usar Convolutionals en lugar de recurrentes, o en Machine Learning, Bayes en lugar de SVM. Hay que explicar el pipeline, sobretodo el preproceso de datos, con lo que habrá que hacer un pequeño estudio de que datos tenemos, y si hay cosas que se pueden ignorar, si hacéis stemming, o no, etc, etc...\n",
        "\n",
        "Acordaros de que objetivo final no es que obtengáis una accuracy brutal, es que comprendais que pasa cuando usais un algoritmo u otro, y que problemas o beneficios nos dan.\n",
        "\n",
        "![](https://i.pinimg.com/736x/19/63/8c/19638c0b33e2f7822d6806ce31d89d84--funny-cartoons-funny-jokes.jpg =400x)\n",
        "\n",
        "Mucha suerte y ánimo!\n",
        "\n"
      ]
    },
    {
      "metadata": {
        "id": "WMESTLF1YMyO",
        "colab_type": "text"
      },
      "cell_type": "markdown",
      "source": [
        "# Dataset\n",
        "\n",
        "Breve explicación del dataset"
      ]
    },
    {
      "metadata": {
        "id": "-ZW-P4-qWafE",
        "colab_type": "code",
        "colab": {
          "autoexec": {
            "startup": false,
            "wait_interval": 0
          },
          "base_uri": "https://localhost:8080/",
          "height": 86
        },
        "outputId": "e02dcf3e-475d-4131-b20c-7ad777f75b20",
        "executionInfo": {
          "status": "ok",
          "timestamp": 1531997326986,
          "user_tz": -120,
          "elapsed": 73704,
          "user": {
            "displayName": "Guillermo Pedernal",
            "photoUrl": "//lh4.googleusercontent.com/-c67Vnm1lekk/AAAAAAAAAAI/AAAAAAAAAD4/_p61UmeZ47E/s50-c-k-no/photo.jpg",
            "userId": "101927487601652154517"
          }
        }
      },
      "cell_type": "code",
      "source": [
        "from google.colab import files\n",
        "import io\n",
        "\n",
        "# cargar\n",
        "\n",
        "uploaded = files.upload()\n",
        "\n",
        "for fn in uploaded.keys():\n",
        "  print('User uploaded file \"{name}\" with length {length} bytes'.format(\n",
        "      name=fn, length=len(uploaded[fn])))\n",
        "\n",
        "\n",
        "# pandas\n",
        "import pandas as pd\n"
      ],
      "execution_count": 3,
      "outputs": [
        {
          "output_type": "display_data",
          "data": {
            "text/html": [
              "\n",
              "     <input type=\"file\" id=\"files-0a97c0bb-372b-4ee9-ba1a-a6f81db35eb1\" name=\"files[]\" multiple disabled />\n",
              "     <output id=\"result-0a97c0bb-372b-4ee9-ba1a-a6f81db35eb1\">\n",
              "      Upload widget is only available when the cell has been executed in the\n",
              "      current browser session. Please rerun this cell to enable.\n",
              "      </output>\n",
              "      <script src=\"/nbextensions/google.colab/files.js\"></script> "
            ],
            "text/plain": [
              "<IPython.core.display.HTML object>"
            ]
          },
          "metadata": {
            "tags": []
          }
        },
        {
          "output_type": "stream",
          "text": [
            "Saving train_sentiment_utf8.csv to train_sentiment_utf8.csv\n",
            "User uploaded file \"train_sentiment_utf8.csv\" with length 8677569 bytes\n"
          ],
          "name": "stdout"
        }
      ]
    },
    {
      "metadata": {
        "id": "vA4m1zwMXZzu",
        "colab_type": "code",
        "colab": {
          "autoexec": {
            "startup": false,
            "wait_interval": 0
          },
          "base_uri": "https://localhost:8080/",
          "height": 204
        },
        "outputId": "fed7d9e9-7098-469e-dd69-c2ef23b23025",
        "executionInfo": {
          "status": "ok",
          "timestamp": 1531997461006,
          "user_tz": -120,
          "elapsed": 993,
          "user": {
            "displayName": "Guillermo Pedernal",
            "photoUrl": "//lh4.googleusercontent.com/-c67Vnm1lekk/AAAAAAAAAAI/AAAAAAAAAD4/_p61UmeZ47E/s50-c-k-no/photo.jpg",
            "userId": "101927487601652154517"
          }
        }
      },
      "cell_type": "code",
      "source": [
        "df = pd.read_csv(io.StringIO(uploaded['train_sentiment_utf8.csv'].decode('utf-8')))\n",
        "df.head(5)"
      ],
      "execution_count": 4,
      "outputs": [
        {
          "output_type": "execute_result",
          "data": {
            "text/html": [
              "<div>\n",
              "<style scoped>\n",
              "    .dataframe tbody tr th:only-of-type {\n",
              "        vertical-align: middle;\n",
              "    }\n",
              "\n",
              "    .dataframe tbody tr th {\n",
              "        vertical-align: top;\n",
              "    }\n",
              "\n",
              "    .dataframe thead th {\n",
              "        text-align: right;\n",
              "    }\n",
              "</style>\n",
              "<table border=\"1\" class=\"dataframe\">\n",
              "  <thead>\n",
              "    <tr style=\"text-align: right;\">\n",
              "      <th></th>\n",
              "      <th>ItemID</th>\n",
              "      <th>Sentiment</th>\n",
              "      <th>SentimentText</th>\n",
              "    </tr>\n",
              "  </thead>\n",
              "  <tbody>\n",
              "    <tr>\n",
              "      <th>0</th>\n",
              "      <td>1</td>\n",
              "      <td>0</td>\n",
              "      <td>is so sad for my APL frie...</td>\n",
              "    </tr>\n",
              "    <tr>\n",
              "      <th>1</th>\n",
              "      <td>2</td>\n",
              "      <td>0</td>\n",
              "      <td>I missed the New Moon trail...</td>\n",
              "    </tr>\n",
              "    <tr>\n",
              "      <th>2</th>\n",
              "      <td>3</td>\n",
              "      <td>1</td>\n",
              "      <td>omg its already 7:30 :O</td>\n",
              "    </tr>\n",
              "    <tr>\n",
              "      <th>3</th>\n",
              "      <td>4</td>\n",
              "      <td>0</td>\n",
              "      <td>.. Omgaga. Im sooo  im gunna CRy. I'...</td>\n",
              "    </tr>\n",
              "    <tr>\n",
              "      <th>4</th>\n",
              "      <td>5</td>\n",
              "      <td>0</td>\n",
              "      <td>i think mi bf is cheating on me!!!   ...</td>\n",
              "    </tr>\n",
              "  </tbody>\n",
              "</table>\n",
              "</div>"
            ],
            "text/plain": [
              "   ItemID  Sentiment                                      SentimentText\n",
              "0       1          0                       is so sad for my APL frie...\n",
              "1       2          0                     I missed the New Moon trail...\n",
              "2       3          1                            omg its already 7:30 :O\n",
              "3       4          0            .. Omgaga. Im sooo  im gunna CRy. I'...\n",
              "4       5          0           i think mi bf is cheating on me!!!   ..."
            ]
          },
          "metadata": {
            "tags": []
          },
          "execution_count": 4
        }
      ]
    },
    {
      "metadata": {
        "id": "u2ucsSQAYJwP",
        "colab_type": "text"
      },
      "cell_type": "markdown",
      "source": [
        "En primer lugar vamos a examinar el dataset. Consta de 3 columnas, la primera de ellas es un id, la segunda es un tag de sentimiento que puede ser 1 o 0 (binario) y la tercera es el texto con el que vamos a entrenar la red para el ejercicio.\n",
        "\n",
        "Como tenemos etiquetas, nos encontramos ante un problema de supervised learning. En este caso queremos analizar el sentimiento.\n",
        "\n",
        "Como parte del preproceso de los datos vamos a dividir el dataset en train y set utiizando la funcion de sci-kit learn.\n",
        "\n",
        "Ademas vamos a eliminar los espacios que aparecen al principio, para homogeneizar un poco los mensajes. Dejo mayusculas y minusculas porque entiendo que son parte del sentimiento y merece la pena tenerlas en cuenta al entrenar."
      ]
    },
    {
      "metadata": {
        "id": "cNh6gKFEvnN8",
        "colab_type": "code",
        "colab": {
          "autoexec": {
            "startup": false,
            "wait_interval": 0
          },
          "base_uri": "https://localhost:8080/",
          "height": 153
        },
        "outputId": "1f1fbdc3-1d94-4bed-f276-b5f2a8b1b4a3",
        "executionInfo": {
          "status": "ok",
          "timestamp": 1531997466338,
          "user_tz": -120,
          "elapsed": 462,
          "user": {
            "displayName": "Guillermo Pedernal",
            "photoUrl": "//lh4.googleusercontent.com/-c67Vnm1lekk/AAAAAAAAAAI/AAAAAAAAAD4/_p61UmeZ47E/s50-c-k-no/photo.jpg",
            "userId": "101927487601652154517"
          }
        }
      },
      "cell_type": "code",
      "source": [
        "df = pd.DataFrame(\n",
        "  {\n",
        "      'SentimentText': df['SentimentText'].map(lambda x: x.lstrip()),\n",
        "      'Sentiment': df['Sentiment']\n",
        "  }\n",
        ")\n",
        "\n",
        "df = df[['SentimentText', 'Sentiment']]\n",
        "\n",
        "dfM = df.as_matrix()\n",
        "\n",
        "dfM"
      ],
      "execution_count": 5,
      "outputs": [
        {
          "output_type": "execute_result",
          "data": {
            "text/plain": [
              "array([['is so sad for my APL friend.............', 0],\n",
              "       ['I missed the New Moon trailer...', 0],\n",
              "       ['omg its already 7:30 :O', 1],\n",
              "       ...,\n",
              "       ['@CuPcAkE_2120 ya i thought so ', 0],\n",
              "       [\"@Cupcake_Dollie Yes. Yes. I'm glad you had more fun with me. \",\n",
              "        1],\n",
              "       ['@cupcake_kayla haha yes you do ', 1]], dtype=object)"
            ]
          },
          "metadata": {
            "tags": []
          },
          "execution_count": 5
        }
      ]
    },
    {
      "metadata": {
        "id": "iK2XMW7xoi2w",
        "colab_type": "code",
        "colab": {
          "autoexec": {
            "startup": false,
            "wait_interval": 0
          },
          "base_uri": "https://localhost:8080/",
          "height": 51
        },
        "outputId": "1778c74b-5bdf-4bc0-f9f8-79956b00d781",
        "executionInfo": {
          "status": "ok",
          "timestamp": 1531953018661,
          "user_tz": -120,
          "elapsed": 602,
          "user": {
            "displayName": "Guillermo Pedernal",
            "photoUrl": "//lh4.googleusercontent.com/-c67Vnm1lekk/AAAAAAAAAAI/AAAAAAAAAD4/_p61UmeZ47E/s50-c-k-no/photo.jpg",
            "userId": "101927487601652154517"
          }
        }
      },
      "cell_type": "code",
      "source": [
        "from sklearn.model_selection import train_test_split\n",
        "\n",
        "X_train, X_test = train_test_split(dfM, test_size=.3, random_state = 0)\n",
        "\n",
        "print('Datos train: ', X_train.shape)\n",
        "print('Datos test:  ', X_test.shape)\n"
      ],
      "execution_count": 8,
      "outputs": [
        {
          "output_type": "stream",
          "text": [
            "Datos train:  (69992, 2)\n",
            "Datos test:   (29997, 2)\n"
          ],
          "name": "stdout"
        }
      ]
    },
    {
      "metadata": {
        "id": "nHZSaUfsYM0z",
        "colab_type": "text"
      },
      "cell_type": "markdown",
      "source": [
        "# Práctica/Código a entregar"
      ]
    },
    {
      "metadata": {
        "id": "jPw8jkZDYvqx",
        "colab_type": "text"
      },
      "cell_type": "markdown",
      "source": [
        "## Pre-train Sentiment Analysis Model"
      ]
    },
    {
      "metadata": {
        "id": "fgNn58YwlFmq",
        "colab_type": "text"
      },
      "cell_type": "markdown",
      "source": [
        "En primer lugar enfocamos el problema con machine learning. \n",
        "\n",
        "- Voy a afrontarlo con Bayes por su sencillez. Determinamos la probabilidad de que una entrada pertenezca a una clase según la probabilidad de pertenencia a esa clase de las palabras que la conforman. Probaremos para ello la implementación manual que vimos en clase, sin necesidad de definir un pipeline. El mayor problema de este modelo es que utiliza \"bolsas de palabras\" por lo que no se tendrá en cuenta el orden de las palabras pero entiendo que en este problema de clasificación del sentimiento no es tan determinante.\n",
        "\n"
      ]
    },
    {
      "metadata": {
        "id": "WJ12qJsVrH7c",
        "colab_type": "text"
      },
      "cell_type": "markdown",
      "source": [
        "1.1. BAYES (implementación manual)\n",
        "\n",
        "\n",
        "\n"
      ]
    },
    {
      "metadata": {
        "id": "KtgZIERqrNKB",
        "colab_type": "code",
        "colab": {
          "autoexec": {
            "startup": false,
            "wait_interval": 0
          }
        }
      },
      "cell_type": "code",
      "source": [
        "def predict(model, data, alpha=0.00000001):\n",
        "    likelihood, prior = model\n",
        "    classes = list(prior.keys())\n",
        "    print(classes)\n",
        "    # matriz de predicciones\n",
        "    predicted = np.zeros((len(data),len(classes)))\n",
        "    for i, doc in enumerate(data):\n",
        "        doc_rep = doc.split(\" \")\n",
        "        probs = np.zeros((len(classes)))\n",
        "        for j, label in enumerate(classes):\n",
        "            pwc =[log(likelihood[label][x]) if x in likelihood[label] else log(alpha) for x in doc_rep] \n",
        "            #sumar en log es igual a multiplicar normal.\n",
        "            pwc = np.array(pwc)\n",
        "            prob = np.sum(pwc)\n",
        "            probs[j] = prob+log(prior[label])\n",
        "        predicted[i,:] = softmax(probs)\n",
        "    return np.round(predicted, 2)"
      ],
      "execution_count": 0,
      "outputs": []
    },
    {
      "metadata": {
        "id": "59drI8dHrRAU",
        "colab_type": "code",
        "colab": {
          "autoexec": {
            "startup": false,
            "wait_interval": 0
          }
        }
      },
      "cell_type": "code",
      "source": [
        "xs = [x for x , _ in X_train]"
      ],
      "execution_count": 0,
      "outputs": []
    },
    {
      "metadata": {
        "id": "wZqhiP7qrU1q",
        "colab_type": "code",
        "colab": {
          "autoexec": {
            "startup": false,
            "wait_interval": 0
          }
        }
      },
      "cell_type": "code",
      "source": [
        "from math import log2, log, exp\n",
        "\n",
        "def softmax(x):\n",
        "    \"\"\"Compute softmax values for each sets of scores in x.\"\"\"\n",
        "    e_x = np.exp(x - np.max(x))\n",
        "    return e_x / e_x.sum(axis=0) # only difference\n",
        "\n",
        "def prepare_data(data):\n",
        "    data_together = {}\n",
        "    for x, y in data:\n",
        "        if y in data_together:\n",
        "            data_together[y].append(x)\n",
        "        else: \n",
        "            data_together[y]=[x]\n",
        "    return data_together\n",
        "    \n",
        "\n",
        "from collections import Counter\n",
        "def get_prior(data):\n",
        "    prior = Counter([y for _, y in data])\n",
        "    p = {}\n",
        "    for pr in prior.keys():\n",
        "        p[pr]=prior[pr]/len(data)\n",
        "    return p\n",
        "    \n",
        "\n",
        "def get_likelihood(data):\n",
        "    tokens_in_class = {}\n",
        "    d = prepare_data(data)\n",
        "    #cuantas veces w aparece en cada clase\n",
        "    for label, strings in d.items():\n",
        "        tokens_in_class[label] = Counter([token for string in strings for token in string.split(\" \")])\n",
        "        print(tokens_in_class[label].most_common(5))\n",
        "    \n",
        "    # cuantos tokens por clase\n",
        "    tokens_per_class = {}\n",
        "    for label in tokens_in_class.keys():\n",
        "        tokens_per_class[label] = sum(tokens_in_class[label].values())\n",
        "    print(tokens_per_class)\n",
        "    \n",
        "    likelihood = {}\n",
        "    for label in tokens_in_class.keys():\n",
        "        likelihood[label] = {}\n",
        "        for token in tokens_in_class[label].keys():\n",
        "            likelihood[label][token] = tokens_in_class[label][token]/tokens_per_class[label]\n",
        "    return likelihood\n",
        "    \n",
        "def train(data):\n",
        "    likelihood = get_likelihood(data)\n",
        "    prior = get_prior(data)    \n",
        "    return likelihood, prior"
      ],
      "execution_count": 0,
      "outputs": []
    },
    {
      "metadata": {
        "id": "_w7KURXxrdCj",
        "colab_type": "code",
        "colab": {
          "autoexec": {
            "startup": false,
            "wait_interval": 0
          },
          "base_uri": "https://localhost:8080/",
          "height": 357
        },
        "outputId": "e70ee54b-de7b-4dac-ce2d-ae1d3ecb6a3e",
        "executionInfo": {
          "status": "ok",
          "timestamp": 1531955793890,
          "user_tz": -120,
          "elapsed": 4663,
          "user": {
            "displayName": "Guillermo Pedernal",
            "photoUrl": "//lh4.googleusercontent.com/-c67Vnm1lekk/AAAAAAAAAAI/AAAAAAAAAD4/_p61UmeZ47E/s50-c-k-no/photo.jpg",
            "userId": "101927487601652154517"
          }
        }
      },
      "cell_type": "code",
      "source": [
        "\n",
        "model = train(X_train)\n",
        "predictions = predict(model, xs)\n",
        "i=0\n",
        "for datap, p in zip(X_train, predictions):\n",
        "  i+=1\n",
        "  if i < 11:\n",
        "    print(datap, p)"
      ],
      "execution_count": 21,
      "outputs": [
        {
          "output_type": "stream",
          "text": [
            "[('', 34471), ('I', 12234), ('to', 9900), ('the', 8409), ('i', 6741)]\n",
            "[('', 47929), ('the', 11276), ('I', 10750), ('to', 10328), ('you', 9814)]\n",
            "{0: 456372, 1: 557753}\n",
            "[0, 1]\n",
            "['@BloodiMari Yeah, they suck balls ' 0] [1. 0.]\n",
            "['@angelandz My favorite part of Muppet Babies was the Mom. You only ever saw her legs '\n",
            " 1] [0. 1.]\n",
            "[\". @wickedblueglow he's in bed sick. Heavy fever. Went to dr's. Part of the reason i'm watching Aladdin 2 now and still haven't been fed \"\n",
            " 0] [1. 0.]\n",
            "[\"@alwayscoffee Sweet! I wish I could poetry like you, you're so prolific. I just can't do poetry. I hardly understand it half the time. \"\n",
            " 0] [1. 0.]\n",
            "['lonely, drinking crane lake' 0] [1. 0.]\n",
            "['@amandapalmer will WKAP book be on sale at your ed fringe show? My mum wont preorder me it   (amandapalmer live &gt; http://ustre.am/1qRf)'\n",
            " 0] [1. 0.]\n",
            "[\"they didn't do the song I wanted. :| LOL still amaaaaazing &lt;3\" 0] [1. 0.]\n",
            "['#smx no free wifi apparently  thats baaaaad #smxlondon' 0] [1. 0.]\n",
            "['my friends can get with ur friends and we can all b friends, shit, we could do this every weeknd.. Aiigght?  with coop n the crew'\n",
            " 1] [0. 1.]\n",
            "[\"@aplusk where and when will you be in georgia? me and my friend wanna come say hi and get a pic with you  i won't tell anyone!\"\n",
            " 1] [0. 1.]\n"
          ],
          "name": "stdout"
        }
      ]
    },
    {
      "metadata": {
        "id": "9UQ6bVPergm_",
        "colab_type": "code",
        "colab": {
          "autoexec": {
            "startup": false,
            "wait_interval": 0
          },
          "base_uri": "https://localhost:8080/",
          "height": 306
        },
        "outputId": "048dabee-d61c-4804-fc7e-a48c75705a64",
        "executionInfo": {
          "status": "ok",
          "timestamp": 1531955811605,
          "user_tz": -120,
          "elapsed": 2315,
          "user": {
            "displayName": "Guillermo Pedernal",
            "photoUrl": "//lh4.googleusercontent.com/-c67Vnm1lekk/AAAAAAAAAAI/AAAAAAAAAD4/_p61UmeZ47E/s50-c-k-no/photo.jpg",
            "userId": "101927487601652154517"
          }
        }
      },
      "cell_type": "code",
      "source": [
        "test = [x for x , _ in X_test]\n",
        "predictions = predict(model, test)\n",
        "i=0\n",
        "for datap, p in zip(X_test, predictions):\n",
        "  i+=1\n",
        "  if i < 11:\n",
        "    print(datap, p)"
      ],
      "execution_count": 22,
      "outputs": [
        {
          "output_type": "stream",
          "text": [
            "[0, 1]\n",
            "['@Benno4321 working balls ' 0] [0.7 0.3]\n",
            "['@asherroth same her lol ' 1] [0.5 0.5]\n",
            "['@AshleySemila 70+ pairs of kicks. Dunks, air max, jordans even some adidas and of course BLAZERS! I KNO U KNO ABT BLAZERS.  Owwww'\n",
            " 1] [1. 0.]\n",
            "['@brenda_song HI Brenda! How are you? I start exams tomorow.  btw ur Amazing! Love ya!  Xxxxx'\n",
            " 0] [0. 1.]\n",
            "['.@moryan Thx for all the Supernatural coverage - its the only genre show gaining viewers... Props    http://www.airlockalpha.com/node/6437'\n",
            " 1] [0. 1.]\n",
            "['@aisfornala Oh. So people laugh at me huh?  Your words are like an ice dagger to my heart etc etc ;)'\n",
            " 0] [0.16 0.84]\n",
            "['@amieewhitney for sureeee..course i will babes.. on here or msn or what!? lol   congrats, 4 kids! Oo whao.'\n",
            " 1] [0.41 0.59]\n",
            "['...going back to sleep...  blah' 0] [0.85 0.15]\n",
            "['@CMoz Thats a relief ..........40 mins to go........till Monday evening.....  D'\n",
            " 1] [0. 1.]\n",
            "['@candyann ' 0] [0.4 0.6]\n"
          ],
          "name": "stdout"
        }
      ]
    },
    {
      "metadata": {
        "id": "4uYRuN5xtU9j",
        "colab_type": "text"
      },
      "cell_type": "markdown",
      "source": [
        "En segundo lugar vamos a resolver el mismo problema de analisis de sentimiento con Deep Learning. \n",
        "\n",
        "- En esta ocasión vamos a usar una red convolucional o CNN con una capa de embeddings tal y como vimos en clase. Me quedo con una CNN porque entiendo por la comparativa que vimos que una red recurrente no va a suponer un salto importante respecto a la convolucional y dado el tiempo del que dispongo para la pracrtica y las limitaciones del google colab prefiero quedarme con las arquitecturas mas sencillas posibles."
      ]
    },
    {
      "metadata": {
        "id": "QOYrQjWO1WjY",
        "colab_type": "text"
      },
      "cell_type": "markdown",
      "source": [
        "1.2. CNN "
      ]
    },
    {
      "metadata": {
        "id": "OAXTXUWRAvYN",
        "colab_type": "code",
        "colab": {
          "autoexec": {
            "startup": false,
            "wait_interval": 0
          },
          "base_uri": "https://localhost:8080/",
          "height": 34
        },
        "outputId": "601483a0-5554-491e-f771-68a3ed022e35",
        "executionInfo": {
          "status": "ok",
          "timestamp": 1531997485576,
          "user_tz": -120,
          "elapsed": 8078,
          "user": {
            "displayName": "Guillermo Pedernal",
            "photoUrl": "//lh4.googleusercontent.com/-c67Vnm1lekk/AAAAAAAAAAI/AAAAAAAAAD4/_p61UmeZ47E/s50-c-k-no/photo.jpg",
            "userId": "101927487601652154517"
          }
        }
      },
      "cell_type": "code",
      "source": [
        "from collections import Counter\n",
        "\n",
        "from keras.layers import MaxPooling1D, GlobalMaxPooling1D\n",
        "from keras.layers import Input, Embedding, Concatenate, Flatten\n",
        "from keras.models import Model\n",
        "from keras.layers import Conv1D, Conv2D, SimpleRNN, LSTM, Dense, Dropout"
      ],
      "execution_count": 6,
      "outputs": [
        {
          "output_type": "stream",
          "text": [
            "Using TensorFlow backend.\n"
          ],
          "name": "stderr"
        }
      ]
    },
    {
      "metadata": {
        "id": "rE0ITZRtCfeo",
        "colab_type": "code",
        "colab": {
          "autoexec": {
            "startup": false,
            "wait_interval": 0
          },
          "base_uri": "https://localhost:8080/",
          "height": 1482
        },
        "outputId": "ce4ce70c-9860-471b-943c-c79ad61b513b",
        "executionInfo": {
          "status": "ok",
          "timestamp": 1532043326235,
          "user_tz": -120,
          "elapsed": 322345,
          "user": {
            "displayName": "Guillermo Pedernal",
            "photoUrl": "//lh4.googleusercontent.com/-c67Vnm1lekk/AAAAAAAAAAI/AAAAAAAAAD4/_p61UmeZ47E/s50-c-k-no/photo.jpg",
            "userId": "101927487601652154517"
          }
        }
      },
      "cell_type": "code",
      "source": [
        "!pip install spacy\n",
        "!python -m spacy download en_core_web_sm"
      ],
      "execution_count": 2,
      "outputs": [
        {
          "output_type": "stream",
          "text": [
            "Collecting spacy\n",
            "\u001b[?25l  Downloading https://files.pythonhosted.org/packages/3c/31/e60f88751e48851b002f78a35221d12300783d5a43d4ef12fbf10cca96c3/spacy-2.0.11.tar.gz (17.6MB)\n",
            "\u001b[K    100% |████████████████████████████████| 17.6MB 2.0MB/s \n",
            "\u001b[?25hRequirement already satisfied: numpy>=1.7 in /usr/local/lib/python3.6/dist-packages (from spacy) (1.14.5)\n",
            "Collecting murmurhash<0.29,>=0.28 (from spacy)\n",
            "  Downloading https://files.pythonhosted.org/packages/5e/31/c8c1ecafa44db30579c8c457ac7a0f819e8b1dbc3e58308394fff5ff9ba7/murmurhash-0.28.0.tar.gz\n",
            "Collecting cymem<1.32,>=1.30 (from spacy)\n",
            "  Downloading https://files.pythonhosted.org/packages/f8/9e/273fbea507de99166c11cd0cb3fde1ac01b5bc724d9a407a2f927ede91a1/cymem-1.31.2.tar.gz\n",
            "Collecting preshed<2.0.0,>=1.0.0 (from spacy)\n",
            "\u001b[?25l  Downloading https://files.pythonhosted.org/packages/1b/ac/7c17b1fd54b60972785b646d37da2826311cca70842c011c4ff84fbe95e0/preshed-1.0.0.tar.gz (89kB)\n",
            "\u001b[K    100% |████████████████████████████████| 92kB 17.5MB/s \n",
            "\u001b[?25hCollecting thinc<6.11.0,>=6.10.1 (from spacy)\n",
            "\u001b[?25l  Downloading https://files.pythonhosted.org/packages/55/fd/e9f36081e6f53699943381858848f3b4d759e0dd03c43b98807dde34c252/thinc-6.10.2.tar.gz (1.2MB)\n",
            "\u001b[K    100% |████████████████████████████████| 1.2MB 13.4MB/s \n",
            "\u001b[?25hCollecting plac<1.0.0,>=0.9.6 (from spacy)\n",
            "  Downloading https://files.pythonhosted.org/packages/9e/9b/62c60d2f5bc135d2aa1d8c8a86aaf84edb719a59c7f11a4316259e61a298/plac-0.9.6-py2.py3-none-any.whl\n",
            "Collecting pathlib (from spacy)\n",
            "\u001b[?25l  Downloading https://files.pythonhosted.org/packages/ac/aa/9b065a76b9af472437a0059f77e8f962fe350438b927cb80184c32f075eb/pathlib-1.0.1.tar.gz (49kB)\n",
            "\u001b[K    100% |████████████████████████████████| 51kB 17.9MB/s \n",
            "\u001b[?25hCollecting ujson>=1.35 (from spacy)\n",
            "\u001b[?25l  Downloading https://files.pythonhosted.org/packages/16/c4/79f3409bc710559015464e5f49b9879430d8f87498ecdc335899732e5377/ujson-1.35.tar.gz (192kB)\n",
            "\u001b[K    100% |████████████████████████████████| 194kB 18.5MB/s \n",
            "\u001b[?25hCollecting dill<0.3,>=0.2 (from spacy)\n",
            "\u001b[?25l  Downloading https://files.pythonhosted.org/packages/6f/78/8b96476f4ae426db71c6e86a8e6a81407f015b34547e442291cd397b18f3/dill-0.2.8.2.tar.gz (150kB)\n",
            "\u001b[K    100% |████████████████████████████████| 153kB 18.5MB/s \n",
            "\u001b[?25hCollecting regex==2017.4.5 (from spacy)\n",
            "\u001b[?25l  Downloading https://files.pythonhosted.org/packages/36/62/c0c0d762ffd4ffaf39f372eb8561b8d491a11ace5a7884610424a8b40f95/regex-2017.04.05.tar.gz (601kB)\n",
            "\u001b[K    100% |████████████████████████████████| 604kB 15.8MB/s \n",
            "\u001b[?25hCollecting wrapt (from thinc<6.11.0,>=6.10.1->spacy)\n",
            "  Downloading https://files.pythonhosted.org/packages/a0/47/66897906448185fcb77fc3c2b1bc20ed0ecca81a0f2f88eda3fc5a34fc3d/wrapt-1.10.11.tar.gz\n",
            "Collecting tqdm<5.0.0,>=4.10.0 (from thinc<6.11.0,>=6.10.1->spacy)\n",
            "\u001b[?25l  Downloading https://files.pythonhosted.org/packages/93/24/6ab1df969db228aed36a648a8959d1027099ce45fad67532b9673d533318/tqdm-4.23.4-py2.py3-none-any.whl (42kB)\n",
            "\u001b[K    100% |████████████████████████████████| 51kB 17.0MB/s \n",
            "\u001b[?25hCollecting cytoolz<0.9,>=0.8 (from thinc<6.11.0,>=6.10.1->spacy)\n",
            "\u001b[?25l  Downloading https://files.pythonhosted.org/packages/0f/e6/ccc124714dcc1bd511e64ddafb4d5d20ada2533b92e3173a4cf09e0d0831/cytoolz-0.8.2.tar.gz (386kB)\n",
            "\u001b[K    100% |████████████████████████████████| 389kB 17.6MB/s \n",
            "\u001b[?25hRequirement already satisfied: six<2.0.0,>=1.10.0 in /usr/local/lib/python3.6/dist-packages (from thinc<6.11.0,>=6.10.1->spacy) (1.11.0)\n",
            "Requirement already satisfied: termcolor in /usr/local/lib/python3.6/dist-packages (from thinc<6.11.0,>=6.10.1->spacy) (1.1.0)\n",
            "Collecting msgpack-python (from thinc<6.11.0,>=6.10.1->spacy)\n",
            "\u001b[?25l  Downloading https://files.pythonhosted.org/packages/8a/20/6eca772d1a5830336f84aca1d8198e5a3f4715cd1c7fc36d3cc7f7185091/msgpack-python-0.5.6.tar.gz (138kB)\n",
            "\u001b[K    100% |████████████████████████████████| 143kB 21.9MB/s \n",
            "\u001b[?25hCollecting msgpack-numpy==0.4.1 (from thinc<6.11.0,>=6.10.1->spacy)\n",
            "  Downloading https://files.pythonhosted.org/packages/2e/43/393e30e2768b0357541ac95891f96b80ccc4d517e0dd2fa3042fc8926538/msgpack_numpy-0.4.1-py2.py3-none-any.whl\n",
            "Requirement already satisfied: toolz>=0.8.0 in /usr/local/lib/python3.6/dist-packages (from cytoolz<0.9,>=0.8->thinc<6.11.0,>=6.10.1->spacy) (0.9.0)\n",
            "Building wheels for collected packages: spacy, murmurhash, cymem, preshed, thinc, pathlib, ujson, dill, regex, wrapt, cytoolz, msgpack-python\n",
            "  Running setup.py bdist_wheel for spacy ... \u001b[?25l-\b \b\\\b \b|\b \b/\b \b-"
          ],
          "name": "stdout"
        },
        {
          "output_type": "stream",
          "text": [
            "\b \b\\\b \b|\b \b/\b \b-\b \b\\\b \b|\b \b/\b \b-\b \b\\\b \b|\b \b/\b \b-\b \b\\\b \b|\b \b/\b \b-\b \b\\\b \b|\b \b/\b \b-\b \b\\\b \b|\b \b/\b \b-\b \b\\\b \b|\b \b/\b \b-\b \b\\\b \b|\b \b/\b \b-\b \b\\\b \b|\b \b/\b \b-\b \b\\\b \b|\b \b/\b \b-\b \b\\\b \b|\b \b/\b \b-\b \b\\\b \b|\b \b/\b \b-\b \b\\\b \b|\b \b/\b \b-\b \b\\\b \b|\b \b/\b \b-\b \b\\\b \b|\b \b/\b \b-\b \b\\\b \b|\b \b/\b \b-\b \b\\\b \b|\b \b/\b \b-\b \b\\\b \b|\b \b/\b \b-\b \b\\\b \b|\b \b/\b \b-\b \bdone\n",
            "\u001b[?25h  Stored in directory: /content/.cache/pip/wheels/fb/00/28/75c85d5135e7d9a100639137d1847d41e914ed16c962d467e4\n",
            "  Running setup.py bdist_wheel for murmurhash ... \u001b[?25l-\b \b\\\b \b|\b \b/\b \bdone\n",
            "\u001b[?25h  Stored in directory: /content/.cache/pip/wheels/b8/94/a4/f69f8664cdc1098603df44771b7fec5fd1b3d8364cdd83f512\n",
            "  Running setup.py bdist_wheel for cymem ... \u001b[?25l-\b \b\\\b \bdone\n",
            "\u001b[?25h  Stored in directory: /content/.cache/pip/wheels/55/8d/4a/f6328252aa2aaec0b1cb906fd96a1566d77f0f67701071ad13\n",
            "  Running setup.py bdist_wheel for preshed ... \u001b[?25l-\b \b\\\b \b|\b \b/\b \b-\b \b\\\b \b|\b \bdone\n",
            "\u001b[?25h  Stored in directory: /content/.cache/pip/wheels/8f/85/06/2d132fb649a6bbcab22487e4147880a55b0dd0f4b18fdfd6b5\n",
            "  Running setup.py bdist_wheel for thinc ... \u001b[?25l-\b \b\\\b \b|\b \b/\b \b-\b \b\\\b \b|\b \b/\b \b-\b \b\\\b \b|\b \b/\b \b-\b \b\\\b \b|\b \b/\b \b-\b \b\\\b \b|\b \b/\b \b-\b \b\\\b \b|\b \b/\b \b-\b \bdone\n",
            "\u001b[?25h  Stored in directory: /content/.cache/pip/wheels/d8/5c/3e/9acf5d9974fb1c9e7b467563ea5429c9325f67306e93147961\n",
            "  Running setup.py bdist_wheel for pathlib ... \u001b[?25l-\b \bdone\n",
            "\u001b[?25h  Stored in directory: /content/.cache/pip/wheels/f9/b2/4a/68efdfe5093638a9918bd1bb734af625526e849487200aa171\n",
            "  Running setup.py bdist_wheel for ujson ... \u001b[?25l-\b \b\\\b \b|\b \b/\b \b-\b \b\\\b \bdone\n",
            "\u001b[?25h  Stored in directory: /content/.cache/pip/wheels/28/77/e4/0311145b9c2e2f01470e744855131f9e34d6919687550f87d1\n",
            "  Running setup.py bdist_wheel for dill ... \u001b[?25l-\b \b\\\b \bdone\n",
            "\u001b[?25h  Stored in directory: /content/.cache/pip/wheels/e2/5d/17/f87cb7751896ac629b435a8696f83ee75b11029f5d6f6bda72\n",
            "  Running setup.py bdist_wheel for regex ... \u001b[?25l-\b \b\\\b \b|\b \b/\b \b-\b \b\\\b \b|\b \bdone\n",
            "\u001b[?25h  Stored in directory: /content/.cache/pip/wheels/75/07/38/3c16b529d50cb4e0cd3dbc7b75cece8a09c132692c74450b01\n",
            "  Running setup.py bdist_wheel for wrapt ... \u001b[?25l-\b \b\\\b \bdone\n",
            "\u001b[?25h  Stored in directory: /content/.cache/pip/wheels/48/5d/04/22361a593e70d23b1f7746d932802efe1f0e523376a74f321e\n",
            "  Running setup.py bdist_wheel for cytoolz ... \u001b[?25l-\b \b\\\b \b|"
          ],
          "name": "stdout"
        },
        {
          "output_type": "stream",
          "text": [
            "\b \b/\b \b-\b \b\\\b \b|\b \b/\b \bdone\n",
            "\u001b[?25h  Stored in directory: /content/.cache/pip/wheels/f8/b1/86/c92e4d36b690208fff8471711b85eaa6bc6d19860a86199a09\n",
            "  Running setup.py bdist_wheel for msgpack-python ... \u001b[?25l-\b \b\\\b \b|\b \b/\b \bdone\n",
            "\u001b[?25h  Stored in directory: /content/.cache/pip/wheels/d5/de/86/7fa56fda12511be47ea0808f3502bc879df4e63ab168ec0406\n",
            "Successfully built spacy murmurhash cymem preshed thinc pathlib ujson dill regex wrapt cytoolz msgpack-python\n",
            "Installing collected packages: murmurhash, cymem, preshed, wrapt, tqdm, cytoolz, plac, dill, pathlib, msgpack-python, msgpack-numpy, thinc, ujson, regex, spacy\n",
            "Successfully installed cymem-1.31.2 cytoolz-0.8.2 dill-0.2.8.2 msgpack-numpy-0.4.1 msgpack-python-0.5.6 murmurhash-0.28.0 pathlib-1.0.1 plac-0.9.6 preshed-1.0.0 regex-2017.4.5 spacy-2.0.11 thinc-6.10.2 tqdm-4.23.4 ujson-1.35 wrapt-1.10.11\n",
            "Collecting https://github.com/explosion/spacy-models/releases/download/en_core_web_sm-2.0.0/en_core_web_sm-2.0.0.tar.gz\n",
            "\u001b[?25l  Downloading https://github.com/explosion/spacy-models/releases/download/en_core_web_sm-2.0.0/en_core_web_sm-2.0.0.tar.gz (37.4MB)\n",
            "\u001b[K    100% |████████████████████████████████| 37.4MB 52.3MB/s \n",
            "\u001b[?25hInstalling collected packages: en-core-web-sm\n",
            "  Running setup.py install for en-core-web-sm ... \u001b[?25l-\b \b\\\b \b|\b \bdone\n",
            "\u001b[?25hSuccessfully installed en-core-web-sm-2.0.0\n",
            "\n",
            "\u001b[93m    Linking successful\u001b[0m\n",
            "    /usr/local/lib/python3.6/dist-packages/en_core_web_sm -->\n",
            "    /usr/local/lib/python3.6/dist-packages/spacy/data/en_core_web_sm\n",
            "\n",
            "    You can now load the model via spacy.load('en_core_web_sm')\n",
            "\n"
          ],
          "name": "stdout"
        }
      ]
    },
    {
      "metadata": {
        "id": "Oe5KatJWDxjm",
        "colab_type": "code",
        "colab": {
          "autoexec": {
            "startup": false,
            "wait_interval": 0
          }
        }
      },
      "cell_type": "code",
      "source": [
        "import spacy\n",
        "\n",
        "nlp = spacy.load('en_core_web_sm', disable=['parser', 'tagger', 'ner', 'textcat'])"
      ],
      "execution_count": 0,
      "outputs": []
    },
    {
      "metadata": {
        "id": "3e4Db-CTEG-4",
        "colab_type": "code",
        "colab": {
          "autoexec": {
            "startup": false,
            "wait_interval": 0
          }
        }
      },
      "cell_type": "code",
      "source": [
        "dataset = []\n",
        "for row in df.iterrows():\n",
        "    ix, data = row\n",
        "    dataset.append((data[0], data[1]))"
      ],
      "execution_count": 0,
      "outputs": []
    },
    {
      "metadata": {
        "id": "IyjmzmhvBI0V",
        "colab_type": "code",
        "colab": {
          "autoexec": {
            "startup": false,
            "wait_interval": 0
          },
          "base_uri": "https://localhost:8080/",
          "height": 51
        },
        "outputId": "8cafe675-85eb-42b9-f3e3-4116ed1bfc11",
        "executionInfo": {
          "status": "ok",
          "timestamp": 1531997923569,
          "user_tz": -120,
          "elapsed": 46858,
          "user": {
            "displayName": "Guillermo Pedernal",
            "photoUrl": "//lh4.googleusercontent.com/-c67Vnm1lekk/AAAAAAAAAAI/AAAAAAAAAD4/_p61UmeZ47E/s50-c-k-no/photo.jpg",
            "userId": "101927487601652154517"
          }
        }
      },
      "cell_type": "code",
      "source": [
        "tokens = []\n",
        "tokenized = []\n",
        "for x, y in dataset:\n",
        "    x_t = nlp(x)\n",
        "    toks = [t.text for t in x_t]\n",
        "    tokens+= toks\n",
        "    tokenized.append((toks, y))\n",
        "    \n",
        "vocab_counter = Counter(tokens)\n",
        "vocab = set(tokens)\n",
        "print('Num de features a usar: ', len(vocab))  \n",
        "print(len(tokenized))   "
      ],
      "execution_count": 10,
      "outputs": [
        {
          "output_type": "stream",
          "text": [
            "Num de features a usar:  130913\n",
            "99989\n"
          ],
          "name": "stdout"
        }
      ]
    },
    {
      "metadata": {
        "id": "aD2jyWcbBDZy",
        "colab_type": "code",
        "colab": {
          "autoexec": {
            "startup": false,
            "wait_interval": 0
          },
          "base_uri": "https://localhost:8080/",
          "height": 34
        },
        "outputId": "d6a92d05-120c-48fb-be5e-b970557f944d",
        "executionInfo": {
          "status": "ok",
          "timestamp": 1531997926233,
          "user_tz": -120,
          "elapsed": 1058,
          "user": {
            "displayName": "Guillermo Pedernal",
            "photoUrl": "//lh4.googleusercontent.com/-c67Vnm1lekk/AAAAAAAAAAI/AAAAAAAAAD4/_p61UmeZ47E/s50-c-k-no/photo.jpg",
            "userId": "101927487601652154517"
          }
        }
      },
      "cell_type": "code",
      "source": [
        "maxlen = max([len(x) for x, _ in tokenized])\n",
        "maxlen"
      ],
      "execution_count": 11,
      "outputs": [
        {
          "output_type": "execute_result",
          "data": {
            "text/plain": [
              "185"
            ]
          },
          "metadata": {
            "tags": []
          },
          "execution_count": 11
        }
      ]
    },
    {
      "metadata": {
        "id": "aHDxH_pUFcF4",
        "colab_type": "code",
        "colab": {
          "autoexec": {
            "startup": false,
            "wait_interval": 0
          },
          "base_uri": "https://localhost:8080/",
          "height": 34
        },
        "outputId": "367fcd0d-8450-4563-8ce0-479efd465a34",
        "executionInfo": {
          "status": "ok",
          "timestamp": 1531997931662,
          "user_tz": -120,
          "elapsed": 656,
          "user": {
            "displayName": "Guillermo Pedernal",
            "photoUrl": "//lh4.googleusercontent.com/-c67Vnm1lekk/AAAAAAAAAAI/AAAAAAAAAD4/_p61UmeZ47E/s50-c-k-no/photo.jpg",
            "userId": "101927487601652154517"
          }
        }
      },
      "cell_type": "code",
      "source": [
        "lens = [len(x) for x, _ in tokenized]\n",
        "median = np.median(np.array(lens))\n",
        "mean = np.mean(np.array(lens))\n",
        "maxlen = int(median)*2\n",
        "print(median, mean, maxlen)"
      ],
      "execution_count": 12,
      "outputs": [
        {
          "output_type": "stream",
          "text": [
            "16.0 16.660972706997768 32\n"
          ],
          "name": "stdout"
        }
      ]
    },
    {
      "metadata": {
        "id": "ofzWDGX4F1EZ",
        "colab_type": "code",
        "colab": {
          "autoexec": {
            "startup": false,
            "wait_interval": 0
          },
          "base_uri": "https://localhost:8080/",
          "height": 34
        },
        "outputId": "05c19d3a-9ba9-4abd-dbb3-ee8ba08e5f0f",
        "executionInfo": {
          "status": "ok",
          "timestamp": 1531997933080,
          "user_tz": -120,
          "elapsed": 540,
          "user": {
            "displayName": "Guillermo Pedernal",
            "photoUrl": "//lh4.googleusercontent.com/-c67Vnm1lekk/AAAAAAAAAAI/AAAAAAAAAD4/_p61UmeZ47E/s50-c-k-no/photo.jpg",
            "userId": "101927487601652154517"
          }
        }
      },
      "cell_type": "code",
      "source": [
        "tokenized_filtered = [(x, y) for x, y in tokenized if len(x) < maxlen]\n",
        "len(tokenized_filtered)"
      ],
      "execution_count": 13,
      "outputs": [
        {
          "output_type": "execute_result",
          "data": {
            "text/plain": [
              "95239"
            ]
          },
          "metadata": {
            "tags": []
          },
          "execution_count": 13
        }
      ]
    },
    {
      "metadata": {
        "id": "LdNCSgu-F9T0",
        "colab_type": "text"
      },
      "cell_type": "markdown",
      "source": [
        "Word to ID -> convertimos el vocabulario en enteros"
      ]
    },
    {
      "metadata": {
        "id": "bTQEvGDVGB7S",
        "colab_type": "code",
        "colab": {
          "autoexec": {
            "startup": false,
            "wait_interval": 0
          }
        }
      },
      "cell_type": "code",
      "source": [
        "w2id = {k:i for i, k in enumerate(vocab)}\n",
        "w2id['<UNK>'] = len(w2id)"
      ],
      "execution_count": 0,
      "outputs": []
    },
    {
      "metadata": {
        "id": "DsaglW5hGi_q",
        "colab_type": "code",
        "colab": {
          "autoexec": {
            "startup": false,
            "wait_interval": 0
          }
        }
      },
      "cell_type": "code",
      "source": [
        "labels = ['ko',\n",
        "            'ok']"
      ],
      "execution_count": 0,
      "outputs": []
    },
    {
      "metadata": {
        "id": "ZKRdW4ZxH52X",
        "colab_type": "code",
        "colab": {
          "autoexec": {
            "startup": false,
            "wait_interval": 0
          }
        }
      },
      "cell_type": "code",
      "source": [
        "l2id = {label:i for i, label in enumerate(labels)}"
      ],
      "execution_count": 0,
      "outputs": []
    },
    {
      "metadata": {
        "id": "Ni_aSz4QIGXU",
        "colab_type": "code",
        "colab": {
          "autoexec": {
            "startup": false,
            "wait_interval": 0
          }
        }
      },
      "cell_type": "code",
      "source": [
        "input_ready = []\n",
        "for x, y in tokenized_filtered:\n",
        "    sentence = np.zeros((maxlen))\n",
        "    label = np.zeros((len(labels)))\n",
        "    label[int(y)-1] = 1\n",
        "    for i, t in enumerate(x):\n",
        "        sentence[i] = w2id[t] if t in vocab_counter and vocab_counter[t]>=5 else w2id['<UNK>']\n",
        "    input_ready.append((sentence,label))"
      ],
      "execution_count": 0,
      "outputs": []
    },
    {
      "metadata": {
        "id": "1CROra_iIJYx",
        "colab_type": "code",
        "colab": {
          "autoexec": {
            "startup": false,
            "wait_interval": 0
          },
          "base_uri": "https://localhost:8080/",
          "height": 170
        },
        "outputId": "9991dd01-11ea-4514-982a-4002cc1c62c5",
        "executionInfo": {
          "status": "ok",
          "timestamp": 1531997947519,
          "user_tz": -120,
          "elapsed": 1391,
          "user": {
            "displayName": "Guillermo Pedernal",
            "photoUrl": "//lh4.googleusercontent.com/-c67Vnm1lekk/AAAAAAAAAAI/AAAAAAAAAD4/_p61UmeZ47E/s50-c-k-no/photo.jpg",
            "userId": "101927487601652154517"
          }
        }
      },
      "cell_type": "code",
      "source": [
        "from sklearn.model_selection import StratifiedShuffleSplit\n",
        "\n",
        "def split_train_val_test(dataset, split=0.2):\n",
        "\n",
        "    x, y = zip(*dataset)\n",
        "    x = np.array(list(x))\n",
        "    y = np.array(list(y))\n",
        "    sss = StratifiedShuffleSplit(n_splits=1, test_size=split, random_state=1337) #l33t seed\n",
        "    for train_index, test_index in sss.split(x, y):\n",
        "        x_train, x_val = x[train_index], x[test_index]\n",
        "        y_train, y_val = y[train_index], y[test_index]\n",
        "    splits = {'train':(x_train, y_train), 'test':(x_val, y_val)}\n",
        "    return splits\n",
        "\n",
        "splits = split_train_val_test(input_ready)\n",
        "print(splits['train'][0].shape)\n",
        "print(splits['train'][1].shape)\n",
        "splits['train'][1]"
      ],
      "execution_count": 18,
      "outputs": [
        {
          "output_type": "stream",
          "text": [
            "(76191, 32)\n",
            "(76191, 2)\n"
          ],
          "name": "stdout"
        },
        {
          "output_type": "execute_result",
          "data": {
            "text/plain": [
              "array([[1., 0.],\n",
              "       [0., 1.],\n",
              "       [0., 1.],\n",
              "       ...,\n",
              "       [1., 0.],\n",
              "       [1., 0.],\n",
              "       [1., 0.]])"
            ]
          },
          "metadata": {
            "tags": []
          },
          "execution_count": 18
        }
      ]
    },
    {
      "metadata": {
        "id": "1DAPPxKZA1Q-",
        "colab_type": "code",
        "colab": {
          "autoexec": {
            "startup": false,
            "wait_interval": 0
          },
          "base_uri": "https://localhost:8080/",
          "height": 646
        },
        "outputId": "319ce44a-9986-4d13-e142-ad9035947986",
        "executionInfo": {
          "status": "ok",
          "timestamp": 1531997949890,
          "user_tz": -120,
          "elapsed": 867,
          "user": {
            "displayName": "Guillermo Pedernal",
            "photoUrl": "//lh4.googleusercontent.com/-c67Vnm1lekk/AAAAAAAAAAI/AAAAAAAAAD4/_p61UmeZ47E/s50-c-k-no/photo.jpg",
            "userId": "101927487601652154517"
          }
        }
      },
      "cell_type": "code",
      "source": [
        "embedding_dim = 100\n",
        "\n",
        "input_layer = Input(shape=(maxlen,) )# maxlen\n",
        "embedding = Embedding(output_dim=embedding_dim, input_dim=len(w2id), input_length=maxlen)(input_layer)#w2id maxlen\n",
        "\n",
        "conv_1 = Conv1D(filters=50, kernel_size=1, strides=1, activation='relu', padding='valid')(embedding)\n",
        "mp_1 = GlobalMaxPooling1D()(conv_1)\n",
        "\n",
        "conv_2 = Conv1D(filters=50, kernel_size=2, strides=1, activation='relu', padding='valid')(embedding)\n",
        "mp_2 = GlobalMaxPooling1D()(conv_2)\n",
        "\n",
        "conv_5 = Conv1D(filters=50, kernel_size=5, strides=1, activation='relu', padding='valid')(embedding)\n",
        "mp_5 = GlobalMaxPooling1D()(conv_5)\n",
        "\n",
        "doc_representation = Concatenate()([mp_1, mp_2, mp_5])\n",
        "\n",
        "dense_1 = Dense(100, activation='relu')(doc_representation)\n",
        "drop_1 = Dropout(0.5)(dense_1)\n",
        "dense_2 = Dense(100, activation='relu')(drop_1)\n",
        "drop_2 = Dropout(0.5)(dense_2)\n",
        "out = Dense(len(l2id), activation='softmax')(drop_2)\n",
        "\n",
        "model = Model(inputs=input_layer, outputs=out)\n",
        "\n",
        "model.compile(loss='categorical_crossentropy',\n",
        "              optimizer='rmsprop',\n",
        "              metrics=['accuracy'])\n",
        "\n",
        "model.summary()"
      ],
      "execution_count": 19,
      "outputs": [
        {
          "output_type": "stream",
          "text": [
            "__________________________________________________________________________________________________\n",
            "Layer (type)                    Output Shape         Param #     Connected to                     \n",
            "==================================================================================================\n",
            "input_1 (InputLayer)            (None, 32)           0                                            \n",
            "__________________________________________________________________________________________________\n",
            "embedding_1 (Embedding)         (None, 32, 100)      13091400    input_1[0][0]                    \n",
            "__________________________________________________________________________________________________\n",
            "conv1d_1 (Conv1D)               (None, 32, 50)       5050        embedding_1[0][0]                \n",
            "__________________________________________________________________________________________________\n",
            "conv1d_2 (Conv1D)               (None, 31, 50)       10050       embedding_1[0][0]                \n",
            "__________________________________________________________________________________________________\n",
            "conv1d_3 (Conv1D)               (None, 28, 50)       25050       embedding_1[0][0]                \n",
            "__________________________________________________________________________________________________\n",
            "global_max_pooling1d_1 (GlobalM (None, 50)           0           conv1d_1[0][0]                   \n",
            "__________________________________________________________________________________________________\n",
            "global_max_pooling1d_2 (GlobalM (None, 50)           0           conv1d_2[0][0]                   \n",
            "__________________________________________________________________________________________________\n",
            "global_max_pooling1d_3 (GlobalM (None, 50)           0           conv1d_3[0][0]                   \n",
            "__________________________________________________________________________________________________\n",
            "concatenate_1 (Concatenate)     (None, 150)          0           global_max_pooling1d_1[0][0]     \n",
            "                                                                 global_max_pooling1d_2[0][0]     \n",
            "                                                                 global_max_pooling1d_3[0][0]     \n",
            "__________________________________________________________________________________________________\n",
            "dense_1 (Dense)                 (None, 100)          15100       concatenate_1[0][0]              \n",
            "__________________________________________________________________________________________________\n",
            "dropout_1 (Dropout)             (None, 100)          0           dense_1[0][0]                    \n",
            "__________________________________________________________________________________________________\n",
            "dense_2 (Dense)                 (None, 100)          10100       dropout_1[0][0]                  \n",
            "__________________________________________________________________________________________________\n",
            "dropout_2 (Dropout)             (None, 100)          0           dense_2[0][0]                    \n",
            "__________________________________________________________________________________________________\n",
            "dense_3 (Dense)                 (None, 2)            202         dropout_2[0][0]                  \n",
            "==================================================================================================\n",
            "Total params: 13,156,952\n",
            "Trainable params: 13,156,952\n",
            "Non-trainable params: 0\n",
            "__________________________________________________________________________________________________\n"
          ],
          "name": "stdout"
        }
      ]
    },
    {
      "metadata": {
        "id": "P1iECwnWJN2K",
        "colab_type": "code",
        "colab": {
          "autoexec": {
            "startup": false,
            "wait_interval": 0
          },
          "base_uri": "https://localhost:8080/",
          "height": 768
        },
        "outputId": "d013c56a-ade3-4b61-f592-73297097c266",
        "executionInfo": {
          "status": "ok",
          "timestamp": 1531999958437,
          "user_tz": -120,
          "elapsed": 2007055,
          "user": {
            "displayName": "Guillermo Pedernal",
            "photoUrl": "//lh4.googleusercontent.com/-c67Vnm1lekk/AAAAAAAAAAI/AAAAAAAAAD4/_p61UmeZ47E/s50-c-k-no/photo.jpg",
            "userId": "101927487601652154517"
          }
        }
      },
      "cell_type": "code",
      "source": [
        "print(splits['train'][0].shape)\n",
        "print(splits['train'][1].shape)\n",
        "    \n",
        "\n",
        "model.fit(splits['train'][0], splits['train'][1],\n",
        "          epochs=20,\n",
        "          batch_size=16)"
      ],
      "execution_count": 20,
      "outputs": [
        {
          "output_type": "stream",
          "text": [
            "(76191, 32)\n",
            "(76191, 2)\n",
            "Epoch 1/20\n",
            "40144/76191 [==============>...............] - ETA: 49s - loss: 0.5460 - acc: 0.7247"
          ],
          "name": "stdout"
        },
        {
          "output_type": "stream",
          "text": [
            "76191/76191 [==============================] - 103s 1ms/step - loss: 0.5291 - acc: 0.7413\n",
            "Epoch 2/20\n",
            " 9424/76191 [==>...........................] - ETA: 1:27 - loss: 0.4725 - acc: 0.7871"
          ],
          "name": "stdout"
        },
        {
          "output_type": "stream",
          "text": [
            "75328/76191 [============================>.] - ETA: 1s - loss: 0.4788 - acc: 0.7856"
          ],
          "name": "stdout"
        },
        {
          "output_type": "stream",
          "text": [
            "76191/76191 [==============================] - 100s 1ms/step - loss: 0.4790 - acc: 0.7857\n",
            "Epoch 3/20\n",
            "25280/76191 [========>.....................] - ETA: 1:06 - loss: 0.4615 - acc: 0.8003"
          ],
          "name": "stdout"
        },
        {
          "output_type": "stream",
          "text": [
            "76191/76191 [==============================] - 100s 1ms/step - loss: 0.4664 - acc: 0.8009\n",
            "Epoch 4/20\n",
            " 2704/76191 [>.............................] - ETA: 1:36 - loss: 0.4237 - acc: 0.8384"
          ],
          "name": "stdout"
        },
        {
          "output_type": "stream",
          "text": [
            "76191/76191 [==============================] - 100s 1ms/step - loss: 0.4600 - acc: 0.8097\n"
          ],
          "name": "stdout"
        },
        {
          "output_type": "stream",
          "text": [
            "Epoch 5/20\n",
            "76160/76191 [============================>.] - ETA: 0s - loss: 0.4545 - acc: 0.8169"
          ],
          "name": "stdout"
        },
        {
          "output_type": "stream",
          "text": [
            "76191/76191 [==============================] - 100s 1ms/step - loss: 0.4545 - acc: 0.8169\n",
            "Epoch 6/20\n",
            "25584/76191 [=========>....................] - ETA: 1:06 - loss: 0.4289 - acc: 0.8316"
          ],
          "name": "stdout"
        },
        {
          "output_type": "stream",
          "text": [
            "76191/76191 [==============================] - 100s 1ms/step - loss: 0.4452 - acc: 0.8255\n",
            "Epoch 7/20\n",
            " 2736/76191 [>.............................] - ETA: 1:36 - loss: 0.4309 - acc: 0.8249"
          ],
          "name": "stdout"
        },
        {
          "output_type": "stream",
          "text": [
            "62720/76191 [=======================>......] - ETA: 17s - loss: 0.4297 - acc: 0.8330"
          ],
          "name": "stdout"
        },
        {
          "output_type": "stream",
          "text": [
            "76191/76191 [==============================] - 100s 1ms/step - loss: 0.4327 - acc: 0.8317\n",
            "Epoch 8/20\n",
            "19664/76191 [======>.......................] - ETA: 1:14 - loss: 0.4016 - acc: 0.8472"
          ],
          "name": "stdout"
        },
        {
          "output_type": "stream",
          "text": [
            "76191/76191 [==============================] - 100s 1ms/step - loss: 0.4247 - acc: 0.8384\n",
            "Epoch 9/20\n",
            "   64/76191 [..............................] - ETA: 1:45 - loss: 0.4596 - acc: 0.8125"
          ],
          "name": "stdout"
        },
        {
          "output_type": "stream",
          "text": [
            "76191/76191 [==============================] - 100s 1ms/step - loss: 0.4261 - acc: 0.8435\n"
          ],
          "name": "stdout"
        },
        {
          "output_type": "stream",
          "text": [
            "Epoch 10/20\n",
            "76176/76191 [============================>.] - ETA: 0s - loss: 0.4309 - acc: 0.8525"
          ],
          "name": "stdout"
        },
        {
          "output_type": "stream",
          "text": [
            "76191/76191 [==============================] - 100s 1ms/step - loss: 0.4309 - acc: 0.8525\n",
            "Epoch 11/20\n",
            "25456/76191 [=========>....................] - ETA: 1:06 - loss: 0.4111 - acc: 0.8683"
          ],
          "name": "stdout"
        },
        {
          "output_type": "stream",
          "text": [
            "76191/76191 [==============================] - 100s 1ms/step - loss: 0.4210 - acc: 0.8599\n",
            "Epoch 12/20\n",
            " 2752/76191 [>.............................] - ETA: 1:36 - loss: 0.4169 - acc: 0.8612"
          ],
          "name": "stdout"
        },
        {
          "output_type": "stream",
          "text": [
            "76191/76191 [==============================] - 100s 1ms/step - loss: 0.4163 - acc: 0.8671\n"
          ],
          "name": "stdout"
        },
        {
          "output_type": "stream",
          "text": [
            "Epoch 13/20\n",
            "76160/76191 [============================>.] - ETA: 0s - loss: 0.3992 - acc: 0.8711"
          ],
          "name": "stdout"
        },
        {
          "output_type": "stream",
          "text": [
            "\b\b\b\b\b\b\b\b\b\b\b\b\b\b\b\b\b\b\b\b\b\b\b\b\b\b\b\b\b\b\b\b\b\b\b\b\b\b\b\b\b\b\b\b\b\b\b\b\b\b\b\b\b\b\b\b\b\b\b\b\b\b\b\b\b\b\b\b\b\b\b\b\b\b\b\b\b\b\b\b\b\b\b\r76191/76191 [==============================] - 100s 1ms/step - loss: 0.3992 - acc: 0.8710\n",
            "Epoch 14/20\n",
            "17520/76191 [=====>........................] - ETA: 1:17 - loss: 0.3729 - acc: 0.8826"
          ],
          "name": "stdout"
        },
        {
          "output_type": "stream",
          "text": [
            "76191/76191 [==============================] - 100s 1ms/step - loss: 0.4040 - acc: 0.8773\n"
          ],
          "name": "stdout"
        },
        {
          "output_type": "stream",
          "text": [
            "Epoch 15/20\n",
            "76144/76191 [============================>.] - ETA: 0s - loss: 0.4004 - acc: 0.8832"
          ],
          "name": "stdout"
        },
        {
          "output_type": "stream",
          "text": [
            "76191/76191 [==============================] - 100s 1ms/step - loss: 0.4006 - acc: 0.8832\n",
            "Epoch 16/20\n",
            "25472/76191 [=========>....................] - ETA: 1:06 - loss: 0.4020 - acc: 0.8879"
          ],
          "name": "stdout"
        },
        {
          "output_type": "stream",
          "text": [
            "76191/76191 [==============================] - 100s 1ms/step - loss: 0.3996 - acc: 0.8864\n",
            "Epoch 17/20\n",
            " 2672/76191 [>.............................] - ETA: 1:38 - loss: 0.3408 - acc: 0.8967"
          ],
          "name": "stdout"
        },
        {
          "output_type": "stream",
          "text": [
            "74656/76191 [============================>.] - ETA: 2s - loss: 0.4208 - acc: 0.8929"
          ],
          "name": "stdout"
        },
        {
          "output_type": "stream",
          "text": [
            "76191/76191 [==============================] - 100s 1ms/step - loss: 0.4199 - acc: 0.8929\n",
            "Epoch 18/20\n",
            "24592/76191 [========>.....................] - ETA: 1:08 - loss: 0.3705 - acc: 0.9035"
          ],
          "name": "stdout"
        },
        {
          "output_type": "stream",
          "text": [
            "76191/76191 [==============================] - 100s 1ms/step - loss: 0.3941 - acc: 0.8975\n",
            "Epoch 19/20\n",
            " 2320/76191 [..............................] - ETA: 1:37 - loss: 0.3630 - acc: 0.9030"
          ],
          "name": "stdout"
        },
        {
          "output_type": "stream",
          "text": [
            "76191/76191 [==============================] - 100s 1ms/step - loss: 0.3910 - acc: 0.9034\n"
          ],
          "name": "stdout"
        },
        {
          "output_type": "stream",
          "text": [
            "Epoch 20/20\n",
            "76144/76191 [============================>.] - ETA: 0s - loss: 0.4094 - acc: 0.9079"
          ],
          "name": "stdout"
        },
        {
          "output_type": "stream",
          "text": [
            "\b\b\b\b\b\b\b\b\b\b\b\b\b\b\b\b\b\b\b\b\b\b\b\b\b\b\b\b\b\b\b\b\b\b\b\b\b\b\b\b\b\b\b\b\b\b\b\b\b\b\b\b\b\b\b\b\b\b\b\b\b\b\b\b\b\b\b\b\b\b\b\b\b\b\b\b\b\b\b\b\b\b\b\r76191/76191 [==============================] - 99s 1ms/step - loss: 0.4096 - acc: 0.9079\n"
          ],
          "name": "stdout"
        },
        {
          "output_type": "execute_result",
          "data": {
            "text/plain": [
              "<keras.callbacks.History at 0x7fbd51afb9e8>"
            ]
          },
          "metadata": {
            "tags": []
          },
          "execution_count": 20
        }
      ]
    },
    {
      "metadata": {
        "id": "SvRIgWbYXqZN",
        "colab_type": "code",
        "colab": {
          "autoexec": {
            "startup": false,
            "wait_interval": 0
          },
          "base_uri": "https://localhost:8080/",
          "height": 51
        },
        "outputId": "36ddcce8-6a8d-4465-e4a8-15053a4f8fc0",
        "executionInfo": {
          "status": "ok",
          "timestamp": 1532000910321,
          "user_tz": -120,
          "elapsed": 3167,
          "user": {
            "displayName": "Guillermo Pedernal",
            "photoUrl": "//lh4.googleusercontent.com/-c67Vnm1lekk/AAAAAAAAAAI/AAAAAAAAAD4/_p61UmeZ47E/s50-c-k-no/photo.jpg",
            "userId": "101927487601652154517"
          }
        }
      },
      "cell_type": "code",
      "source": [
        "score_cnn = model.evaluate(splits['test'][0], splits['test'][1], batch_size=16)\n",
        "score_cnn"
      ],
      "execution_count": 21,
      "outputs": [
        {
          "output_type": "stream",
          "text": [
            "19048/19048 [==============================] - 3s 148us/step\n"
          ],
          "name": "stdout"
        },
        {
          "output_type": "execute_result",
          "data": {
            "text/plain": [
              "[1.0213146162278408, 0.759134817303654]"
            ]
          },
          "metadata": {
            "tags": []
          },
          "execution_count": 21
        }
      ]
    },
    {
      "metadata": {
        "id": "uDxGHQvsYpga",
        "colab_type": "text"
      },
      "cell_type": "markdown",
      "source": [
        "Hemos conseguido una accuracy del 75% en 20 epocas."
      ]
    },
    {
      "metadata": {
        "id": "Evszh16eYvxF",
        "colab_type": "text"
      },
      "cell_type": "markdown",
      "source": [
        "## Sentiment Analysis with Politics"
      ]
    },
    {
      "metadata": {
        "id": "vthF8k2EYv6Y",
        "colab_type": "text"
      },
      "cell_type": "markdown",
      "source": [
        "## Tweet Analysis"
      ]
    },
    {
      "metadata": {
        "id": "2xDW2iP_hEiS",
        "colab_type": "text"
      },
      "cell_type": "markdown",
      "source": [
        "Para la segunda parte de la practica vamos a utilizar un nuevo dataset. El objetivo de este primer apartado es analizar los tweets de los que se compone el segundo dataset. Vamos a hacer un clustering (topic modelling con algoritmo LDA) para ver de que hablan estos tweets. "
      ]
    },
    {
      "metadata": {
        "id": "oEiVY7foZrtU",
        "colab_type": "code",
        "colab": {
          "autoexec": {
            "startup": false,
            "wait_interval": 0
          },
          "resources": {
            "http://localhost:8080/nbextensions/google.colab/files.js": {
              "data": "Ly8gQ29weXJpZ2h0IDIwMTcgR29vZ2xlIExMQwovLwovLyBMaWNlbnNlZCB1bmRlciB0aGUgQXBhY2hlIExpY2Vuc2UsIFZlcnNpb24gMi4wICh0aGUgIkxpY2Vuc2UiKTsKLy8geW91IG1heSBub3QgdXNlIHRoaXMgZmlsZSBleGNlcHQgaW4gY29tcGxpYW5jZSB3aXRoIHRoZSBMaWNlbnNlLgovLyBZb3UgbWF5IG9idGFpbiBhIGNvcHkgb2YgdGhlIExpY2Vuc2UgYXQKLy8KLy8gICAgICBodHRwOi8vd3d3LmFwYWNoZS5vcmcvbGljZW5zZXMvTElDRU5TRS0yLjAKLy8KLy8gVW5sZXNzIHJlcXVpcmVkIGJ5IGFwcGxpY2FibGUgbGF3IG9yIGFncmVlZCB0byBpbiB3cml0aW5nLCBzb2Z0d2FyZQovLyBkaXN0cmlidXRlZCB1bmRlciB0aGUgTGljZW5zZSBpcyBkaXN0cmlidXRlZCBvbiBhbiAiQVMgSVMiIEJBU0lTLAovLyBXSVRIT1VUIFdBUlJBTlRJRVMgT1IgQ09ORElUSU9OUyBPRiBBTlkgS0lORCwgZWl0aGVyIGV4cHJlc3Mgb3IgaW1wbGllZC4KLy8gU2VlIHRoZSBMaWNlbnNlIGZvciB0aGUgc3BlY2lmaWMgbGFuZ3VhZ2UgZ292ZXJuaW5nIHBlcm1pc3Npb25zIGFuZAovLyBsaW1pdGF0aW9ucyB1bmRlciB0aGUgTGljZW5zZS4KCi8qKgogKiBAZmlsZW92ZXJ2aWV3IEhlbHBlcnMgZm9yIGdvb2dsZS5jb2xhYiBQeXRob24gbW9kdWxlLgogKi8KKGZ1bmN0aW9uKHNjb3BlKSB7CmZ1bmN0aW9uIHNwYW4odGV4dCwgc3R5bGVBdHRyaWJ1dGVzID0ge30pIHsKICBjb25zdCBlbGVtZW50ID0gZG9jdW1lbnQuY3JlYXRlRWxlbWVudCgnc3BhbicpOwogIGVsZW1lbnQudGV4dENvbnRlbnQgPSB0ZXh0OwogIGZvciAoY29uc3Qga2V5IG9mIE9iamVjdC5rZXlzKHN0eWxlQXR0cmlidXRlcykpIHsKICAgIGVsZW1lbnQuc3R5bGVba2V5XSA9IHN0eWxlQXR0cmlidXRlc1trZXldOwogIH0KICByZXR1cm4gZWxlbWVudDsKfQoKLy8gTWF4IG51bWJlciBvZiBieXRlcyB3aGljaCB3aWxsIGJlIHVwbG9hZGVkIGF0IGEgdGltZS4KY29uc3QgTUFYX1BBWUxPQURfU0laRSA9IDEwMCAqIDEwMjQ7Ci8vIE1heCBhbW91bnQgb2YgdGltZSB0byBibG9jayB3YWl0aW5nIGZvciB0aGUgdXNlci4KY29uc3QgRklMRV9DSEFOR0VfVElNRU9VVF9NUyA9IDMwICogMTAwMDsKCmZ1bmN0aW9uIF91cGxvYWRGaWxlcyhpbnB1dElkLCBvdXRwdXRJZCkgewogIGNvbnN0IHN0ZXBzID0gdXBsb2FkRmlsZXNTdGVwKGlucHV0SWQsIG91dHB1dElkKTsKICBjb25zdCBvdXRwdXRFbGVtZW50ID0gZG9jdW1lbnQuZ2V0RWxlbWVudEJ5SWQob3V0cHV0SWQpOwogIC8vIENhY2hlIHN0ZXBzIG9uIHRoZSBvdXRwdXRFbGVtZW50IHRvIG1ha2UgaXQgYXZhaWxhYmxlIGZvciB0aGUgbmV4dCBjYWxsCiAgLy8gdG8gdXBsb2FkRmlsZXNDb250aW51ZSBmcm9tIFB5dGhvbi4KICBvdXRwdXRFbGVtZW50LnN0ZXBzID0gc3RlcHM7CgogIHJldHVybiBfdXBsb2FkRmlsZXNDb250aW51ZShvdXRwdXRJZCk7Cn0KCi8vIFRoaXMgaXMgcm91Z2hseSBhbiBhc3luYyBnZW5lcmF0b3IgKG5vdCBzdXBwb3J0ZWQgaW4gdGhlIGJyb3dzZXIgeWV0KSwKLy8gd2hlcmUgdGhlcmUgYXJlIG11bHRpcGxlIGFzeW5jaHJvbm91cyBzdGVwcyBhbmQgdGhlIFB5dGhvbiBzaWRlIGlzIGdvaW5nCi8vIHRvIHBvbGwgZm9yIGNvbXBsZXRpb24gb2YgZWFjaCBzdGVwLgovLyBUaGlzIHVzZXMgYSBQcm9taXNlIHRvIGJsb2NrIHRoZSBweXRob24gc2lkZSBvbiBjb21wbGV0aW9uIG9mIGVhY2ggc3RlcCwKLy8gdGhlbiBwYXNzZXMgdGhlIHJlc3VsdCBvZiB0aGUgcHJldmlvdXMgc3RlcCBhcyB0aGUgaW5wdXQgdG8gdGhlIG5leHQgc3RlcC4KZnVuY3Rpb24gX3VwbG9hZEZpbGVzQ29udGludWUob3V0cHV0SWQpIHsKICBjb25zdCBvdXRwdXRFbGVtZW50ID0gZG9jdW1lbnQuZ2V0RWxlbWVudEJ5SWQob3V0cHV0SWQpOwogIGNvbnN0IHN0ZXBzID0gb3V0cHV0RWxlbWVudC5zdGVwczsKCiAgY29uc3QgbmV4dCA9IHN0ZXBzLm5leHQob3V0cHV0RWxlbWVudC5sYXN0UHJvbWlzZVZhbHVlKTsKICByZXR1cm4gUHJvbWlzZS5yZXNvbHZlKG5leHQudmFsdWUucHJvbWlzZSkudGhlbigodmFsdWUpID0+IHsKICAgIC8vIENhY2hlIHRoZSBsYXN0IHByb21pc2UgdmFsdWUgdG8gbWFrZSBpdCBhdmFpbGFibGUgdG8gdGhlIG5leHQKICAgIC8vIHN0ZXAgb2YgdGhlIGdlbmVyYXRvci4KICAgIG91dHB1dEVsZW1lbnQubGFzdFByb21pc2VWYWx1ZSA9IHZhbHVlOwogICAgcmV0dXJuIG5leHQudmFsdWUucmVzcG9uc2U7CiAgfSk7Cn0KCi8qKgogKiBHZW5lcmF0b3IgZnVuY3Rpb24gd2hpY2ggaXMgY2FsbGVkIGJldHdlZW4gZWFjaCBhc3luYyBzdGVwIG9mIHRoZSB1cGxvYWQKICogcHJvY2Vzcy4KICogQHBhcmFtIHtzdHJpbmd9IGlucHV0SWQgRWxlbWVudCBJRCBvZiB0aGUgaW5wdXQgZmlsZSBwaWNrZXIgZWxlbWVudC4KICogQHBhcmFtIHtzdHJpbmd9IG91dHB1dElkIEVsZW1lbnQgSUQgb2YgdGhlIG91dHB1dCBkaXNwbGF5LgogKiBAcmV0dXJuIHshSXRlcmFibGU8IU9iamVjdD59IEl0ZXJhYmxlIG9mIG5leHQgc3RlcHMuCiAqLwpmdW5jdGlvbiogdXBsb2FkRmlsZXNTdGVwKGlucHV0SWQsIG91dHB1dElkKSB7CiAgY29uc3QgaW5wdXRFbGVtZW50ID0gZG9jdW1lbnQuZ2V0RWxlbWVudEJ5SWQoaW5wdXRJZCk7CiAgaW5wdXRFbGVtZW50LmRpc2FibGVkID0gZmFsc2U7CgogIGNvbnN0IG91dHB1dEVsZW1lbnQgPSBkb2N1bWVudC5nZXRFbGVtZW50QnlJZChvdXRwdXRJZCk7CiAgb3V0cHV0RWxlbWVudC5pbm5lckhUTUwgPSAnJzsKCiAgY29uc3QgcGlja2VkUHJvbWlzZSA9IG5ldyBQcm9taXNlKChyZXNvbHZlKSA9PiB7CiAgICBpbnB1dEVsZW1lbnQuYWRkRXZlbnRMaXN0ZW5lcignY2hhbmdlJywgKGUpID0+IHsKICAgICAgcmVzb2x2ZShlLnRhcmdldC5maWxlcyk7CiAgICB9KTsKICB9KTsKCiAgY29uc3QgY2FuY2VsID0gZG9jdW1lbnQuY3JlYXRlRWxlbWVudCgnYnV0dG9uJyk7CiAgaW5wdXRFbGVtZW50LnBhcmVudEVsZW1lbnQuYXBwZW5kQ2hpbGQoY2FuY2VsKTsKICBjYW5jZWwudGV4dENvbnRlbnQgPSAnQ2FuY2VsIHVwbG9hZCc7CiAgY29uc3QgY2FuY2VsUHJvbWlzZSA9IG5ldyBQcm9taXNlKChyZXNvbHZlKSA9PiB7CiAgICBjYW5jZWwub25jbGljayA9ICgpID0+IHsKICAgICAgcmVzb2x2ZShudWxsKTsKICAgIH07CiAgfSk7CgogIC8vIENhbmNlbCB1cGxvYWQgaWYgdXNlciBoYXNuJ3QgcGlja2VkIGFueXRoaW5nIGluIHRpbWVvdXQuCiAgY29uc3QgdGltZW91dFByb21pc2UgPSBuZXcgUHJvbWlzZSgocmVzb2x2ZSkgPT4gewogICAgc2V0VGltZW91dCgoKSA9PiB7CiAgICAgIHJlc29sdmUobnVsbCk7CiAgICB9LCBGSUxFX0NIQU5HRV9USU1FT1VUX01TKTsKICB9KTsKCiAgLy8gV2FpdCBmb3IgdGhlIHVzZXIgdG8gcGljayB0aGUgZmlsZXMuCiAgY29uc3QgZmlsZXMgPSB5aWVsZCB7CiAgICBwcm9taXNlOiBQcm9taXNlLnJhY2UoW3BpY2tlZFByb21pc2UsIHRpbWVvdXRQcm9taXNlLCBjYW5jZWxQcm9taXNlXSksCiAgICByZXNwb25zZTogewogICAgICBhY3Rpb246ICdzdGFydGluZycsCiAgICB9CiAgfTsKCiAgaWYgKCFmaWxlcykgewogICAgcmV0dXJuIHsKICAgICAgcmVzcG9uc2U6IHsKICAgICAgICBhY3Rpb246ICdjb21wbGV0ZScsCiAgICAgIH0KICAgIH07CiAgfQoKICBjYW5jZWwucmVtb3ZlKCk7CgogIC8vIERpc2FibGUgdGhlIGlucHV0IGVsZW1lbnQgc2luY2UgZnVydGhlciBwaWNrcyBhcmUgbm90IGFsbG93ZWQuCiAgaW5wdXRFbGVtZW50LmRpc2FibGVkID0gdHJ1ZTsKCiAgZm9yIChjb25zdCBmaWxlIG9mIGZpbGVzKSB7CiAgICBjb25zdCBsaSA9IGRvY3VtZW50LmNyZWF0ZUVsZW1lbnQoJ2xpJyk7CiAgICBsaS5hcHBlbmQoc3BhbihmaWxlLm5hbWUsIHtmb250V2VpZ2h0OiAnYm9sZCd9KSk7CiAgICBsaS5hcHBlbmQoc3BhbigKICAgICAgICBgKCR7ZmlsZS50eXBlIHx8ICduL2EnfSkgLSAke2ZpbGUuc2l6ZX0gYnl0ZXMsIGAgKwogICAgICAgIGBsYXN0IG1vZGlmaWVkOiAkewogICAgICAgICAgICBmaWxlLmxhc3RNb2RpZmllZERhdGUgPyBmaWxlLmxhc3RNb2RpZmllZERhdGUudG9Mb2NhbGVEYXRlU3RyaW5nKCkgOgogICAgICAgICAgICAgICAgICAgICAgICAgICAgICAgICAgICAnbi9hJ30gLSBgKSk7CiAgICBjb25zdCBwZXJjZW50ID0gc3BhbignMCUgZG9uZScpOwogICAgbGkuYXBwZW5kQ2hpbGQocGVyY2VudCk7CgogICAgb3V0cHV0RWxlbWVudC5hcHBlbmRDaGlsZChsaSk7CgogICAgY29uc3QgZmlsZURhdGFQcm9taXNlID0gbmV3IFByb21pc2UoKHJlc29sdmUpID0+IHsKICAgICAgY29uc3QgcmVhZGVyID0gbmV3IEZpbGVSZWFkZXIoKTsKICAgICAgcmVhZGVyLm9ubG9hZCA9IChlKSA9PiB7CiAgICAgICAgcmVzb2x2ZShlLnRhcmdldC5yZXN1bHQpOwogICAgICB9OwogICAgICByZWFkZXIucmVhZEFzQXJyYXlCdWZmZXIoZmlsZSk7CiAgICB9KTsKICAgIC8vIFdhaXQgZm9yIHRoZSBkYXRhIHRvIGJlIHJlYWR5LgogICAgbGV0IGZpbGVEYXRhID0geWllbGQgewogICAgICBwcm9taXNlOiBmaWxlRGF0YVByb21pc2UsCiAgICAgIHJlc3BvbnNlOiB7CiAgICAgICAgYWN0aW9uOiAnY29udGludWUnLAogICAgICB9CiAgICB9OwoKICAgIC8vIFVzZSBhIGNodW5rZWQgc2VuZGluZyB0byBhdm9pZCBtZXNzYWdlIHNpemUgbGltaXRzLiBTZWUgYi82MjExNTY2MC4KICAgIGxldCBwb3NpdGlvbiA9IDA7CiAgICB3aGlsZSAocG9zaXRpb24gPCBmaWxlRGF0YS5ieXRlTGVuZ3RoKSB7CiAgICAgIGNvbnN0IGxlbmd0aCA9IE1hdGgubWluKGZpbGVEYXRhLmJ5dGVMZW5ndGggLSBwb3NpdGlvbiwgTUFYX1BBWUxPQURfU0laRSk7CiAgICAgIGNvbnN0IGNodW5rID0gbmV3IFVpbnQ4QXJyYXkoZmlsZURhdGEsIHBvc2l0aW9uLCBsZW5ndGgpOwogICAgICBwb3NpdGlvbiArPSBsZW5ndGg7CgogICAgICBjb25zdCBiYXNlNjQgPSBidG9hKFN0cmluZy5mcm9tQ2hhckNvZGUuYXBwbHkobnVsbCwgY2h1bmspKTsKICAgICAgeWllbGQgewogICAgICAgIHJlc3BvbnNlOiB7CiAgICAgICAgICBhY3Rpb246ICdhcHBlbmQnLAogICAgICAgICAgZmlsZTogZmlsZS5uYW1lLAogICAgICAgICAgZGF0YTogYmFzZTY0LAogICAgICAgIH0sCiAgICAgIH07CiAgICAgIHBlcmNlbnQudGV4dENvbnRlbnQgPQogICAgICAgICAgYCR7TWF0aC5yb3VuZCgocG9zaXRpb24gLyBmaWxlRGF0YS5ieXRlTGVuZ3RoKSAqIDEwMCl9JSBkb25lYDsKICAgIH0KICB9CgogIC8vIEFsbCBkb25lLgogIHlpZWxkIHsKICAgIHJlc3BvbnNlOiB7CiAgICAgIGFjdGlvbjogJ2NvbXBsZXRlJywKICAgIH0KICB9Owp9CgpzY29wZS5nb29nbGUgPSBzY29wZS5nb29nbGUgfHwge307CnNjb3BlLmdvb2dsZS5jb2xhYiA9IHNjb3BlLmdvb2dsZS5jb2xhYiB8fCB7fTsKc2NvcGUuZ29vZ2xlLmNvbGFiLl9maWxlcyA9IHsKICBfdXBsb2FkRmlsZXMsCiAgX3VwbG9hZEZpbGVzQ29udGludWUsCn07Cn0pKHNlbGYpOwo=",
              "ok": true,
              "headers": [
                [
                  "content-type",
                  "application/javascript"
                ]
              ],
              "status": 200,
              "status_text": ""
            }
          },
          "base_uri": "https://localhost:8080/",
          "height": 86
        },
        "outputId": "f91dbfa6-582d-4348-d8d3-413c50aafca1",
        "executionInfo": {
          "status": "ok",
          "timestamp": 1532043480582,
          "user_tz": -120,
          "elapsed": 18014,
          "user": {
            "displayName": "Guillermo Pedernal",
            "photoUrl": "//lh4.googleusercontent.com/-c67Vnm1lekk/AAAAAAAAAAI/AAAAAAAAAD4/_p61UmeZ47E/s50-c-k-no/photo.jpg",
            "userId": "101927487601652154517"
          }
        }
      },
      "cell_type": "code",
      "source": [
        "#Code aquí\n",
        "from google.colab import files\n",
        "import io\n",
        "import pandas as pd\n",
        "\n",
        "uploaded2 = files.upload()\n",
        "\n",
        "for fn in uploaded2.keys():\n",
        "  print('User uploaded file \"{name}\" with length {length} bytes'.format(\n",
        "      name=fn, length=len(uploaded2[fn])))"
      ],
      "execution_count": 5,
      "outputs": [
        {
          "output_type": "display_data",
          "data": {
            "text/html": [
              "\n",
              "     <input type=\"file\" id=\"files-5f82ad14-2c78-4d4b-b7a9-747cac4ef422\" name=\"files[]\" multiple disabled />\n",
              "     <output id=\"result-5f82ad14-2c78-4d4b-b7a9-747cac4ef422\">\n",
              "      Upload widget is only available when the cell has been executed in the\n",
              "      current browser session. Please rerun this cell to enable.\n",
              "      </output>\n",
              "      <script src=\"/nbextensions/google.colab/files.js\"></script> "
            ],
            "text/plain": [
              "<IPython.core.display.HTML object>"
            ]
          },
          "metadata": {
            "tags": []
          }
        },
        {
          "output_type": "stream",
          "text": [
            "Saving dataset2.json to dataset2.json\n",
            "User uploaded file \"dataset2.json\" with length 1070528 bytes\n"
          ],
          "name": "stdout"
        }
      ]
    },
    {
      "metadata": {
        "id": "nmUhwnkYhNpD",
        "colab_type": "code",
        "colab": {
          "autoexec": {
            "startup": false,
            "wait_interval": 0
          },
          "base_uri": "https://localhost:8080/",
          "height": 296
        },
        "outputId": "d8f9d1fa-7590-436e-c4d8-b74935f18e10",
        "executionInfo": {
          "status": "ok",
          "timestamp": 1532043489871,
          "user_tz": -120,
          "elapsed": 1719,
          "user": {
            "displayName": "Guillermo Pedernal",
            "photoUrl": "//lh4.googleusercontent.com/-c67Vnm1lekk/AAAAAAAAAAI/AAAAAAAAAD4/_p61UmeZ47E/s50-c-k-no/photo.jpg",
            "userId": "101927487601652154517"
          }
        }
      },
      "cell_type": "code",
      "source": [
        "df2 = pd.read_json(io.StringIO(uploaded2['dataset2.json'].decode('utf-8')))\n",
        "df2"
      ],
      "execution_count": 6,
      "outputs": [
        {
          "output_type": "execute_result",
          "data": {
            "text/html": [
              "<div>\n",
              "<style scoped>\n",
              "    .dataframe tbody tr th:only-of-type {\n",
              "        vertical-align: middle;\n",
              "    }\n",
              "\n",
              "    .dataframe tbody tr th {\n",
              "        vertical-align: top;\n",
              "    }\n",
              "\n",
              "    .dataframe thead th {\n",
              "        text-align: right;\n",
              "    }\n",
              "</style>\n",
              "<table border=\"1\" class=\"dataframe\">\n",
              "  <thead>\n",
              "    <tr style=\"text-align: right;\">\n",
              "      <th></th>\n",
              "      <th>0</th>\n",
              "      <th>1</th>\n",
              "      <th>10</th>\n",
              "      <th>100</th>\n",
              "      <th>1000</th>\n",
              "      <th>1001</th>\n",
              "      <th>1002</th>\n",
              "      <th>1003</th>\n",
              "      <th>1004</th>\n",
              "      <th>1005</th>\n",
              "      <th>...</th>\n",
              "      <th>990</th>\n",
              "      <th>991</th>\n",
              "      <th>992</th>\n",
              "      <th>993</th>\n",
              "      <th>994</th>\n",
              "      <th>995</th>\n",
              "      <th>996</th>\n",
              "      <th>997</th>\n",
              "      <th>998</th>\n",
              "      <th>999</th>\n",
              "    </tr>\n",
              "  </thead>\n",
              "  <tbody>\n",
              "    <tr>\n",
              "      <th>label</th>\n",
              "      <td>OBAMA</td>\n",
              "      <td>OBAMA</td>\n",
              "      <td>OBAMA</td>\n",
              "      <td>OBAMA</td>\n",
              "      <td>OBAMA</td>\n",
              "      <td>OBAMA</td>\n",
              "      <td>OBAMA</td>\n",
              "      <td>OBAMA</td>\n",
              "      <td>OBAMA</td>\n",
              "      <td>OBAMA</td>\n",
              "      <td>...</td>\n",
              "      <td>OBAMA</td>\n",
              "      <td>OBAMA</td>\n",
              "      <td>OBAMA</td>\n",
              "      <td>OBAMA</td>\n",
              "      <td>OBAMA</td>\n",
              "      <td>OBAMA</td>\n",
              "      <td>OBAMA</td>\n",
              "      <td>OBAMA</td>\n",
              "      <td>OBAMA</td>\n",
              "      <td>OBAMA</td>\n",
              "    </tr>\n",
              "    <tr>\n",
              "      <th>tweet</th>\n",
              "      <td>“Low plastic stool, cheap but delicious noodle...</td>\n",
              "      <td>“Low plastic stool, cheap but delicious noodle...</td>\n",
              "      <td>Michelle and I are so inspired by all the youn...</td>\n",
              "      <td>Senate leaders' obstruction of our Supreme Cou...</td>\n",
              "      <td>In 31 states, people can still be fired becaus...</td>\n",
              "      <td>Seven down, one more to go. Make sure you tune...</td>\n",
              "      <td>Have you entered yet? You and a friend could w...</td>\n",
              "      <td>Check out five big victories that made 2015 a ...</td>\n",
              "      <td>Suit up—it's President Obama's final State of ...</td>\n",
              "      <td>You can still join the team fighting for progr...</td>\n",
              "      <td>...</td>\n",
              "      <td>You don't want to miss this. Say you'll tune i...</td>\n",
              "      <td>LAST CALL: You could be going on a seven-day c...</td>\n",
              "      <td>Thinking of ways you can help out over the nex...</td>\n",
              "      <td>DEADLINE: Chip in to help fund the fight for m...</td>\n",
              "      <td>You and a friend could be heading north. Enter...</td>\n",
              "      <td>TONIGHT: Come in with the clutch contribution ...</td>\n",
              "      <td>Global climate action became a reality this ye...</td>\n",
              "      <td>Chip in to help gear up for the big fights in ...</td>\n",
              "      <td>Here's your chance to get lost in the beauty o...</td>\n",
              "      <td>Get ready—the deadline to pitch in before the ...</td>\n",
              "    </tr>\n",
              "  </tbody>\n",
              "</table>\n",
              "<p>2 rows × 5889 columns</p>\n",
              "</div>"
            ],
            "text/plain": [
              "                                                    0     \\\n",
              "label                                              OBAMA   \n",
              "tweet  “Low plastic stool, cheap but delicious noodle...   \n",
              "\n",
              "                                                    1     \\\n",
              "label                                              OBAMA   \n",
              "tweet  “Low plastic stool, cheap but delicious noodle...   \n",
              "\n",
              "                                                    10    \\\n",
              "label                                              OBAMA   \n",
              "tweet  Michelle and I are so inspired by all the youn...   \n",
              "\n",
              "                                                    100   \\\n",
              "label                                              OBAMA   \n",
              "tweet  Senate leaders' obstruction of our Supreme Cou...   \n",
              "\n",
              "                                                    1000  \\\n",
              "label                                              OBAMA   \n",
              "tweet  In 31 states, people can still be fired becaus...   \n",
              "\n",
              "                                                    1001  \\\n",
              "label                                              OBAMA   \n",
              "tweet  Seven down, one more to go. Make sure you tune...   \n",
              "\n",
              "                                                    1002  \\\n",
              "label                                              OBAMA   \n",
              "tweet  Have you entered yet? You and a friend could w...   \n",
              "\n",
              "                                                    1003  \\\n",
              "label                                              OBAMA   \n",
              "tweet  Check out five big victories that made 2015 a ...   \n",
              "\n",
              "                                                    1004  \\\n",
              "label                                              OBAMA   \n",
              "tweet  Suit up—it's President Obama's final State of ...   \n",
              "\n",
              "                                                    1005  \\\n",
              "label                                              OBAMA   \n",
              "tweet  You can still join the team fighting for progr...   \n",
              "\n",
              "                             ...                          \\\n",
              "label                        ...                           \n",
              "tweet                        ...                           \n",
              "\n",
              "                                                    990   \\\n",
              "label                                              OBAMA   \n",
              "tweet  You don't want to miss this. Say you'll tune i...   \n",
              "\n",
              "                                                    991   \\\n",
              "label                                              OBAMA   \n",
              "tweet  LAST CALL: You could be going on a seven-day c...   \n",
              "\n",
              "                                                    992   \\\n",
              "label                                              OBAMA   \n",
              "tweet  Thinking of ways you can help out over the nex...   \n",
              "\n",
              "                                                    993   \\\n",
              "label                                              OBAMA   \n",
              "tweet  DEADLINE: Chip in to help fund the fight for m...   \n",
              "\n",
              "                                                    994   \\\n",
              "label                                              OBAMA   \n",
              "tweet  You and a friend could be heading north. Enter...   \n",
              "\n",
              "                                                    995   \\\n",
              "label                                              OBAMA   \n",
              "tweet  TONIGHT: Come in with the clutch contribution ...   \n",
              "\n",
              "                                                    996   \\\n",
              "label                                              OBAMA   \n",
              "tweet  Global climate action became a reality this ye...   \n",
              "\n",
              "                                                    997   \\\n",
              "label                                              OBAMA   \n",
              "tweet  Chip in to help gear up for the big fights in ...   \n",
              "\n",
              "                                                    998   \\\n",
              "label                                              OBAMA   \n",
              "tweet  Here's your chance to get lost in the beauty o...   \n",
              "\n",
              "                                                    999   \n",
              "label                                              OBAMA  \n",
              "tweet  Get ready—the deadline to pitch in before the ...  \n",
              "\n",
              "[2 rows x 5889 columns]"
            ]
          },
          "metadata": {
            "tags": []
          },
          "execution_count": 6
        }
      ]
    },
    {
      "metadata": {
        "id": "beF8LVwStuuB",
        "colab_type": "code",
        "colab": {
          "autoexec": {
            "startup": false,
            "wait_interval": 0
          },
          "base_uri": "https://localhost:8080/",
          "height": 359
        },
        "outputId": "92ee8498-65fe-4ba9-c608-f1be2a4a88e7",
        "executionInfo": {
          "status": "ok",
          "timestamp": 1532043494486,
          "user_tz": -120,
          "elapsed": 983,
          "user": {
            "displayName": "Guillermo Pedernal",
            "photoUrl": "//lh4.googleusercontent.com/-c67Vnm1lekk/AAAAAAAAAAI/AAAAAAAAAD4/_p61UmeZ47E/s50-c-k-no/photo.jpg",
            "userId": "101927487601652154517"
          }
        }
      },
      "cell_type": "code",
      "source": [
        "df2 = df2.T\n",
        "df2.head(10)"
      ],
      "execution_count": 7,
      "outputs": [
        {
          "output_type": "execute_result",
          "data": {
            "text/html": [
              "<div>\n",
              "<style scoped>\n",
              "    .dataframe tbody tr th:only-of-type {\n",
              "        vertical-align: middle;\n",
              "    }\n",
              "\n",
              "    .dataframe tbody tr th {\n",
              "        vertical-align: top;\n",
              "    }\n",
              "\n",
              "    .dataframe thead th {\n",
              "        text-align: right;\n",
              "    }\n",
              "</style>\n",
              "<table border=\"1\" class=\"dataframe\">\n",
              "  <thead>\n",
              "    <tr style=\"text-align: right;\">\n",
              "      <th></th>\n",
              "      <th>label</th>\n",
              "      <th>tweet</th>\n",
              "    </tr>\n",
              "  </thead>\n",
              "  <tbody>\n",
              "    <tr>\n",
              "      <th>0</th>\n",
              "      <td>OBAMA</td>\n",
              "      <td>“Low plastic stool, cheap but delicious noodle...</td>\n",
              "    </tr>\n",
              "    <tr>\n",
              "      <th>1</th>\n",
              "      <td>OBAMA</td>\n",
              "      <td>“Low plastic stool, cheap but delicious noodle...</td>\n",
              "    </tr>\n",
              "    <tr>\n",
              "      <th>10</th>\n",
              "      <td>OBAMA</td>\n",
              "      <td>Michelle and I are so inspired by all the youn...</td>\n",
              "    </tr>\n",
              "    <tr>\n",
              "      <th>100</th>\n",
              "      <td>OBAMA</td>\n",
              "      <td>Senate leaders' obstruction of our Supreme Cou...</td>\n",
              "    </tr>\n",
              "    <tr>\n",
              "      <th>1000</th>\n",
              "      <td>OBAMA</td>\n",
              "      <td>In 31 states, people can still be fired becaus...</td>\n",
              "    </tr>\n",
              "    <tr>\n",
              "      <th>1001</th>\n",
              "      <td>OBAMA</td>\n",
              "      <td>Seven down, one more to go. Make sure you tune...</td>\n",
              "    </tr>\n",
              "    <tr>\n",
              "      <th>1002</th>\n",
              "      <td>OBAMA</td>\n",
              "      <td>Have you entered yet? You and a friend could w...</td>\n",
              "    </tr>\n",
              "    <tr>\n",
              "      <th>1003</th>\n",
              "      <td>OBAMA</td>\n",
              "      <td>Check out five big victories that made 2015 a ...</td>\n",
              "    </tr>\n",
              "    <tr>\n",
              "      <th>1004</th>\n",
              "      <td>OBAMA</td>\n",
              "      <td>Suit up—it's President Obama's final State of ...</td>\n",
              "    </tr>\n",
              "    <tr>\n",
              "      <th>1005</th>\n",
              "      <td>OBAMA</td>\n",
              "      <td>You can still join the team fighting for progr...</td>\n",
              "    </tr>\n",
              "  </tbody>\n",
              "</table>\n",
              "</div>"
            ],
            "text/plain": [
              "      label                                              tweet\n",
              "0     OBAMA  “Low plastic stool, cheap but delicious noodle...\n",
              "1     OBAMA  “Low plastic stool, cheap but delicious noodle...\n",
              "10    OBAMA  Michelle and I are so inspired by all the youn...\n",
              "100   OBAMA  Senate leaders' obstruction of our Supreme Cou...\n",
              "1000  OBAMA  In 31 states, people can still be fired becaus...\n",
              "1001  OBAMA  Seven down, one more to go. Make sure you tune...\n",
              "1002  OBAMA  Have you entered yet? You and a friend could w...\n",
              "1003  OBAMA  Check out five big victories that made 2015 a ...\n",
              "1004  OBAMA  Suit up—it's President Obama's final State of ...\n",
              "1005  OBAMA  You can still join the team fighting for progr..."
            ]
          },
          "metadata": {
            "tags": []
          },
          "execution_count": 7
        }
      ]
    },
    {
      "metadata": {
        "id": "6CZeZLF2v4ji",
        "colab_type": "code",
        "colab": {
          "autoexec": {
            "startup": false,
            "wait_interval": 0
          },
          "base_uri": "https://localhost:8080/",
          "height": 153
        },
        "outputId": "95e0be9f-3f09-49c8-abac-3e35c5ebcc8e",
        "executionInfo": {
          "status": "ok",
          "timestamp": 1532007259781,
          "user_tz": -120,
          "elapsed": 3767,
          "user": {
            "displayName": "Guillermo Pedernal",
            "photoUrl": "//lh4.googleusercontent.com/-c67Vnm1lekk/AAAAAAAAAAI/AAAAAAAAAD4/_p61UmeZ47E/s50-c-k-no/photo.jpg",
            "userId": "101927487601652154517"
          }
        }
      },
      "cell_type": "code",
      "source": [
        "!pip install stop_words"
      ],
      "execution_count": 47,
      "outputs": [
        {
          "output_type": "stream",
          "text": [
            "Collecting stop_words\n",
            "  Downloading https://files.pythonhosted.org/packages/60/7f/8dee73924e2cb06a223523dd661856e9b32b17202bf9c20c77de2c154d72/stop-words-2015.2.23.1.tar.gz\n",
            "Building wheels for collected packages: stop-words\n",
            "  Running setup.py bdist_wheel for stop-words ... \u001b[?25l-\b \b\\\b \bdone\n",
            "\u001b[?25h  Stored in directory: /content/.cache/pip/wheels/d3/60/7e/bc83ee0496b334c47a572d498f029dc7be23a96a7166187885\n",
            "Successfully built stop-words\n",
            "Installing collected packages: stop-words\n",
            "Successfully installed stop-words-2015.2.23.1\n"
          ],
          "name": "stdout"
        }
      ]
    },
    {
      "metadata": {
        "id": "sV2dFll5vO3x",
        "colab_type": "code",
        "colab": {
          "autoexec": {
            "startup": false,
            "wait_interval": 0
          }
        }
      },
      "cell_type": "code",
      "source": [
        "import re\n",
        "from stop_words import get_stop_words\n",
        "from string import punctuation\n",
        "\n",
        "stop_words = get_stop_words('en') + list(punctuation) + [' ']\n",
        "\n",
        "documents = []\n",
        "for row in df2.iterrows():\n",
        "    _, info = row\n",
        "    _, q = info\n",
        "    q = re.sub(r'\\n', '', q)\n",
        "    q = [t.text for t in nlp(q.rstrip(), disable=['parser', 'tagger', 'ner']) if t.text not in stop_words]\n",
        "    documents.append(q)\n",
        "    "
      ],
      "execution_count": 0,
      "outputs": []
    },
    {
      "metadata": {
        "id": "GtQ2os4dwJJK",
        "colab_type": "code",
        "colab": {
          "autoexec": {
            "startup": false,
            "wait_interval": 0
          },
          "base_uri": "https://localhost:8080/",
          "height": 34
        },
        "outputId": "6000c405-4b52-4eea-dd48-179522cbd7e8",
        "executionInfo": {
          "status": "ok",
          "timestamp": 1532007494493,
          "user_tz": -120,
          "elapsed": 609,
          "user": {
            "displayName": "Guillermo Pedernal",
            "photoUrl": "//lh4.googleusercontent.com/-c67Vnm1lekk/AAAAAAAAAAI/AAAAAAAAAD4/_p61UmeZ47E/s50-c-k-no/photo.jpg",
            "userId": "101927487601652154517"
          }
        }
      },
      "cell_type": "code",
      "source": [
        "vocab2 = set([t for doc in documents for t in doc])\n",
        "w2id2 = {k:i for  i,k in enumerate(vocab2)}\n",
        "id2w2 = {i:k for k, i in w2id2.items()}\n",
        "print('{} unique tokens'.format(len(w2id2)))"
      ],
      "execution_count": 52,
      "outputs": [
        {
          "output_type": "stream",
          "text": [
            "14377 unique tokens\n"
          ],
          "name": "stdout"
        }
      ]
    },
    {
      "metadata": {
        "id": "HkCy0wffxJpJ",
        "colab_type": "code",
        "colab": {
          "autoexec": {
            "startup": false,
            "wait_interval": 0
          },
          "base_uri": "https://localhost:8080/",
          "height": 734
        },
        "outputId": "c95eb4e6-bf6a-44a6-bf2c-6d9012c0d5df",
        "executionInfo": {
          "status": "ok",
          "timestamp": 1532007623205,
          "user_tz": -120,
          "elapsed": 12128,
          "user": {
            "displayName": "Guillermo Pedernal",
            "photoUrl": "//lh4.googleusercontent.com/-c67Vnm1lekk/AAAAAAAAAAI/AAAAAAAAAD4/_p61UmeZ47E/s50-c-k-no/photo.jpg",
            "userId": "101927487601652154517"
          }
        }
      },
      "cell_type": "code",
      "source": [
        "!pip install gensim"
      ],
      "execution_count": 53,
      "outputs": [
        {
          "output_type": "stream",
          "text": [
            "Collecting gensim\n",
            "\u001b[?25l  Downloading https://files.pythonhosted.org/packages/86/f3/37504f07651330ddfdefa631ca5246974a60d0908216539efda842fd080f/gensim-3.5.0-cp36-cp36m-manylinux1_x86_64.whl (23.5MB)\n",
            "\u001b[K    100% |████████████████████████████████| 23.5MB 1.5MB/s \n",
            "\u001b[?25hCollecting smart-open>=1.2.1 (from gensim)\n",
            "  Downloading https://files.pythonhosted.org/packages/cf/3d/5f3a9a296d0ba8e00e263a8dee76762076b9eb5ddc254ccaa834651c8d65/smart_open-1.6.0.tar.gz\n",
            "Requirement already satisfied: scipy>=0.18.1 in /usr/local/lib/python3.6/dist-packages (from gensim) (0.19.1)\n",
            "Requirement already satisfied: six>=1.5.0 in /usr/local/lib/python3.6/dist-packages (from gensim) (1.11.0)\n",
            "Requirement already satisfied: numpy>=1.11.3 in /usr/local/lib/python3.6/dist-packages (from gensim) (1.14.5)\n",
            "Collecting boto>=2.32 (from smart-open>=1.2.1->gensim)\n",
            "\u001b[?25l  Downloading https://files.pythonhosted.org/packages/23/10/c0b78c27298029e4454a472a1919bde20cb182dab1662cec7f2ca1dcc523/boto-2.49.0-py2.py3-none-any.whl (1.4MB)\n",
            "\u001b[K    100% |████████████████████████████████| 1.4MB 13.5MB/s \n",
            "\u001b[?25hCollecting bz2file (from smart-open>=1.2.1->gensim)\n",
            "  Downloading https://files.pythonhosted.org/packages/61/39/122222b5e85cd41c391b68a99ee296584b2a2d1d233e7ee32b4532384f2d/bz2file-0.98.tar.gz\n",
            "Requirement already satisfied: requests in /usr/local/lib/python3.6/dist-packages (from smart-open>=1.2.1->gensim) (2.18.4)\n",
            "Collecting boto3 (from smart-open>=1.2.1->gensim)\n",
            "\u001b[?25l  Downloading https://files.pythonhosted.org/packages/d0/a6/48768566d78f51415b222f5a5a858768ebc92070f435d011121a91494e65/boto3-1.7.60-py2.py3-none-any.whl (128kB)\n",
            "\u001b[K    100% |████████████████████████████████| 133kB 20.9MB/s \n",
            "\u001b[?25hRequirement already satisfied: urllib3<1.23,>=1.21.1 in /usr/local/lib/python3.6/dist-packages (from requests->smart-open>=1.2.1->gensim) (1.22)\n",
            "Requirement already satisfied: certifi>=2017.4.17 in /usr/local/lib/python3.6/dist-packages (from requests->smart-open>=1.2.1->gensim) (2018.4.16)\n",
            "Requirement already satisfied: chardet<3.1.0,>=3.0.2 in /usr/local/lib/python3.6/dist-packages (from requests->smart-open>=1.2.1->gensim) (3.0.4)\n",
            "Requirement already satisfied: idna<2.7,>=2.5 in /usr/local/lib/python3.6/dist-packages (from requests->smart-open>=1.2.1->gensim) (2.6)\n",
            "Collecting botocore<1.11.0,>=1.10.60 (from boto3->smart-open>=1.2.1->gensim)\n",
            "\u001b[?25l  Downloading https://files.pythonhosted.org/packages/75/bc/b47bc0b2262a2b808a8add6a46ea1338ad71fd4cc06f35ff6ac577b2b366/botocore-1.10.60-py2.py3-none-any.whl (4.4MB)\n",
            "\u001b[K    100% |████████████████████████████████| 4.4MB 7.8MB/s \n",
            "\u001b[?25hCollecting jmespath<1.0.0,>=0.7.1 (from boto3->smart-open>=1.2.1->gensim)\n",
            "  Downloading https://files.pythonhosted.org/packages/b7/31/05c8d001f7f87f0f07289a5fc0fc3832e9a57f2dbd4d3b0fee70e0d51365/jmespath-0.9.3-py2.py3-none-any.whl\n",
            "Collecting s3transfer<0.2.0,>=0.1.10 (from boto3->smart-open>=1.2.1->gensim)\n",
            "\u001b[?25l  Downloading https://files.pythonhosted.org/packages/d7/14/2a0004d487464d120c9fb85313a75cd3d71a7506955be458eebfe19a6b1d/s3transfer-0.1.13-py2.py3-none-any.whl (59kB)\n",
            "\u001b[K    100% |████████████████████████████████| 61kB 19.0MB/s \n",
            "\u001b[?25hRequirement already satisfied: python-dateutil<3.0.0,>=2.1; python_version >= \"2.7\" in /usr/local/lib/python3.6/dist-packages (from botocore<1.11.0,>=1.10.60->boto3->smart-open>=1.2.1->gensim) (2.5.3)\n",
            "Collecting docutils>=0.10 (from botocore<1.11.0,>=1.10.60->boto3->smart-open>=1.2.1->gensim)\n",
            "\u001b[?25l  Downloading https://files.pythonhosted.org/packages/36/fa/08e9e6e0e3cbd1d362c3bbee8d01d0aedb2155c4ac112b19ef3cae8eed8d/docutils-0.14-py3-none-any.whl (543kB)\n",
            "\u001b[K    100% |████████████████████████████████| 552kB 21.0MB/s \n",
            "\u001b[?25hBuilding wheels for collected packages: smart-open, bz2file\n",
            "  Running setup.py bdist_wheel for smart-open ... \u001b[?25l-\b \b\\\b \bdone\n",
            "\u001b[?25h  Stored in directory: /content/.cache/pip/wheels/73/f1/9b/ccf93d4ba073b6f79b1ed9df68ab5ce048d8136d0efcf90b30\n",
            "  Running setup.py bdist_wheel for bz2file ... \u001b[?25l-\b \bdone\n",
            "\u001b[?25h  Stored in directory: /content/.cache/pip/wheels/81/75/d6/e1317bf09bf1af5a30befc2a007869fa6e1f516b8f7c591cb9\n",
            "Successfully built smart-open bz2file\n",
            "Installing collected packages: boto, bz2file, jmespath, docutils, botocore, s3transfer, boto3, smart-open, gensim\n",
            "Successfully installed boto-2.49.0 boto3-1.7.60 botocore-1.10.60 bz2file-0.98 docutils-0.14 gensim-3.5.0 jmespath-0.9.3 s3transfer-0.1.13 smart-open-1.6.0\n"
          ],
          "name": "stdout"
        }
      ]
    },
    {
      "metadata": {
        "id": "77iPid24xXGZ",
        "colab_type": "code",
        "colab": {
          "autoexec": {
            "startup": false,
            "wait_interval": 0
          },
          "base_uri": "https://localhost:8080/",
          "height": 717
        },
        "outputId": "9482a6d3-b995-4c8b-ba8e-78cbbcdb5228",
        "executionInfo": {
          "status": "ok",
          "timestamp": 1532007650968,
          "user_tz": -120,
          "elapsed": 6905,
          "user": {
            "displayName": "Guillermo Pedernal",
            "photoUrl": "//lh4.googleusercontent.com/-c67Vnm1lekk/AAAAAAAAAAI/AAAAAAAAAD4/_p61UmeZ47E/s50-c-k-no/photo.jpg",
            "userId": "101927487601652154517"
          }
        }
      },
      "cell_type": "code",
      "source": [
        "!pip install pyLDAvis"
      ],
      "execution_count": 54,
      "outputs": [
        {
          "output_type": "stream",
          "text": [
            "Collecting pyLDAvis\n",
            "\u001b[?25l  Downloading https://files.pythonhosted.org/packages/a5/3a/af82e070a8a96e13217c8f362f9a73e82d61ac8fff3a2561946a97f96266/pyLDAvis-2.1.2.tar.gz (1.6MB)\n",
            "\u001b[K    100% |████████████████████████████████| 1.6MB 6.0MB/s \n",
            "\u001b[?25hRequirement already satisfied: wheel>=0.23.0 in /usr/local/lib/python3.6/dist-packages (from pyLDAvis) (0.31.1)\n",
            "Requirement already satisfied: numpy>=1.9.2 in /usr/local/lib/python3.6/dist-packages (from pyLDAvis) (1.14.5)\n",
            "Requirement already satisfied: scipy>=0.18.0 in /usr/local/lib/python3.6/dist-packages (from pyLDAvis) (0.19.1)\n",
            "Requirement already satisfied: pandas>=0.17.0 in /usr/local/lib/python3.6/dist-packages (from pyLDAvis) (0.22.0)\n",
            "Collecting joblib>=0.8.4 (from pyLDAvis)\n",
            "\u001b[?25l  Downloading https://files.pythonhosted.org/packages/e8/48/f02facae79e690f2ec38dbe021a90942b4896645ffc3b3273cc835370fe9/joblib-0.12.1-py2.py3-none-any.whl (259kB)\n",
            "\u001b[K    100% |████████████████████████████████| 266kB 9.4MB/s \n",
            "\u001b[?25hRequirement already satisfied: jinja2>=2.7.2 in /usr/local/lib/python3.6/dist-packages (from pyLDAvis) (2.10)\n",
            "Collecting numexpr (from pyLDAvis)\n",
            "\u001b[?25l  Downloading https://files.pythonhosted.org/packages/24/a6/87a4fb2a4474fef99f12fbd4d99d54e32d5539b28b085b5e3f7b37756c73/numexpr-2.6.6-cp36-cp36m-manylinux1_x86_64.whl (162kB)\n",
            "\u001b[K    100% |████████████████████████████████| 163kB 9.3MB/s \n",
            "\u001b[?25hCollecting pytest (from pyLDAvis)\n",
            "\u001b[?25l  Downloading https://files.pythonhosted.org/packages/77/64/3a76f6fbb0f392d60c5960f2b2fbad8c2b802dada87ca6d1b99c0083a929/pytest-3.6.3-py2.py3-none-any.whl (195kB)\n",
            "\u001b[K    100% |████████████████████████████████| 204kB 9.9MB/s \n",
            "\u001b[?25hRequirement already satisfied: future in /usr/local/lib/python3.6/dist-packages (from pyLDAvis) (0.16.0)\n",
            "Collecting funcy (from pyLDAvis)\n",
            "  Downloading https://files.pythonhosted.org/packages/05/da/03e74264b3289be52a54733960d2e1b2dbe5190b64c8489f63c2f072bfc0/funcy-1.10.3-py2.py3-none-any.whl\n",
            "Requirement already satisfied: pytz>=2011k in /usr/local/lib/python3.6/dist-packages (from pandas>=0.17.0->pyLDAvis) (2018.5)\n",
            "Requirement already satisfied: python-dateutil>=2 in /usr/local/lib/python3.6/dist-packages (from pandas>=0.17.0->pyLDAvis) (2.5.3)\n",
            "Requirement already satisfied: MarkupSafe>=0.23 in /usr/local/lib/python3.6/dist-packages (from jinja2>=2.7.2->pyLDAvis) (1.0)\n",
            "Requirement already satisfied: pluggy<0.7,>=0.5 in /usr/local/lib/python3.6/dist-packages (from pytest->pyLDAvis) (0.6.0)\n",
            "Requirement already satisfied: setuptools in /usr/local/lib/python3.6/dist-packages (from pytest->pyLDAvis) (39.1.0)\n",
            "Collecting atomicwrites>=1.0 (from pytest->pyLDAvis)\n",
            "  Downloading https://files.pythonhosted.org/packages/0a/e8/cd6375e7a59664eeea9e1c77a766eeac0fc3083bb958c2b41ec46b95f29c/atomicwrites-1.1.5-py2.py3-none-any.whl\n",
            "Requirement already satisfied: py>=1.5.0 in /usr/local/lib/python3.6/dist-packages (from pytest->pyLDAvis) (1.5.4)\n",
            "Requirement already satisfied: six>=1.10.0 in /usr/local/lib/python3.6/dist-packages (from pytest->pyLDAvis) (1.11.0)\n",
            "Collecting attrs>=17.4.0 (from pytest->pyLDAvis)\n",
            "  Downloading https://files.pythonhosted.org/packages/41/59/cedf87e91ed541be7957c501a92102f9cc6363c623a7666d69d51c78ac5b/attrs-18.1.0-py2.py3-none-any.whl\n",
            "Collecting more-itertools>=4.0.0 (from pytest->pyLDAvis)\n",
            "\u001b[?25l  Downloading https://files.pythonhosted.org/packages/85/40/90c3b0393e12b9827381004224de8814686e3d7182f9d4182477f600826d/more_itertools-4.2.0-py3-none-any.whl (45kB)\n",
            "\u001b[K    100% |████████████████████████████████| 51kB 17.5MB/s \n",
            "\u001b[?25hBuilding wheels for collected packages: pyLDAvis\n",
            "  Running setup.py bdist_wheel for pyLDAvis ... \u001b[?25l-\b \b\\\b \bdone\n",
            "\u001b[?25h  Stored in directory: /content/.cache/pip/wheels/98/71/24/513a99e58bb6b8465bae4d2d5e9dba8f0bef8179e3051ac414\n",
            "Successfully built pyLDAvis\n",
            "Installing collected packages: joblib, numexpr, atomicwrites, attrs, more-itertools, pytest, funcy, pyLDAvis\n",
            "Successfully installed atomicwrites-1.1.5 attrs-18.1.0 funcy-1.10.3 joblib-0.12.1 more-itertools-4.2.0 numexpr-2.6.6 pyLDAvis-2.1.2 pytest-3.6.3\n"
          ],
          "name": "stdout"
        }
      ]
    },
    {
      "metadata": {
        "id": "f24Lgx1Uxb2Z",
        "colab_type": "code",
        "colab": {
          "autoexec": {
            "startup": false,
            "wait_interval": 0
          },
          "base_uri": "https://localhost:8080/",
          "height": 34
        },
        "outputId": "faf3c7e8-f2e7-4853-ed39-02bb05040b2f",
        "executionInfo": {
          "status": "ok",
          "timestamp": 1532007704929,
          "user_tz": -120,
          "elapsed": 1393,
          "user": {
            "displayName": "Guillermo Pedernal",
            "photoUrl": "//lh4.googleusercontent.com/-c67Vnm1lekk/AAAAAAAAAAI/AAAAAAAAAD4/_p61UmeZ47E/s50-c-k-no/photo.jpg",
            "userId": "101927487601652154517"
          }
        }
      },
      "cell_type": "code",
      "source": [
        "import gensim\n",
        "import pyLDAvis.gensim\n",
        "\n",
        "from gensim.corpora import Dictionary\n",
        "\n",
        "gensim_dict = Dictionary(documents)\n",
        "len(gensim_dict)"
      ],
      "execution_count": 55,
      "outputs": [
        {
          "output_type": "execute_result",
          "data": {
            "text/plain": [
              "14377"
            ]
          },
          "metadata": {
            "tags": []
          },
          "execution_count": 55
        }
      ]
    },
    {
      "metadata": {
        "id": "9JQ22iiCx4of",
        "colab_type": "text"
      },
      "cell_type": "markdown",
      "source": [
        "Con gensim obtenemos el mismo tamaño de vocabulario que habiamos sacado manualmente."
      ]
    },
    {
      "metadata": {
        "id": "U5pWo7H3xyOf",
        "colab_type": "code",
        "colab": {
          "autoexec": {
            "startup": false,
            "wait_interval": 0
          }
        }
      },
      "cell_type": "code",
      "source": [
        "corpus = [gensim_dict.doc2bow(doc) for doc in documents]"
      ],
      "execution_count": 0,
      "outputs": []
    },
    {
      "metadata": {
        "id": "7KebJf9yyBWj",
        "colab_type": "code",
        "colab": {
          "autoexec": {
            "startup": false,
            "wait_interval": 0
          },
          "base_uri": "https://localhost:8080/",
          "height": 861
        },
        "outputId": "33c38565-aff8-4b53-df1d-bb53b5b6fbf3",
        "executionInfo": {
          "status": "ok",
          "timestamp": 1532008076965,
          "user_tz": -120,
          "elapsed": 29328,
          "user": {
            "displayName": "Guillermo Pedernal",
            "photoUrl": "//lh4.googleusercontent.com/-c67Vnm1lekk/AAAAAAAAAAI/AAAAAAAAAD4/_p61UmeZ47E/s50-c-k-no/photo.jpg",
            "userId": "101927487601652154517"
          }
        }
      },
      "cell_type": "code",
      "source": [
        "from gensim import corpora, models, similarities\n",
        "\n",
        "lda2 = models.LdaModel(corpus, id2word=gensim_dict, num_topics=2, iterations=5, passes=20, alpha='auto')\n",
        "vis = pyLDAvis.gensim.prepare(lda2, corpus, gensim_dict)\n",
        "pyLDAvis.display(vis)"
      ],
      "execution_count": 62,
      "outputs": [
        {
          "output_type": "execute_result",
          "data": {
            "text/html": [
              "\n",
              "<link rel=\"stylesheet\" type=\"text/css\" href=\"https://cdn.rawgit.com/bmabey/pyLDAvis/files/ldavis.v1.0.0.css\">\n",
              "\n",
              "\n",
              "<div id=\"ldavis_el921404500371065123455799777\"></div>\n",
              "<script type=\"text/javascript\">\n",
              "\n",
              "var ldavis_el921404500371065123455799777_data = {\"mdsDat\": {\"Freq\": [61.44838333129883, 38.55161666870117], \"cluster\": [1, 1], \"topics\": [1, 2], \"x\": [0.14705133438110352, -0.14705133438110352], \"y\": [0.0, 0.0]}, \"tinfo\": {\"Category\": [\"Default\", \"Default\", \"Default\", \"Default\", \"Default\", \"Default\", \"Default\", \"Default\", \"Default\", \"Default\", \"Default\", \"Default\", \"Default\", \"Default\", \"Default\", \"Default\", \"Default\", \"Default\", \"Default\", \"Default\", \"Default\", \"Default\", \"Default\", \"Default\", \"Default\", \"Default\", \"Default\", \"Default\", \"Default\", \"Default\", \"Topic1\", \"Topic1\", \"Topic1\", \"Topic1\", \"Topic1\", \"Topic1\", \"Topic1\", \"Topic1\", \"Topic1\", \"Topic1\", \"Topic1\", \"Topic1\", \"Topic1\", \"Topic1\", \"Topic1\", \"Topic1\", \"Topic1\", \"Topic1\", \"Topic1\", \"Topic1\", \"Topic1\", \"Topic1\", \"Topic1\", \"Topic1\", \"Topic1\", \"Topic1\", \"Topic1\", \"Topic1\", \"Topic1\", \"Topic1\", \"Topic1\", \"Topic1\", \"Topic1\", \"Topic1\", \"Topic1\", \"Topic1\", \"Topic1\", \"Topic1\", \"Topic1\", \"Topic1\", \"Topic1\", \"Topic1\", \"Topic1\", \"Topic1\", \"Topic1\", \"Topic1\", \"Topic1\", \"Topic1\", \"Topic1\", \"Topic1\", \"Topic1\", \"Topic2\", \"Topic2\", \"Topic2\", \"Topic2\", \"Topic2\", \"Topic2\", \"Topic2\", \"Topic2\", \"Topic2\", \"Topic2\", \"Topic2\", \"Topic2\", \"Topic2\", \"Topic2\", \"Topic2\", \"Topic2\", \"Topic2\", \"Topic2\", \"Topic2\", \"Topic2\", \"Topic2\", \"Topic2\", \"Topic2\", \"Topic2\", \"Topic2\", \"Topic2\", \"Topic2\", \"Topic2\", \"Topic2\", \"Topic2\", \"Topic2\", \"Topic2\", \"Topic2\", \"Topic2\", \"Topic2\", \"Topic2\", \"Topic2\", \"Topic2\", \"Topic2\", \"Topic2\", \"Topic2\", \"Topic2\", \"Topic2\", \"Topic2\", \"Topic2\"], \"Freq\": [609.0, 883.0, 433.0, 375.0, 661.0, 505.0, 210.0, 404.0, 204.0, 187.0, 644.0, 162.0, 160.0, 145.0, 152.0, 323.0, 140.0, 139.0, 141.0, 137.0, 137.0, 172.0, 133.0, 132.0, 128.0, 126.0, 126.0, 255.0, 226.0, 226.0, 504.67181396484375, 403.72137451171875, 254.51324462890625, 171.79229736328125, 225.90985107421875, 162.4095001220703, 151.3132781982422, 150.2664794921875, 142.80555725097656, 121.70531463623047, 121.42455291748047, 225.6204833984375, 157.0192413330078, 114.73998260498047, 126.33507537841797, 110.9884262084961, 115.76815032958984, 107.9355239868164, 100.9129638671875, 114.29188537597656, 121.5811996459961, 90.7682113647461, 121.72122955322266, 90.8097152709961, 86.32772064208984, 77.53685760498047, 74.82501983642578, 73.85433197021484, 72.63888549804688, 91.72171020507812, 655.6220092773438, 157.0220184326172, 109.09025573730469, 130.97445678710938, 611.109130859375, 96.18489074707031, 178.74810791015625, 190.54054260253906, 148.19448852539062, 258.35089111328125, 429.5153503417969, 261.01080322265625, 153.1590576171875, 274.74591064453125, 164.11328125, 137.09751892089844, 138.00303649902344, 129.0897216796875, 130.5677032470703, 131.66798400878906, 132.89114379882812, 374.56488037109375, 209.66998291015625, 186.79331970214844, 145.41912841796875, 132.0994110107422, 127.81497192382812, 126.39775848388672, 126.16123962402344, 137.0386199951172, 138.77586364746094, 132.51956176757812, 136.97828674316406, 159.846923828125, 139.73556518554688, 162.08367919921875, 107.06163024902344, 95.88986206054688, 88.13951873779297, 95.93238067626953, 83.8057861328125, 100.1390380859375, 81.76203155517578, 92.54981231689453, 104.04385375976562, 80.54838562011719, 104.99456024169922, 63.89410400390625, 74.23236083984375, 430.1060485839844, 603.9884643554688, 140.62286376953125, 199.6605224609375, 149.18959045410156, 750.180908203125, 159.6834716796875, 97.08235168457031, 242.04864501953125, 130.0666961669922, 345.16497802734375, 141.83387756347656, 158.1854705810547, 187.95455932617188, 116.87154388427734, 140.58839416503906, 118.59660339355469], \"Term\": [\"'s\", \"Obama\", \"\\u2014President\", \"\\u2014\", \"I\", \"amp\", \"ActOnClimate\", \"great\", \"Senate\", \"change\", \"will\", \"Minister\", \"Prime\", \"DoYourJob\", \"attack\", \"today\", \"May\", \"condolences\", \"She\", \"London\", \"terrorist\", \"strong\", \"Spoke\", \"offer\", \"U.K.\", \"Theresa\", \"climate\", \"...\", \"\\u201c\", \"\\u201d\", \"amp\", \"great\", \"...\", \"Fake\", \"\\u201c\", \"News\", \"Trump\", \"Democrats\", \"Thank\", \"\\ud83c\\uddf8\", \"\\ud83c\\uddfa\", \"\\u201d\", \"many\", \"Korea\", \"....\", \"GREAT\", \"honor\", \"Russia\", \"North\", \"They\", \"House\", \"China\", \"United\", \"Dems\", \"Tax\", \"AMERICA\", \"Hillary\", \"FBI\", \"Clinton\", \"Republicans\", \"I\", \"n\\u2019t\", \"States\", \"much\", \"will\", \"never\", \"U.S.\", \"\\u2019s\", \"Great\", \"people\", \"The\", \"We\", \"just\", \"President\", \"now\", \"years\", \"country\", \"big\", \"American\", \"It\", \"Obama\", \"\\u2014\", \"ActOnClimate\", \"change\", \"DoYourJob\", \"offer\", \"U.K.\", \"Theresa\", \"climate\", \"London\", \"condolences\", \"Spoke\", \"terrorist\", \"Prime\", \"May\", \"Minister\", \"health\", \"name\", \"Garland\", \"Read\", \"@OFA\", \"Supreme\", \"GetCovered\", \"Judge\", \"SOTU\", \"Obamacare\", \"Court\", \"Add\", \"'re\", \"\\u2014President\", \"'s\", \"She\", \"Senate\", \"attack\", \"Obama\", \"strong\", \"fair\", \"today\", \"Americans\", \"President\", \"well\", \"n't\", \"The\", \"economy\", \"We\", \"now\"], \"Total\": [609.0, 883.0, 433.0, 375.0, 661.0, 505.0, 210.0, 404.0, 204.0, 187.0, 644.0, 162.0, 160.0, 145.0, 152.0, 323.0, 140.0, 139.0, 141.0, 137.0, 137.0, 172.0, 133.0, 132.0, 128.0, 126.0, 126.0, 255.0, 226.0, 226.0, 505.16448974609375, 404.45562744140625, 255.11949157714844, 172.2373046875, 226.50225830078125, 162.85719299316406, 151.76138305664062, 150.7460174560547, 143.27545166015625, 122.149169921875, 121.86815643310547, 226.4547882080078, 157.60662841796875, 115.18286895751953, 126.82561492919922, 111.43855285644531, 116.24246215820312, 108.37864685058594, 101.35668182373047, 114.7984848022461, 122.14109802246094, 91.23360443115234, 122.3458023071289, 91.27570343017578, 86.77875518798828, 77.97917175292969, 75.263671875, 74.29405212402344, 73.07877349853516, 92.30634307861328, 661.4910278320312, 158.11956787109375, 109.91197967529297, 132.51736450195312, 644.6254272460938, 96.96570587158203, 191.9931640625, 208.46249389648438, 160.721923828125, 318.27130126953125, 617.4699096679688, 401.59918212890625, 199.20591735839844, 619.910888671875, 282.70989990234375, 181.76361083984375, 192.8090362548828, 154.8524932861328, 198.7891387939453, 233.97039794921875, 883.072021484375, 375.0264587402344, 210.0975341796875, 187.2941436767578, 145.84274291992188, 132.5343780517578, 128.23721313476562, 126.81993865966797, 126.58876037597656, 137.51112365722656, 139.2636260986328, 133.0016632080078, 137.47747802734375, 160.4365997314453, 140.2568817138672, 162.69070434570312, 107.50127410888672, 96.33009338378906, 88.56326293945312, 96.39539337158203, 84.23153686523438, 100.65096282958984, 82.18639373779297, 93.0376205444336, 104.60466766357422, 81.01419067382812, 105.66947937011719, 64.31967163085938, 74.76300048828125, 433.66253662109375, 609.1065063476562, 141.92819213867188, 204.51837158203125, 152.24258422851562, 883.072021484375, 172.88221740722656, 99.45133972167969, 323.48089599609375, 146.73764038085938, 619.910888671875, 181.23606872558594, 231.54022216796875, 617.4699096679688, 148.48135375976562, 401.59918212890625, 282.70989990234375], \"loglift\": [30.0, 29.0, 28.0, 27.0, 26.0, 25.0, 24.0, 23.0, 22.0, 21.0, 20.0, 19.0, 18.0, 17.0, 16.0, 15.0, 14.0, 13.0, 12.0, 11.0, 10.0, 9.0, 8.0, 7.0, 6.0, 5.0, 4.0, 3.0, 2.0, 1.0, 0.4860000014305115, 0.4851999878883362, 0.4846000075340271, 0.4844000041484833, 0.4844000041484833, 0.48420000076293945, 0.48399999737739563, 0.4837999939918518, 0.4837000072002411, 0.48330000042915344, 0.48330000042915344, 0.48330000042915344, 0.4832000136375427, 0.4830999970436096, 0.4830999970436096, 0.4828999936580658, 0.4828999936580658, 0.4828999936580658, 0.48260000348091125, 0.48249998688697815, 0.48240000009536743, 0.48190000653266907, 0.48190000653266907, 0.48190000653266907, 0.48179998993873596, 0.4812999963760376, 0.4810999929904938, 0.48100000619888306, 0.48089998960494995, 0.4805999994277954, 0.4781000018119812, 0.47999998927116394, 0.4794999957084656, 0.47530001401901245, 0.4336000084877014, 0.4788999855518341, 0.4154999852180481, 0.3971000015735626, 0.4058000147342682, 0.2784000039100647, 0.12399999797344208, 0.05609999969601631, 0.2240999937057495, -0.32679998874664307, -0.05689999833703041, 0.20499999821186066, 0.1525000035762787, 0.3050000071525574, 0.066600002348423, -0.08789999783039093, -1.4069000482559204, 0.9519000053405762, 0.9510999917984009, 0.9505000114440918, 0.9502999782562256, 0.9498999714851379, 0.9498999714851379, 0.9498000144958496, 0.9498000144958496, 0.9496999979019165, 0.9496999979019165, 0.9495000243186951, 0.9495000243186951, 0.9495000243186951, 0.949400007724762, 0.949400007724762, 0.9491000175476074, 0.9485999941825867, 0.9484000205993652, 0.9484000205993652, 0.9480999708175659, 0.9480999708175659, 0.9480000138282776, 0.9478999972343445, 0.9477999806404114, 0.9473999738693237, 0.9467999935150146, 0.9465000033378601, 0.9459999799728394, 0.9448999762535095, 0.9447000026702881, 0.9438999891281128, 0.929099977016449, 0.9329000115394592, 0.7900999784469604, 0.8737999796867371, 0.929099977016449, 0.6632000207901001, 0.8325999975204468, 0.3675999939441681, 0.7080000042915344, 0.5722000002861023, -0.2363000065088272, 0.7138000130653381, -0.09640000015497208, 0.08449999988079071], \"logprob\": [30.0, 29.0, 28.0, 27.0, 26.0, 25.0, 24.0, 23.0, 22.0, 21.0, 20.0, 19.0, 18.0, 17.0, 16.0, 15.0, 14.0, 13.0, 12.0, 11.0, 10.0, 9.0, 8.0, 7.0, 6.0, 5.0, 4.0, 3.0, 2.0, 1.0, -4.646599769592285, -4.869699954986572, -5.331099987030029, -5.7241997718811035, -5.450300216674805, -5.780300140380859, -5.851099967956543, -5.858099937438965, -5.908999919891357, -6.068900108337402, -6.071199893951416, -5.451600074768066, -5.8140997886657715, -6.127799987792969, -6.031499862670898, -6.160999774932861, -6.118899822235107, -6.188899993896484, -6.256199836730957, -6.131700038909912, -6.069900035858154, -6.362199783325195, -6.068699836730957, -6.361700057983398, -6.412300109863281, -6.519700050354004, -6.555300235748291, -6.568399906158447, -6.585000038146973, -6.3516998291015625, -4.384900093078613, -5.8140997886657715, -6.178299903869629, -5.995500087738037, -4.4552001953125, -6.304200172424316, -5.684500217437744, -5.62060022354126, -5.8719000816345215, -5.316100120544434, -4.807799816131592, -5.3059000968933105, -5.839000225067139, -5.2546000480651855, -5.769899845123291, -5.94980001449585, -5.94320011138916, -6.010000228881836, -5.998600006103516, -5.990200042724609, -5.980899810791016, -4.478499889373779, -5.058700084686279, -5.174300193786621, -5.424600124359131, -5.520699977874756, -5.553699970245361, -5.564799785614014, -5.566699981689453, -5.484000205993652, -5.471399784088135, -5.517499923706055, -5.484399795532227, -5.329999923706055, -5.4644999504089355, -5.316199779510498, -5.730899810791016, -5.841100215911865, -5.925300121307373, -5.84060001373291, -5.975800037384033, -5.797699928283691, -6.000500202178955, -5.876500129699707, -5.759500026702881, -6.015399932861328, -5.750400066375732, -6.247000217437744, -6.097099781036377, -4.340199947357178, -4.000699996948242, -5.458199977874756, -5.107600212097168, -5.39900016784668, -3.7839999198913574, -5.331099987030029, -5.828700065612793, -4.91510009765625, -5.536200046539307, -4.560200214385986, -5.4496002197265625, -5.3404998779296875, -5.168099880218506, -5.643199920654297, -5.458399772644043, -5.628499984741211]}, \"token.table\": {\"Topic\": [1, 2, 1, 2, 1, 2, 1, 2, 1, 2, 2, 1, 2, 1, 2, 1, 1, 1, 2, 1, 1, 2, 1, 1, 1, 2, 2, 1, 2, 1, 1, 2, 1, 2, 1, 2, 2, 1, 2, 1, 2, 1, 2, 1, 1, 1, 2, 2, 1, 2, 1, 2, 2, 1, 2, 1, 1, 2, 1, 2, 1, 2, 2, 1, 2, 1, 2, 1, 1, 1, 2, 2, 1, 2, 1, 2, 1, 2, 1, 2, 1, 2, 1, 1, 2, 1, 2, 1, 2, 2, 2, 1, 2, 1, 2, 1, 2, 1, 2, 2, 1, 1, 2, 1, 2, 1, 2, 1, 2, 2, 1, 2, 1, 2, 1, 2, 2, 1, 2, 1, 2, 2, 1, 2, 1, 2, 1, 2, 1, 2, 2, 1, 2, 1, 2, 1, 2, 1, 2, 1, 1], \"Freq\": [0.0133755998685956, 0.9897944331169128, 0.008208745159208775, 0.991616427898407, 0.999531626701355, 0.003919731825590134, 0.9934901595115662, 0.9972512125968933, 1.0002671480178833, 0.9995357394218445, 0.9950299263000488, 0.6589897274971008, 0.342070996761322, 0.11585302650928497, 0.8859349489212036, 0.9974395036697388, 0.9989220499992371, 0.009463470429182053, 0.9936643838882446, 0.9950511455535889, 0.9969794154167175, 0.994221568107605, 0.9960420727729797, 0.9986222386360168, 0.9960646033287048, 0.9936400055885315, 0.9977320432662964, 0.9208451509475708, 0.08088504523038864, 0.9964966773986816, 0.9988448023796082, 0.008187252096831799, 0.9916990399360657, 0.00907041784375906, 0.5641739368438721, 0.4359525740146637, 0.9995956420898438, 0.9984123706817627, 0.9962830543518066, 0.007129774894565344, 0.9981684684753418, 0.0061466326005756855, 0.9957544803619385, 0.9947365522384644, 0.9964809417724609, 0.15061059594154358, 0.8493078351020813, 0.9998248219490051, 0.44361215829849243, 0.5565316081047058, 0.006232991814613342, 0.9972786903381348, 0.9958981871604919, 0.9966812133789062, 0.010833491571247578, 0.9965062737464905, 0.00955980271100998, 0.9942194819450378, 0.02444768138229847, 0.9779072403907776, 0.007045816630125046, 0.9934601187705994, 0.9999874830245972, 0.9917026162147522, 0.009098188951611519, 0.009935325011610985, 0.9935324788093567, 0.991025984287262, 0.9980774521827698, 0.6963902115821838, 0.3044682741165161, 0.9935346245765686, 0.9930444359779358, 0.00871091615408659, 0.9949830174446106, 0.9981502294540405, 0.9323248863220215, 0.067710742354393, 0.997173547744751, 0.008173554204404354, 0.6499017477035522, 0.35109633207321167, 0.999674379825592, 0.0197053924202919, 0.9787011742591858, 0.8330508470535278, 0.16790172457695007, 0.005339195020496845, 0.998429536819458, 0.9953490495681763, 0.9981070160865784, 0.71573406457901, 0.2852563261985779, 0.21551527082920074, 0.7879777550697327, 0.02011033706367016, 0.9753513932228088, 0.9988734722137451, 0.0024724591057747602, 0.9953370690345764, 0.99791419506073, 0.7680494785308838, 0.230916827917099, 0.9961509704589844, 0.006344910711050034, 0.9885497093200684, 0.015092361718416214, 0.3152799904346466, 0.6823868155479431, 0.9965733289718628, 0.9900407195091248, 0.010312924161553383, 0.5800999402999878, 0.42092618346214294, 0.9929195046424866, 0.006324328016489744, 0.9959679841995239, 0.8106291890144348, 0.18851840496063232, 0.07519570738077164, 0.9254856109619141, 0.996526837348938, 0.25040119886398315, 0.7481122016906738, 0.21518895030021667, 0.7835084795951843, 0.947837233543396, 0.052743807435035706, 0.7537262439727783, 0.2475743144750595, 0.9999294281005859, 0.009223761968314648, 0.9915543794631958, 0.9162319898605347, 0.08634646981954575, 0.9977825284004211, 0.0044149667955935, 0.997991681098938, 0.004415892530232668, 0.998778760433197, 0.9928762912750244], \"Term\": [\"'re\", \"'re\", \"'s\", \"'s\", \"...\", \"...\", \"....\", \"@OFA\", \"AMERICA\", \"ActOnClimate\", \"Add\", \"American\", \"American\", \"Americans\", \"Americans\", \"China\", \"Clinton\", \"Court\", \"Court\", \"Democrats\", \"Dems\", \"DoYourJob\", \"FBI\", \"Fake\", \"GREAT\", \"Garland\", \"GetCovered\", \"Great\", \"Great\", \"Hillary\", \"House\", \"House\", \"I\", \"I\", \"It\", \"It\", \"Judge\", \"Korea\", \"London\", \"May\", \"May\", \"Minister\", \"Minister\", \"News\", \"North\", \"Obama\", \"Obama\", \"Obamacare\", \"President\", \"President\", \"Prime\", \"Prime\", \"Read\", \"Republicans\", \"Republicans\", \"Russia\", \"SOTU\", \"SOTU\", \"Senate\", \"Senate\", \"She\", \"She\", \"Spoke\", \"States\", \"States\", \"Supreme\", \"Supreme\", \"Tax\", \"Thank\", \"The\", \"The\", \"Theresa\", \"They\", \"They\", \"Trump\", \"U.K.\", \"U.S.\", \"U.S.\", \"United\", \"United\", \"We\", \"We\", \"amp\", \"attack\", \"attack\", \"big\", \"big\", \"change\", \"change\", \"climate\", \"condolences\", \"country\", \"country\", \"economy\", \"economy\", \"fair\", \"fair\", \"great\", \"great\", \"health\", \"honor\", \"just\", \"just\", \"many\", \"many\", \"much\", \"much\", \"n't\", \"n't\", \"name\", \"never\", \"never\", \"now\", \"now\", \"n\\u2019t\", \"n\\u2019t\", \"offer\", \"people\", \"people\", \"strong\", \"strong\", \"terrorist\", \"today\", \"today\", \"well\", \"well\", \"will\", \"will\", \"years\", \"years\", \"\\u2014\", \"\\u2014President\", \"\\u2014President\", \"\\u2019s\", \"\\u2019s\", \"\\u201c\", \"\\u201c\", \"\\u201d\", \"\\u201d\", \"\\ud83c\\uddf8\", \"\\ud83c\\uddfa\"]}, \"R\": 30, \"lambda.step\": 0.01, \"plot.opts\": {\"xlab\": \"PC1\", \"ylab\": \"PC2\"}, \"topic.order\": [1, 2]};\n",
              "\n",
              "function LDAvis_load_lib(url, callback){\n",
              "  var s = document.createElement('script');\n",
              "  s.src = url;\n",
              "  s.async = true;\n",
              "  s.onreadystatechange = s.onload = callback;\n",
              "  s.onerror = function(){console.warn(\"failed to load library \" + url);};\n",
              "  document.getElementsByTagName(\"head\")[0].appendChild(s);\n",
              "}\n",
              "\n",
              "if(typeof(LDAvis) !== \"undefined\"){\n",
              "   // already loaded: just create the visualization\n",
              "   !function(LDAvis){\n",
              "       new LDAvis(\"#\" + \"ldavis_el921404500371065123455799777\", ldavis_el921404500371065123455799777_data);\n",
              "   }(LDAvis);\n",
              "}else if(typeof define === \"function\" && define.amd){\n",
              "   // require.js is available: use it to load d3/LDAvis\n",
              "   require.config({paths: {d3: \"https://cdnjs.cloudflare.com/ajax/libs/d3/3.5.5/d3.min\"}});\n",
              "   require([\"d3\"], function(d3){\n",
              "      window.d3 = d3;\n",
              "      LDAvis_load_lib(\"https://cdn.rawgit.com/bmabey/pyLDAvis/files/ldavis.v1.0.0.js\", function(){\n",
              "        new LDAvis(\"#\" + \"ldavis_el921404500371065123455799777\", ldavis_el921404500371065123455799777_data);\n",
              "      });\n",
              "    });\n",
              "}else{\n",
              "    // require.js not available: dynamically load d3 & LDAvis\n",
              "    LDAvis_load_lib(\"https://cdnjs.cloudflare.com/ajax/libs/d3/3.5.5/d3.min.js\", function(){\n",
              "         LDAvis_load_lib(\"https://cdn.rawgit.com/bmabey/pyLDAvis/files/ldavis.v1.0.0.js\", function(){\n",
              "                 new LDAvis(\"#\" + \"ldavis_el921404500371065123455799777\", ldavis_el921404500371065123455799777_data);\n",
              "            })\n",
              "         });\n",
              "}\n",
              "</script>"
            ],
            "text/plain": [
              "<IPython.core.display.HTML object>"
            ]
          },
          "metadata": {
            "tags": []
          },
          "execution_count": 62
        }
      ]
    },
    {
      "metadata": {
        "id": "zSpdIq5UzV5y",
        "colab_type": "text"
      },
      "cell_type": "markdown",
      "source": [
        "Parece que la clusterizacion de temas ha funcionado bien, teniendo uno de ellos palabras como 'Fake', 'News', 'Trump' o 'Great' y el otro palabras como 'Obama' o 'ActOnClimate'. Tiene toda la pinta de que esta clusterizacion en 2 temas coincidiria en cierta medida con los tweets escritos por uno y otro presidente.\n",
        "\n",
        "Veremos ahora como hicimos en clase el numero optimo de temas y su visualizacion."
      ]
    },
    {
      "metadata": {
        "id": "C4HMm9yJ0XLm",
        "colab_type": "code",
        "colab": {
          "autoexec": {
            "startup": false,
            "wait_interval": 0
          }
        }
      },
      "cell_type": "code",
      "source": [
        "from gensim.models import CoherenceModel\n",
        "def compute_coherence_values(dictionary, corpus, texts, limit, start=2, step=3):\n",
        "    \"\"\"\n",
        "    Compute c_v coherence for various number of topics\n",
        "\n",
        "    Parameters:\n",
        "    ----------\n",
        "    dictionary : Gensim dictionary\n",
        "    corpus : Gensim corpus\n",
        "    texts : List of input texts\n",
        "    limit : Max num of topics\n",
        "\n",
        "    Returns:\n",
        "    -------\n",
        "    model_list : List of LDA topic models\n",
        "    coherence_values : Coherence values corresponding to the LDA model with respective number of topics\n",
        "    \"\"\"\n",
        "    coherence_values = []\n",
        "    model_list = []\n",
        "    for num_topics in range(start, limit, step):\n",
        "        model = models.LdaModel(corpus, id2word=dictionary, num_topics=num_topics, iterations=5, passes=20, alpha='auto')\n",
        "        model_list.append(model)\n",
        "        coherencemodel = CoherenceModel(model=model, texts=texts, dictionary=dictionary, coherence='c_v')\n",
        "        coherence_values.append(coherencemodel.get_coherence())\n",
        "\n",
        "    return model_list, coherence_values"
      ],
      "execution_count": 0,
      "outputs": []
    },
    {
      "metadata": {
        "id": "u6q4bjRI0f0j",
        "colab_type": "code",
        "colab": {
          "autoexec": {
            "startup": false,
            "wait_interval": 0
          },
          "base_uri": "https://localhost:8080/",
          "height": 361
        },
        "outputId": "a8f1ec01-c7eb-4045-fd17-ae83e2476ec2",
        "executionInfo": {
          "status": "ok",
          "timestamp": 1532008910449,
          "user_tz": -120,
          "elapsed": 407100,
          "user": {
            "displayName": "Guillermo Pedernal",
            "photoUrl": "//lh4.googleusercontent.com/-c67Vnm1lekk/AAAAAAAAAAI/AAAAAAAAAD4/_p61UmeZ47E/s50-c-k-no/photo.jpg",
            "userId": "101927487601652154517"
          }
        }
      },
      "cell_type": "code",
      "source": [
        "import matplotlib.pyplot as plt\n",
        "\n",
        "limit=15; start=2; step=1;\n",
        "model_list, coherence_values = compute_coherence_values(dictionary=gensim_dict, corpus=corpus, texts=documents, start=start, limit=limit, step=step)\n",
        "x = range(start, limit, step)\n",
        "plt.plot(x, coherence_values)\n",
        "plt.xlabel(\"Num Topics\")\n",
        "plt.ylabel(\"Coherence score\")\n",
        "plt.legend((\"coherence_values\"), loc='best')\n",
        "plt.show()"
      ],
      "execution_count": 65,
      "outputs": [
        {
          "output_type": "display_data",
          "data": {
            "image/png": "[encoded data removed]",
            "text/plain": [
              "<matplotlib.figure.Figure at 0x7fbd451edc18>"
            ]
          },
          "metadata": {
            "tags": []
          }
        }
      ]
    },
    {
      "metadata": {
        "id": "NhuBIKg32hPB",
        "colab_type": "code",
        "colab": {
          "autoexec": {
            "startup": false,
            "wait_interval": 0
          },
          "base_uri": "https://localhost:8080/",
          "height": 861
        },
        "outputId": "82cea6a1-88ce-451a-8f38-f991a0b69687",
        "executionInfo": {
          "status": "ok",
          "timestamp": 1532009087179,
          "user_tz": -120,
          "elapsed": 37285,
          "user": {
            "displayName": "Guillermo Pedernal",
            "photoUrl": "//lh4.googleusercontent.com/-c67Vnm1lekk/AAAAAAAAAAI/AAAAAAAAAD4/_p61UmeZ47E/s50-c-k-no/photo.jpg",
            "userId": "101927487601652154517"
          }
        }
      },
      "cell_type": "code",
      "source": [
        "lda12 = models.LdaModel(corpus, id2word=gensim_dict, num_topics=12, iterations=5, passes=20, alpha='auto')\n",
        "vis = pyLDAvis.gensim.prepare(lda12, corpus, gensim_dict)\n",
        "pyLDAvis.display(vis)"
      ],
      "execution_count": 66,
      "outputs": [
        {
          "output_type": "execute_result",
          "data": {
            "text/html": [
              "\n",
              "<link rel=\"stylesheet\" type=\"text/css\" href=\"https://cdn.rawgit.com/bmabey/pyLDAvis/files/ldavis.v1.0.0.css\">\n",
              "\n",
              "\n",
              "<div id=\"ldavis_el92140450042895240460152496\"></div>\n",
              "<script type=\"text/javascript\">\n",
              "\n",
              "var ldavis_el92140450042895240460152496_data = {\"mdsDat\": {\"Freq\": [20.018993377685547, 16.618854522705078, 11.795219421386719, 8.116715431213379, 7.34092378616333, 7.0808820724487305, 6.5086164474487305, 5.676370143890381, 5.521760940551758, 4.481381416320801, 3.5940911769866943, 3.246189594268799], \"cluster\": [1, 1, 1, 1, 1, 1, 1, 1, 1, 1, 1, 1], \"topics\": [1, 2, 3, 4, 5, 6, 7, 8, 9, 10, 11, 12], \"x\": [0.22567915180323445, 0.16664523588293642, 0.13035501967333912, 0.11576077922265085, -0.045763820707404, 0.07623561229344557, -0.03187775316869796, -0.12871844448668215, -0.09904587566811726, -0.2001417415216189, -0.09363264956990457, -0.11549551375318408], \"y\": [-0.07719620130275293, 0.19762014804674582, -0.13539859325346795, -0.08165017477220189, 0.21974678368890846, -0.04439544229791706, 0.12693500319112813, 0.08943472996317849, -0.10602383611247725, -0.10676602032081187, -0.035924898184044755, -0.0463814986462867]}, \"tinfo\": {\"Category\": [\"Default\", \"Default\", \"Default\", \"Default\", \"Default\", \"Default\", \"Default\", \"Default\", \"Default\", \"Default\", \"Default\", \"Default\", \"Default\", \"Default\", \"Default\", \"Default\", \"Default\", \"Default\", \"Default\", \"Default\", \"Default\", \"Default\", \"Default\", \"Default\", \"Default\", \"Default\", \"Default\", \"Default\", \"Default\", \"Default\", \"Topic1\", \"Topic1\", \"Topic1\", \"Topic1\", \"Topic1\", \"Topic1\", \"Topic1\", \"Topic1\", \"Topic1\", \"Topic1\", \"Topic1\", \"Topic1\", \"Topic1\", \"Topic1\", \"Topic1\", \"Topic1\", \"Topic1\", \"Topic1\", \"Topic1\", \"Topic1\", \"Topic1\", \"Topic1\", \"Topic1\", \"Topic1\", \"Topic1\", \"Topic1\", \"Topic1\", \"Topic1\", \"Topic1\", \"Topic1\", \"Topic1\", \"Topic1\", \"Topic1\", \"Topic1\", \"Topic1\", \"Topic1\", \"Topic1\", \"Topic1\", \"Topic1\", \"Topic1\", \"Topic1\", \"Topic1\", \"Topic1\", \"Topic1\", \"Topic1\", \"Topic1\", \"Topic1\", \"Topic1\", \"Topic1\", \"Topic1\", \"Topic1\", \"Topic1\", \"Topic1\", \"Topic1\", \"Topic1\", \"Topic1\", \"Topic1\", \"Topic1\", \"Topic1\", \"Topic1\", \"Topic2\", \"Topic2\", \"Topic2\", \"Topic2\", \"Topic2\", \"Topic2\", \"Topic2\", \"Topic2\", \"Topic2\", \"Topic2\", \"Topic2\", \"Topic2\", \"Topic2\", \"Topic2\", \"Topic2\", \"Topic2\", \"Topic2\", \"Topic2\", \"Topic2\", \"Topic2\", \"Topic2\", \"Topic2\", \"Topic2\", \"Topic2\", \"Topic2\", \"Topic2\", \"Topic2\", \"Topic2\", \"Topic2\", \"Topic2\", \"Topic2\", \"Topic2\", \"Topic2\", \"Topic2\", \"Topic2\", \"Topic2\", \"Topic2\", \"Topic2\", \"Topic2\", \"Topic2\", \"Topic2\", \"Topic2\", \"Topic2\", \"Topic2\", \"Topic2\", \"Topic2\", \"Topic2\", \"Topic2\", \"Topic2\", \"Topic2\", \"Topic2\", \"Topic2\", \"Topic2\", \"Topic2\", \"Topic2\", \"Topic2\", \"Topic2\", \"Topic2\", \"Topic2\", \"Topic2\", \"Topic2\", \"Topic2\", \"Topic3\", \"Topic3\", \"Topic3\", \"Topic3\", \"Topic3\", \"Topic3\", \"Topic3\", \"Topic3\", \"Topic3\", \"Topic3\", \"Topic3\", \"Topic3\", \"Topic3\", \"Topic3\", \"Topic3\", \"Topic3\", \"Topic3\", \"Topic3\", \"Topic3\", \"Topic3\", \"Topic3\", \"Topic3\", \"Topic3\", \"Topic3\", \"Topic3\", \"Topic3\", \"Topic3\", \"Topic3\", \"Topic3\", \"Topic3\", \"Topic3\", \"Topic3\", \"Topic3\", \"Topic3\", \"Topic3\", \"Topic3\", \"Topic3\", \"Topic3\", \"Topic3\", \"Topic3\", \"Topic3\", \"Topic3\", \"Topic3\", \"Topic3\", \"Topic3\", \"Topic3\", \"Topic3\", \"Topic4\", \"Topic4\", \"Topic4\", \"Topic4\", \"Topic4\", \"Topic4\", \"Topic4\", \"Topic4\", \"Topic4\", \"Topic4\", \"Topic4\", \"Topic4\", \"Topic4\", \"Topic4\", \"Topic4\", \"Topic4\", \"Topic4\", \"Topic4\", \"Topic4\", \"Topic4\", \"Topic4\", \"Topic4\", \"Topic4\", \"Topic4\", \"Topic4\", \"Topic4\", \"Topic4\", \"Topic4\", \"Topic4\", \"Topic4\", \"Topic4\", \"Topic4\", \"Topic4\", \"Topic4\", \"Topic4\", \"Topic4\", \"Topic4\", \"Topic4\", \"Topic4\", \"Topic4\", \"Topic4\", \"Topic4\", \"Topic4\", \"Topic4\", \"Topic4\", \"Topic4\", \"Topic4\", \"Topic4\", \"Topic4\", \"Topic4\", \"Topic4\", \"Topic4\", \"Topic4\", \"Topic4\", \"Topic4\", \"Topic5\", \"Topic5\", \"Topic5\", \"Topic5\", \"Topic5\", \"Topic5\", \"Topic5\", \"Topic5\", \"Topic5\", \"Topic5\", \"Topic5\", \"Topic5\", \"Topic5\", \"Topic5\", \"Topic5\", \"Topic5\", \"Topic5\", \"Topic5\", \"Topic5\", \"Topic5\", \"Topic5\", \"Topic5\", \"Topic5\", \"Topic5\", \"Topic5\", \"Topic5\", \"Topic5\", \"Topic5\", \"Topic5\", \"Topic5\", \"Topic5\", \"Topic5\", \"Topic5\", \"Topic5\", \"Topic5\", \"Topic5\", \"Topic5\", \"Topic5\", \"Topic5\", \"Topic5\", \"Topic5\", \"Topic5\", \"Topic5\", \"Topic5\", \"Topic5\", \"Topic5\", \"Topic5\", \"Topic5\", \"Topic5\", \"Topic5\", \"Topic5\", \"Topic6\", \"Topic6\", \"Topic6\", \"Topic6\", \"Topic6\", \"Topic6\", \"Topic6\", \"Topic6\", \"Topic6\", \"Topic6\", \"Topic6\", \"Topic6\", \"Topic6\", \"Topic6\", \"Topic6\", \"Topic6\", \"Topic6\", \"Topic6\", \"Topic6\", \"Topic6\", \"Topic6\", \"Topic6\", \"Topic6\", \"Topic6\", \"Topic6\", \"Topic6\", \"Topic6\", \"Topic6\", \"Topic6\", \"Topic6\", \"Topic6\", \"Topic6\", \"Topic6\", \"Topic6\", \"Topic6\", \"Topic6\", \"Topic6\", \"Topic6\", \"Topic6\", \"Topic6\", \"Topic6\", \"Topic6\", \"Topic6\", \"Topic6\", \"Topic6\", \"Topic6\", \"Topic6\", \"Topic6\", \"Topic6\", \"Topic6\", \"Topic6\", \"Topic6\", \"Topic6\", \"Topic6\", \"Topic6\", \"Topic6\", \"Topic7\", \"Topic7\", \"Topic7\", \"Topic7\", \"Topic7\", \"Topic7\", \"Topic7\", \"Topic7\", \"Topic7\", \"Topic7\", \"Topic7\", \"Topic7\", \"Topic7\", \"Topic7\", \"Topic7\", \"Topic7\", \"Topic7\", \"Topic7\", \"Topic7\", \"Topic7\", \"Topic7\", \"Topic7\", \"Topic7\", \"Topic7\", \"Topic7\", \"Topic7\", \"Topic7\", \"Topic7\", \"Topic7\", \"Topic7\", \"Topic7\", \"Topic7\", \"Topic7\", \"Topic7\", \"Topic7\", \"Topic7\", \"Topic7\", \"Topic7\", \"Topic7\", \"Topic7\", \"Topic7\", \"Topic7\", \"Topic7\", \"Topic7\", \"Topic7\", \"Topic7\", \"Topic7\", \"Topic7\", \"Topic7\", \"Topic7\", \"Topic7\", \"Topic7\", \"Topic8\", \"Topic8\", \"Topic8\", \"Topic8\", \"Topic8\", \"Topic8\", \"Topic8\", \"Topic8\", \"Topic8\", \"Topic8\", \"Topic8\", \"Topic8\", \"Topic8\", \"Topic8\", \"Topic8\", \"Topic8\", \"Topic8\", \"Topic8\", \"Topic8\", \"Topic8\", \"Topic8\", \"Topic8\", \"Topic8\", \"Topic8\", \"Topic8\", \"Topic8\", \"Topic8\", \"Topic8\", \"Topic8\", \"Topic8\", \"Topic8\", \"Topic8\", \"Topic8\", \"Topic8\", \"Topic8\", \"Topic8\", \"Topic8\", \"Topic8\", \"Topic8\", \"Topic8\", \"Topic8\", \"Topic8\", \"Topic9\", \"Topic9\", \"Topic9\", \"Topic9\", \"Topic9\", \"Topic9\", \"Topic9\", \"Topic9\", \"Topic9\", \"Topic9\", \"Topic9\", \"Topic9\", \"Topic9\", \"Topic9\", \"Topic9\", \"Topic9\", \"Topic9\", \"Topic9\", \"Topic9\", \"Topic9\", \"Topic9\", \"Topic9\", \"Topic9\", \"Topic9\", \"Topic9\", \"Topic9\", \"Topic9\", \"Topic9\", \"Topic9\", \"Topic9\", \"Topic9\", \"Topic9\", \"Topic9\", \"Topic9\", \"Topic9\", \"Topic9\", \"Topic9\", \"Topic9\", \"Topic9\", \"Topic9\", \"Topic9\", \"Topic9\", \"Topic9\", \"Topic9\", \"Topic9\", \"Topic9\", \"Topic9\", \"Topic10\", \"Topic10\", \"Topic10\", \"Topic10\", \"Topic10\", \"Topic10\", \"Topic10\", \"Topic10\", \"Topic10\", \"Topic10\", \"Topic10\", \"Topic10\", \"Topic10\", \"Topic10\", \"Topic10\", \"Topic10\", \"Topic10\", \"Topic10\", \"Topic10\", \"Topic10\", \"Topic10\", \"Topic10\", \"Topic10\", \"Topic10\", \"Topic10\", \"Topic10\", \"Topic10\", \"Topic10\", \"Topic10\", \"Topic10\", \"Topic10\", \"Topic10\", \"Topic10\", \"Topic10\", \"Topic10\", \"Topic10\", \"Topic10\", \"Topic11\", \"Topic11\", \"Topic11\", \"Topic11\", \"Topic11\", \"Topic11\", \"Topic11\", \"Topic11\", \"Topic11\", \"Topic11\", \"Topic11\", \"Topic11\", \"Topic11\", \"Topic11\", \"Topic11\", \"Topic11\", \"Topic11\", \"Topic11\", \"Topic11\", \"Topic11\", \"Topic11\", \"Topic11\", \"Topic11\", \"Topic11\", \"Topic11\", \"Topic11\", \"Topic11\", \"Topic11\", \"Topic11\", \"Topic11\", \"Topic11\", \"Topic11\", \"Topic11\", \"Topic11\", \"Topic11\", \"Topic11\", \"Topic11\", \"Topic11\", \"Topic11\", \"Topic11\", \"Topic11\", \"Topic11\", \"Topic11\", \"Topic11\", \"Topic11\", \"Topic11\", \"Topic11\", \"Topic11\", \"Topic11\", \"Topic12\", \"Topic12\", \"Topic12\", \"Topic12\", \"Topic12\", \"Topic12\", \"Topic12\", \"Topic12\", \"Topic12\", \"Topic12\", \"Topic12\", \"Topic12\", \"Topic12\", \"Topic12\", \"Topic12\", \"Topic12\", \"Topic12\", \"Topic12\", \"Topic12\", \"Topic12\", \"Topic12\", \"Topic12\", \"Topic12\", \"Topic12\", \"Topic12\", \"Topic12\", \"Topic12\", \"Topic12\", \"Topic12\", \"Topic12\", \"Topic12\", \"Topic12\", \"Topic12\", \"Topic12\", \"Topic12\", \"Topic12\", \"Topic12\", \"Topic12\", \"Topic12\", \"Topic12\", \"Topic12\", \"Topic12\", \"Topic12\", \"Topic12\", \"Topic12\", \"Topic12\"], \"Freq\": [959.0, 603.0, 496.0, 643.0, 535.0, 674.0, 207.0, 299.0, 185.0, 424.0, 402.0, 426.0, 146.0, 138.0, 130.0, 128.0, 122.0, 151.0, 228.0, 174.0, 256.0, 228.0, 113.0, 112.0, 165.0, 111.0, 110.0, 110.0, 125.0, 687.0, 169.51649475097656, 121.5213623046875, 106.84188079833984, 96.08647918701172, 91.2906723022461, 77.55091094970703, 58.730812072753906, 74.47174835205078, 77.92823028564453, 51.55364227294922, 42.452327728271484, 42.209922790527344, 49.437015533447266, 41.29081726074219, 38.64212417602539, 37.957725524902344, 35.548675537109375, 34.39372253417969, 33.465431213378906, 33.103450775146484, 29.62160873413086, 29.60792350769043, 29.16382598876953, 29.154903411865234, 27.772979736328125, 26.68804168701172, 25.109329223632812, 24.713926315307617, 23.386926651000977, 22.71837043762207, 515.5293579101562, 384.2698974609375, 57.67927932739258, 556.3423461914062, 161.7291259765625, 49.63460922241211, 129.25247192382812, 100.32169342041016, 103.25596618652344, 42.00422668457031, 45.19597244262695, 81.79058074951172, 73.59149932861328, 105.6334228515625, 178.2063751220703, 81.47491455078125, 277.117919921875, 60.10398864746094, 69.93977355957031, 110.19258880615234, 214.88067626953125, 89.59449768066406, 73.65708923339844, 72.2743148803711, 74.86612701416016, 96.7440414428711, 67.8926010131836, 80.1488037109375, 77.32283782958984, 72.9560317993164, 495.5064392089844, 118.81719207763672, 93.15812683105469, 74.74198913574219, 74.59053039550781, 68.98817443847656, 53.193294525146484, 43.334346771240234, 41.63470458984375, 40.5952033996582, 40.24723434448242, 37.801918029785156, 36.903438568115234, 35.84810256958008, 34.2638053894043, 34.265933990478516, 32.71903991699219, 32.46193313598633, 30.27872657775879, 73.6618881225586, 29.51280975341797, 29.243072509765625, 26.203739166259766, 25.757373809814453, 23.95339584350586, 22.66543960571289, 22.50480079650879, 20.15013313293457, 19.409088134765625, 19.28173065185547, 159.09869384765625, 68.18450164794922, 233.13381958007812, 96.41339111328125, 40.85349655151367, 145.6351776123047, 124.58505249023438, 690.6757202148438, 62.311466217041016, 73.68768310546875, 68.14716339111328, 248.2243194580078, 361.06219482421875, 55.77452087402344, 100.8481216430664, 121.20442199707031, 96.86421966552734, 70.13897705078125, 76.22023010253906, 98.91815948486328, 108.84020233154297, 98.61514282226562, 65.4813232421875, 140.04908752441406, 99.20489501953125, 137.53768920898438, 89.5481185913086, 89.10414123535156, 83.6720199584961, 93.14909362792969, 76.84583282470703, 73.93834686279297, 174.06820678710938, 164.54144287109375, 109.23971557617188, 152.90673828125, 78.3748550415039, 75.61792755126953, 74.6333999633789, 73.39952087402344, 69.28014373779297, 60.406410217285156, 54.95692443847656, 53.46598815917969, 46.21182632446289, 43.67594909667969, 42.470298767089844, 41.99609375, 41.64643859863281, 36.73540496826172, 33.15460205078125, 32.01325988769531, 29.893224716186523, 26.848745346069336, 26.72042465209961, 24.05990219116211, 22.380027770996094, 21.5230712890625, 20.732269287109375, 20.66803550720215, 20.601512908935547, 20.478961944580078, 38.51911544799805, 33.84037399291992, 50.84382247924805, 200.6761016845703, 199.49337768554688, 59.141578674316406, 59.14270782470703, 53.3658332824707, 59.87994384765625, 66.28160858154297, 84.26284790039062, 105.92671966552734, 104.23713684082031, 66.3434066772461, 54.22977066040039, 48.33753204345703, 42.33287811279297, 150.99716186523438, 128.56915283203125, 51.85729217529297, 45.91971969604492, 42.40903854370117, 40.64705276489258, 34.9510612487793, 31.73373031616211, 28.523101806640625, 47.588584899902344, 24.937992095947266, 24.580429077148438, 23.784406661987305, 21.054540634155273, 20.13547706604004, 17.79279136657715, 17.575777053833008, 16.3331241607666, 16.126798629760742, 15.622000694274902, 15.02676010131836, 14.918205261230469, 14.58957576751709, 14.763667106628418, 13.871373176574707, 14.402135848999023, 13.033001899719238, 13.380239486694336, 12.858535766601562, 13.126338958740234, 125.95084381103516, 58.9714469909668, 37.91798782348633, 41.32598114013672, 45.632469177246094, 23.34319496154785, 39.47053909301758, 27.85382080078125, 48.790462493896484, 67.89823150634766, 40.49616622924805, 30.825103759765625, 33.27119064331055, 41.43100357055664, 89.05464935302734, 46.39944839477539, 42.77086639404297, 43.93948745727539, 40.09047317504883, 42.83097457885742, 40.55620193481445, 34.89714813232422, 36.66887283325195, 34.37217712402344, 33.49699401855469, 95.24319458007812, 89.00416564941406, 84.68555450439453, 69.67449188232422, 59.05815124511719, 61.26660919189453, 91.71391296386719, 53.96379852294922, 42.18510055541992, 39.22372055053711, 35.57176208496094, 31.835784912109375, 27.58256721496582, 26.93643569946289, 26.07447624206543, 25.31061553955078, 23.943321228027344, 22.037460327148438, 22.001190185546875, 21.433849334716797, 21.358078002929688, 20.453248977661133, 19.990741729736328, 19.075576782226562, 18.989362716674805, 18.08492088317871, 17.418109893798828, 17.148685455322266, 16.09290313720703, 15.112482070922852, 62.66356658935547, 25.89046859741211, 82.97987365722656, 101.44859313964844, 234.97232055664062, 58.83586120605469, 172.17796325683594, 40.615867614746094, 25.597402572631836, 41.1956901550293, 89.1072769165039, 44.77653884887695, 43.09680938720703, 34.62338638305664, 56.40306091308594, 36.50357437133789, 82.0642318725586, 38.059593200683594, 47.16685485839844, 37.02054977416992, 35.3606071472168, 59.47447967529297, 49.40345764160156, 36.101219177246094, 24.472881317138672, 23.852420806884766, 21.805801391601562, 21.034482955932617, 20.283771514892578, 20.044198989868164, 19.433963775634766, 18.95096778869629, 18.095470428466797, 17.10740852355957, 17.086666107177734, 16.399507522583008, 16.170095443725586, 15.366965293884277, 15.356305122375488, 16.585891723632812, 17.653156280517578, 13.658349990844727, 13.45226764678955, 13.093114852905273, 13.016563415527344, 12.702123641967773, 12.689228057861328, 12.308863639831543, 12.123992919921875, 11.777703285217285, 11.753504753112793, 47.333412170410156, 106.36695861816406, 21.0285701751709, 23.374670028686523, 18.82050132751465, 35.93323516845703, 22.500635147094727, 29.963916778564453, 39.01182174682617, 22.62778091430664, 28.01957130432129, 162.31539916992188, 61.61193084716797, 26.80571174621582, 57.828643798828125, 125.73481750488281, 62.184844970703125, 35.593997955322266, 32.78415298461914, 60.13459777832031, 30.366230010986328, 26.4342098236084, 30.054405212402344, 25.761873245239258, 26.504817962646484, 22.522279739379883, 207.00030517578125, 184.45135498046875, 124.4146957397461, 52.38142395019531, 34.544925689697266, 34.36591339111328, 26.077177047729492, 24.85239601135254, 22.78860092163086, 22.424335479736328, 22.180679321289062, 22.06178092956543, 18.351028442382812, 17.710630416870117, 16.69477653503418, 16.58500099182129, 15.789265632629395, 15.579782485961914, 15.39248275756836, 14.995593070983887, 14.939037322998047, 13.693153381347656, 12.634371757507324, 12.093077659606934, 11.718018531799316, 11.297557830810547, 11.176755905151367, 10.755412101745605, 10.634215354919434, 10.581568717956543, 18.903383255004883, 23.79132843017578, 45.667449951171875, 44.45197296142578, 65.16571807861328, 20.439668655395508, 26.270811080932617, 37.99971008300781, 24.958465576171875, 50.75590515136719, 44.480438232421875, 40.364585876464844, 38.46152114868164, 64.4041976928711, 32.620506286621094, 24.344127655029297, 39.19319152832031, 33.785484313964844, 30.42866325378418, 24.23175048828125, 26.279560089111328, 23.105377197265625, 104.70869445800781, 66.33065795898438, 59.73628616333008, 59.28767395019531, 56.11972427368164, 48.2577018737793, 37.746158599853516, 27.36300277709961, 26.56181526184082, 24.67351722717285, 26.09784507751465, 24.53847885131836, 22.775379180908203, 21.812732696533203, 20.39562225341797, 19.65215492248535, 18.939512252807617, 17.7456111907959, 17.21934700012207, 16.977846145629883, 16.621259689331055, 79.39205169677734, 12.302175521850586, 12.02983283996582, 11.831228256225586, 11.149267196655273, 10.70898151397705, 10.10074520111084, 10.016915321350098, 9.807881355285645, 10.428211212158203, 31.64533042907715, 17.191299438476562, 23.29576301574707, 28.706666946411133, 288.3441162109375, 186.00465393066406, 18.188047409057617, 31.914445877075195, 30.54178237915039, 29.03309440612793, 19.08932876586914, 90.50727081298828, 86.17253875732422, 106.9246826171875, 107.16156005859375, 41.355491638183594, 38.688716888427734, 27.473997116088867, 25.622661590576172, 20.287141799926758, 18.88182258605957, 18.680500030517578, 18.276018142700195, 17.310836791992188, 15.982588768005371, 15.253328323364258, 14.9817533493042, 14.53939437866211, 14.067405700683594, 13.650962829589844, 12.968677520751953, 12.968668937683105, 12.706642150878906, 12.622513771057129, 12.535393714904785, 12.37230396270752, 12.246217727661133, 11.427824974060059, 10.36866283416748, 10.146627426147461, 10.05069351196289, 21.795001983642578, 12.88680362701416, 26.71091079711914, 50.612327575683594, 51.01128005981445, 24.947784423828125, 48.58320617675781, 17.08695411682129, 25.827896118164062, 35.85982894897461, 14.28470516204834, 16.509965896606445, 18.404964447021484, 21.51396942138672, 17.586048126220703, 15.559488296508789, 16.035776138305664, 145.4843292236328, 138.12586975097656, 129.64544677734375, 127.84027099609375, 121.3419189453125, 113.03864288330078, 111.68038177490234, 110.88409423828125, 109.48046875, 109.45429229736328, 105.86996459960938, 102.05350494384766, 100.91868591308594, 47.25975036621094, 15.109345436096191, 14.054790496826172, 13.232460975646973, 10.75680923461914, 10.693926811218262, 9.791228294372559, 9.39846134185791, 9.379229545593262, 8.74555492401123, 7.5217108726501465, 7.52168607711792, 7.0834760665893555, 6.5737385749816895, 6.439187526702881, 44.646785736083984, 5.679736137390137, 13.150131225585938, 23.482654571533203, 135.04666137695312, 12.87642765045166, 13.519835472106934, 11.558947563171387, 13.743951797485352, 26.135009765625, 25.464235305786133, 21.07603645324707, 18.410219192504883, 14.374252319335938, 12.902215003967285, 12.602616310119629, 11.59229564666748, 11.124550819396973, 11.115521430969238, 10.002864837646484, 10.063794136047363, 9.571798324584961, 9.376275062561035, 9.30133056640625, 9.235512733459473, 10.540119171142578, 9.076613426208496, 8.543153762817383, 8.393351554870605, 8.141197204589844, 8.075358390808105, 7.439665794372559, 7.224037170410156, 6.813082218170166, 6.681625843048096, 6.644792556762695, 6.168183326721191, 6.158998489379883, 5.811941146850586, 12.48680305480957, 12.548359870910645, 20.880605697631836, 11.846796989440918, 11.739493370056152, 28.977066040039062, 15.497806549072266, 12.036225318908691, 31.41579818725586, 12.901017189025879, 11.109960556030273, 16.249313354492188, 19.18764877319336, 13.287445068359375, 12.577677726745605, 12.895589828491211, 12.040382385253906, 11.80521011352539, 12.56875228881836, 31.765640258789062, 27.112728118896484, 22.847766876220703, 19.738666534423828, 17.164962768554688, 14.695761680603027, 14.13882064819336, 13.786991119384766, 10.51624870300293, 10.358413696289062, 9.997483253479004, 9.449631690979004, 8.928302764892578, 8.696816444396973, 8.09273624420166, 8.000235557556152, 7.944000244140625, 7.916823387145996, 7.619350433349609, 7.387053489685059, 27.56406021118164, 7.024385929107666, 6.904552459716797, 6.857420921325684, 6.7649102210998535, 6.514549732208252, 8.048152923583984, 6.180792331695557, 6.068326473236084, 5.845136642456055, 11.667481422424316, 26.643360137939453, 19.049942016601562, 10.182233810424805, 8.980897903442383, 17.410991668701172, 8.809087753295898, 16.9637451171875, 8.464122772216797, 14.812920570373535, 12.630218505859375, 12.589018821716309, 12.90978717803955, 12.411625862121582, 9.258281707763672, 8.557088851928711], \"Term\": [\"Obama\", \"President\", \"\\u2014President\", \"'s\", \"amp\", \"will\", \"ActOnClimate\", \"today\", \"change\", \"We\", \"\\u2014\", \"great\", \"well\", \"strong\", \"Minister\", \"Prime\", \"attack\", \"Democrats\", \"\\u201c\", \"Fake\", \"America\", \"\\u201d\", \"She\", \"May\", \"News\", \"condolences\", \"London\", \"terrorist\", \"climate\", \"I\", \"Great\", \"Korea\", \"North\", \"China\", \"Tax\", \"news\", \"Will\", \"bad\", \"trade\", \"Bill\", \"Stock\", \"dollars\", \"Cuts\", \"Market\", \"healthcare\", \"taxes\", \"Very\", \"numbers\", \"reported\", \"w/\", \"Repeal\", \"business\", \"Good\", \"TAX\", \"hit\", \"Luther\", \"Cut\", \"Replace\", \"fast\", \"Economic\", \"amp\", \"great\", \"ObamaCare\", \"will\", \"U.S.\", \"Country\", \"many\", \"House\", \"much\", \"Trade\", \"military\", \"even\", \"done\", \"big\", \"people\", \"hard\", \"I\", \"win\", \"Republicans\", \"years\", \"The\", \"good\", \"better\", \"States\", \"United\", \"...\", \"never\", \"time\", \"We\", \"country\", \"\\u2014President\", \"SOTU\", \"GetCovered\", \"'ve\", \"chance\", \"million\", \"sure\", \"Let\", \"private\", \"free\", \"God\", \"sector\", \"something\", \"leave\", \"covered\", \"opportunity\", \"works\", \"miss\", \"added\", \"You\", \"wage\", \"Enter\", \"Be\", \"minimum\", \"school\", \"options\", \"Getting\", \"sick\", \"six\", \"clear\", \"Americans\", \"every\", \"America\", \"care\", \"part\", \"economy\", \"make\", \"Obama\", \"really\", \"keep\", \"'re\", \"\\u2014\", \"'s\", \"months\", \"jobs\", \"This\", \"work\", \"record\", \"world\", \"year\", \"can\", \"one\", \"right\", \"We\", \"n't\", \"The\", \"American\", \"\\u2019s\", \"years\", \"I\", \"get\", \"It\", \"Fake\", \"News\", \"Russia\", \"Trump\", \"AMERICA\", \"Hillary\", \"FBI\", \"Clinton\", \"Media\", \"Comey\", \"AGAIN\", \"Crooked\", \"MAKE\", \"James\", \"Witch\", \"Russian\", \"Hunt\", \"phony\", \"collusion\", \"CNN\", \"true\", \"FAKE\", \"Collusion\", \"NEWS\", \"dishonest\", \"called\", \"ratings\", \"Campaign\", \"Department\", \"reporting\", \"Justice\", \"total\", \"campaign\", \"\\u201c\", \"\\u201d\", \"story\", \"Big\", \"election\", \"GREAT\", \"n\\u2019t\", \"...\", \"The\", \"I\", \"now\", \"just\", \"\\u2019s\", \"....\", \"Democrats\", \"offer\", \"DACA\", \"Washington\", \"taking\", \"Wall\", \"fact\", \"Senators\", \"safety\", \"Why\", \"easy\", \"Post\", \"dangerous\", \"came\", \"words\", \"watching\", \"Amazon\", \"amazing\", \"Vote\", \"drugs\", \"gone\", \"4\", \"legislation\", \"terrorism\", \"save\", \"Street\", \"hurt\", \"actions\", \"tougher\", \"Southern\", \"want\", \"Republican\", \"Now\", \"welcome\", \"@WhiteHouse\", \"able\", \"stop\", \"power\", \"take\", \"must\", \"Border\", \"money\", \"place\", \"honor\", \"The\", \"It\", \"\\u2019s\", \"...\", \"country\", \"We\", \"people\", \"n\\u2019t\", \"I\", \"great\", \"will\", \"fair\", \"Judge\", \"Garland\", \"hearing\", \"agree\", \"Add\", \"name\", \"weekly\", \"media\", \"across\", \"add\", \"deserves\", \"equality\", \"@VP\", \"discusses\", \"LoveIsLove\", \"voice\", \"Biden\", \"Retweet\", \"common\", \"'ll\", \"Merrick\", \"sense\", \"boards\", \"overtime\", \"Stand\", \"less\", \"enough\", \"matters\", \"petition\", \"address\", \"nomination\", \"DoYourJob\", \"Senate\", \"'s\", \"leaders\", \"President\", \"give\", \"supporters\", \"@OFA\", \"\\u2014\", \"In\", \"vote\", \"important\", \"time\", \"Watch\", \"Obama\", \"Read\", \"It\", \"support\", \"country\", \"immigration\", \"night\", \"John\", \"saying\", \"problem\", \"7\", \"sources\", \"brave\", \"remember\", \"Arizona\", \"\\u2019ll\", \"majority\", \"passed\", \"Veterans\", \"wo\", \"60\", \"forget\", \"Responders\", \"solve\", \"HEROES\", \"serve\", \"plus\", \"citizens\", \"VA\", \"police\", \"Order\", \"failed\", \"Kelly\", \"Deal\", \"financial\", \"ca\", \"need\", \"weak\", \"broken\", \"To\", \"men\", \"bill\", \"illegal\", \"system\", \"safe\", \"First\", \"We\", \"Congress\", \"pass\", \"n\\u2019t\", \"I\", \"n't\", \"last\", \"women\", \"will\", \"If\", \"families\", \"us\", \"Today\", \"can\", \"They\", \"ActOnClimate\", \"change\", \"climate\", \"energy\", \"Team\", \"insurance\", \"pollution\", \"movement\", \"Truth\", \"Clean\", \"Climate\", \"York\", \"Plan\", \"carbon\", \"solar\", \"Power\", \"deniers\", \"Hurricane\", \"grassroots\", \"Stay\", \"Chip\", \"bold\", \"Israel\", \"potential\", \"Since\", \"quality\", \"wait\", \"Harvey\", \"reduce\", \"Times\", \"thanks\", \"More\", \"Join\", \"New\", \"fight\", \"clean\", \"facts\", \"action\", \"companies\", \"health\", \"Read\", \"@OFA\", \"support\", \"\\u2014\", \"Obamacare\", \"join\", \"now\", \"today\", \"n't\", \"progress\", \"'s\", \"The\", \"LIVE\", \"speaking\", \"ET\", \"watch\", \"Tune\", \"p.m.\", \"On\", \"thank\", \"Secretary\", \"NFL\", \"THANK\", \"Anthem\", \"delivering\", \"Together\", \"remarks\", \"behalf\", \"Council\", \"High\", \"criminal\", \"Happening\", \"Nations\", \"National\", \"Ohio\", \"Flag\", \"Center\", \"event\", \"Under\", \"celebrating\", \"2014\", \"disrespect\", \"School\", \"speak\", \"3\", \"statement\", \"YOU\", \"President\", \"Obama\", \"justice\", \"Watch\", \"State\", \"now\", \"Day\", \"Court\", \"Supreme\", \"\\ud83c\\uddfa\", \"\\ud83c\\uddf8\", \"\\u27a1\", \"\\ufe0fhttps://t.co\", \"Governor\", \"vacancy\", \"fill\", \"obstruction\", \"Enjoy\", \"Virginia\", \"industry\", \"Presidential\", \"unprecedented\", \"West\", \"Kim\", \"spoke\", \"\\ud83c\\udfa5\", \"interviewed\", \"respect\", \"AmericaFirst\", \"Un\", \"Consumer\", \"Jong\", \"M\", \"Proclamation\", \"went\", \"Air\", \"beyond\", \"https://t.co\", \"games\", \"SCOTUS\", \"leaders\", \"DoYourJob\", \"USA\", \"Senate\", \"politics\", \"Thank\", \"I\", \"OUR\", \"political\", \"GREAT\", \"The\", \"It\", \"put\", \"American\", \"well\", \"strong\", \"Minister\", \"Prime\", \"attack\", \"She\", \"May\", \"condolences\", \"London\", \"terrorist\", \"Spoke\", \"U.K.\", \"Theresa\", \"said\", \"happened\", \"focus\", \"asking\", \"especially\", \"accomplished\", \"heroes\", \"treated\", \"spirit\", \"recorded\", \"Never\", \"Obstruction\", \"@SenateMajLdr\", \"ruling\", \"whether\", \"meeting\", \"whatever\", \"East\", \"With\", \"today\", \"Middle\", \"left\", \"SCOTUS\", \"ever\", \"beautiful\", \"Jobs\", \"historic\", \"France\", \"WH\", \"speech\", \"Guard\", \"Year\", \"@EmmanuelMacron\", \"move\", \"Would\", \"wish\", \"behind\", \"How\", \"nice\", \"exciting\", \"Vietnam\", \"weeks\", \"\\u2714\", \"Coast\", \"Friday\", \"Mayor\", \"Commander\", \"Wisconsin\", \"vital\", \"UnitedOnClimate\", \"War\", \"manufacturing\", \"Rasmussen\", \"deficit\", \"From\", \"nations\", \"family\", \"@nytimes\", \"anyone\", \"honor\", \"days\", \"@FLOTUS\", \"President\", \"Melania\", \"given\", \"Today\", \"It\", \"Congratulations\", \"two\", \"world\", \"So\", \"forward\", \"I\", \"prayers\", \"thoughts\", \"nominee\", \"cuts\", \"victims\", \"top\", \"kind\", \"point\", \"official\", \"qualified\", \"foreign\", \"teachers\", \"Leaving\", \"happens\", \"policy\", \"choice\", \"largest\", \"discussing\", \"gives\", \"Saturday\", \"violence\", \"Affordable\", \"April\", \"calls\", \"board\", \"December\", \"DoSomething\", \"Singapore\", \"gets\", \"constitutional\", \"holding\", \"gun\", \"morning\", \"leading\", \"killed\", \"young\", \"terror\", \"My\", \"try\", \"families\", \"Our\", \"world\", \"will\", \"The\", \"go\", \"building\"], \"Total\": [959.0, 603.0, 496.0, 643.0, 535.0, 674.0, 207.0, 299.0, 185.0, 424.0, 402.0, 426.0, 146.0, 138.0, 130.0, 128.0, 122.0, 151.0, 228.0, 174.0, 256.0, 228.0, 113.0, 112.0, 165.0, 111.0, 110.0, 110.0, 125.0, 687.0, 170.27117919921875, 122.2838134765625, 107.59569549560547, 96.83944702148438, 92.10418701171875, 78.33292388916016, 59.49242401123047, 75.45098876953125, 79.05812072753906, 52.4112434387207, 43.19911575317383, 42.95670700073242, 50.31979751586914, 42.038368225097656, 39.3889045715332, 38.704498291015625, 36.30189514160156, 35.14152145385742, 34.21221923828125, 33.85042190551758, 30.368379592895508, 30.359342575073242, 29.910612106323242, 29.90168571472168, 28.520753860473633, 27.448537826538086, 25.85610580444336, 25.460697174072266, 24.141605377197266, 23.465147018432617, 535.711669921875, 426.24114990234375, 60.65464401245117, 674.529541015625, 198.6417236328125, 54.618289947509766, 165.57110595703125, 127.70934295654297, 139.03953552246094, 46.4493408203125, 51.10513687133789, 112.80433654785156, 98.66706085205078, 160.8643035888672, 337.4237976074219, 115.74479675292969, 687.6541137695312, 75.67940521240234, 96.5504379272461, 199.10169982910156, 642.5171508789062, 156.51809692382812, 114.28033447265625, 113.51045227050781, 125.56011962890625, 265.54107666015625, 100.4522933959961, 256.41595458984375, 424.4326171875, 199.86631774902344, 496.24493408203125, 119.55702209472656, 93.8965835571289, 75.48102569580078, 75.33985137939453, 69.77947235107422, 53.931758880615234, 44.07282638549805, 42.3731689453125, 41.339271545410156, 40.98571014404297, 38.540374755859375, 37.64849090576172, 36.58659362792969, 35.00226593017578, 35.004638671875, 33.4575080871582, 33.20039749145508, 31.017179489135742, 75.48506164550781, 30.251266479492188, 29.98160171508789, 26.942203521728516, 26.495826721191406, 24.69533920288086, 23.403892517089844, 23.29842758178711, 20.888612747192383, 20.147550582885742, 20.02027130126953, 166.6692352294922, 71.29176330566406, 256.1575622558594, 106.2950439453125, 43.51142120361328, 167.5304412841797, 146.79798889160156, 959.3701171875, 71.68648529052734, 89.38150024414062, 83.03022003173828, 402.3330078125, 643.5962524414062, 65.42092895507812, 143.0120849609375, 182.91421508789062, 147.7522735595703, 93.59169006347656, 107.7457504272461, 159.38070678710938, 190.29217529296875, 164.2366180419922, 91.97622680664062, 424.4326171875, 244.2274627685547, 642.5171508789062, 212.72865295410156, 223.33522033691406, 199.10169982910156, 687.6541137695312, 209.28976440429688, 238.56735229492188, 174.8263702392578, 165.3014678955078, 109.98986053466797, 153.9949493408203, 79.12493133544922, 76.36801147460938, 75.38347625732422, 74.14960479736328, 70.0302505493164, 61.156639099121094, 55.707008361816406, 54.21607208251953, 46.961910247802734, 44.42604446411133, 43.220436096191406, 42.746185302734375, 42.39657211303711, 37.48549270629883, 33.90468215942383, 32.763343811035156, 30.692623138427734, 27.59906005859375, 27.470539093017578, 24.809993743896484, 23.13011360168457, 22.274105072021484, 21.482378005981445, 21.418113708496094, 21.351600646972656, 21.22917366027832, 39.98922348022461, 35.12877655029297, 53.94341278076172, 228.6582489013672, 228.2582550048828, 64.0652084350586, 68.70990753173828, 62.32279586791992, 111.76667022705078, 159.62774658203125, 265.54107666015625, 642.5171508789062, 687.6541137695312, 293.9129638671875, 210.7595672607422, 223.33522033691406, 130.47210693359375, 151.7479248046875, 129.31997680664062, 52.61133575439453, 46.67040252685547, 43.15983581542969, 41.40003204345703, 35.701847076416016, 32.484413146972656, 29.273839950561523, 48.86444854736328, 25.68868064880371, 25.33110809326172, 24.5354061126709, 21.830299377441406, 20.886165618896484, 18.543481826782227, 18.326459884643555, 17.083816528320312, 16.877477645874023, 16.377748489379883, 15.777441024780273, 15.668930053710938, 15.34118366241455, 15.528128623962402, 14.62212085723877, 15.219564437866211, 13.783686637878418, 14.153949737548828, 13.60921859741211, 13.8953857421875, 154.63331604003906, 70.20675659179688, 46.45602798461914, 51.87435531616211, 59.019832611083984, 27.630887985229492, 55.17338562011719, 35.52970886230469, 74.95606231689453, 126.14945220947266, 63.31740188598633, 44.31902313232422, 55.66233825683594, 112.27994537353516, 642.5171508789062, 238.56735229492188, 223.33522033691406, 265.54107666015625, 199.86631774902344, 424.4326171875, 337.4237976074219, 159.62774658203125, 687.6541137695312, 426.24114990234375, 674.529541015625, 96.00152587890625, 89.75564575195312, 85.43701934814453, 70.42597198486328, 59.809635162353516, 62.048797607421875, 92.94225311279297, 54.71527099609375, 42.93659973144531, 39.975250244140625, 36.3232421875, 32.587276458740234, 28.334043502807617, 27.688026428222656, 26.82594871520996, 26.062089920043945, 24.694799423217773, 22.788938522338867, 22.75591468811035, 22.18532943725586, 22.109560012817383, 21.2047176361084, 20.742273330688477, 19.827049255371094, 19.74088478088379, 18.83640480041504, 18.16961669921875, 17.900230407714844, 16.844385147094727, 15.863957405090332, 71.49881744384766, 29.4638614654541, 134.68023681640625, 193.4266357421875, 643.5962524414062, 110.1372299194336, 603.101318359375, 74.04258728027344, 32.47452163696289, 82.24452209472656, 402.3330078125, 101.25234985351562, 96.36416625976562, 66.51129913330078, 256.41595458984375, 80.0094223022461, 959.3701171875, 95.18187713623047, 238.56735229492188, 111.78303527832031, 199.86631774902344, 60.285919189453125, 50.18385696411133, 36.851985931396484, 25.223651885986328, 24.60320281982422, 22.556581497192383, 21.785266876220703, 21.035202026367188, 20.79497718811035, 20.185022354125977, 19.706998825073242, 18.84623908996582, 17.85818099975586, 17.85447883605957, 17.150503158569336, 16.920881271362305, 16.117740631103516, 16.107070922851562, 17.40496253967285, 18.560205459594727, 14.409124374389648, 14.203048706054688, 13.843883514404297, 13.767339706420898, 13.452892303466797, 13.439997673034668, 13.059676170349121, 12.874757766723633, 12.528486251831055, 12.505244255065918, 52.471927642822266, 127.78569793701172, 23.279027938842773, 26.116870880126953, 20.675148010253906, 42.380985260009766, 25.781879425048828, 37.7637825012207, 53.78632736206055, 28.02634048461914, 37.38800048828125, 424.4326171875, 123.2784423828125, 37.6981086730957, 159.62774658203125, 687.6541137695312, 244.2274627685547, 104.75515747070312, 85.3598861694336, 674.529541015625, 107.48591613769531, 72.55323791503906, 126.43830108642578, 114.78341674804688, 190.29217529296875, 117.68214416503906, 207.7500457763672, 185.20111083984375, 125.1644058227539, 53.131736755371094, 35.294654846191406, 35.115779876708984, 26.82689666748047, 25.60211944580078, 23.53831672668457, 23.174055099487305, 22.93039894104004, 22.811508178710938, 19.100746154785156, 18.460350036621094, 17.444507598876953, 17.334716796875, 16.538982391357422, 16.32952117919922, 16.142248153686523, 15.745325088500977, 15.689292907714844, 14.44288444519043, 13.384099006652832, 12.842843055725098, 12.467752456665039, 12.047286987304688, 11.926495552062988, 11.505864143371582, 11.385042190551758, 11.331298828125, 20.502878189086914, 26.86484718322754, 57.72216033935547, 59.046600341796875, 93.13108825683594, 24.675811767578125, 34.5170783996582, 59.29259490966797, 37.17084884643555, 114.89981842041016, 95.18187713623047, 82.24452209472656, 111.78303527832031, 402.3330078125, 86.62975311279297, 46.048194885253906, 293.9129638671875, 299.10009765625, 244.2274627685547, 103.63162231445312, 643.5962524414062, 642.5171508789062, 105.46204376220703, 67.083984375, 60.48960876464844, 60.0410041809082, 56.873046875, 49.011024475097656, 38.50071716308594, 28.129886627197266, 27.315162658691406, 25.426904678344727, 26.896934509277344, 25.29180145263672, 23.528718948364258, 22.56609344482422, 21.14895248413086, 20.405481338500977, 19.692848205566406, 18.498985290527344, 17.97268295288086, 17.731168746948242, 17.374595642089844, 83.76496887207031, 13.055519104003906, 12.783162117004395, 12.584572792053223, 11.902606010437012, 11.462327003479004, 10.854132652282715, 10.770255088806152, 10.561213493347168, 11.242855072021484, 35.433387756347656, 19.596189498901367, 28.055646896362305, 36.96101379394531, 603.101318359375, 959.3701171875, 26.894115447998047, 80.0094223022461, 76.56611633300781, 293.9129638671875, 56.752601623535156, 91.26612854003906, 86.931396484375, 108.68401336669922, 108.93609619140625, 42.117401123046875, 39.44949722290039, 28.232864379882812, 26.381521224975586, 21.046001434326172, 19.64069175720215, 19.43936538696289, 19.034889221191406, 18.0697078704834, 16.741451263427734, 16.019887924194336, 15.740622520446777, 15.298561096191406, 14.826289176940918, 14.410481452941895, 13.72754192352295, 13.727543830871582, 13.465988159179688, 13.381391525268555, 13.294952392578125, 13.131184577941895, 13.005096435546875, 12.1867036819458, 11.127551078796387, 10.905516624450684, 10.809576034545898, 24.049245834350586, 14.074469566345215, 38.97072982788086, 110.1372299194336, 134.68023681640625, 48.886749267578125, 193.4266357421875, 28.38866424560547, 141.29476928710938, 687.6541137695312, 20.880340576171875, 40.57622528076172, 111.76667022705078, 642.5171508789062, 238.56735229492188, 55.5984001159668, 212.72865295410156, 146.24771118164062, 138.89073181152344, 130.4088134765625, 128.6036376953125, 122.10529327392578, 113.802001953125, 112.4437484741211, 111.64745330810547, 110.24382781982422, 110.2176513671875, 106.6333236694336, 102.81685638427734, 101.68203735351562, 48.02313232421875, 15.872732162475586, 14.81820297241211, 13.995853424072266, 11.5201997756958, 11.457310676574707, 10.554716110229492, 10.161971092224121, 10.142608642578125, 9.50892162322998, 8.285083770751953, 8.285088539123535, 7.8468499183654785, 7.3371100425720215, 7.202575206756592, 50.00077819824219, 6.443115234375, 15.760416984558105, 30.11113739013672, 299.10009765625, 19.19417381286621, 29.161273956298828, 38.97072982788086, 93.62731170654297, 26.897441864013672, 26.224912643432617, 21.836715698242188, 19.17103385925293, 15.184927940368652, 13.662898063659668, 13.363293647766113, 12.352974891662598, 11.885226249694824, 11.87620735168457, 10.7635498046875, 10.830090522766113, 10.332487106323242, 10.136988639831543, 10.062003135681152, 9.996198654174805, 11.421829223632812, 9.837392807006836, 9.30382251739502, 9.154019355773926, 8.901883125305176, 8.836080551147461, 8.200332641601562, 7.984730243682861, 7.573767185211182, 7.442309379577637, 7.405649185180664, 6.928853988647461, 6.919684886932373, 6.572617530822754, 15.29725456237793, 18.760488510131836, 42.38465881347656, 19.57921028137207, 20.258960723876953, 112.27994537353516, 35.443336486816406, 27.688949584960938, 603.101318359375, 38.41005325317383, 25.835254669189453, 114.78341674804688, 238.56735229492188, 58.60871887207031, 61.375484466552734, 107.7457504272461, 71.73390197753906, 74.01874542236328, 687.6541137695312, 32.52674102783203, 27.873828887939453, 23.608875274658203, 20.499778747558594, 17.927980422973633, 15.456879615783691, 14.899930953979492, 14.548110961914062, 11.277365684509277, 11.119516372680664, 10.758591651916504, 10.210750579833984, 9.690179824829102, 9.457929611206055, 8.85385513305664, 8.761344909667969, 8.705109596252441, 8.677943229675293, 8.380457878112793, 8.148160934448242, 30.431299209594727, 7.785484313964844, 7.665660381317139, 7.618531227111816, 7.526023864746094, 7.275667190551758, 9.030387878417969, 6.9419074058532715, 6.829437732696533, 6.606247901916504, 14.117757797241211, 35.904541015625, 26.99724006652832, 12.855368614196777, 11.030309677124023, 27.34969711303711, 11.91089153289795, 47.88685607910156, 11.882172584533691, 72.55323791503906, 97.72611236572266, 107.7457504272461, 674.529541015625, 642.5171508789062, 75.55082702636719, 21.915369033813477], \"loglift\": [30.0, 29.0, 28.0, 27.0, 26.0, 25.0, 24.0, 23.0, 22.0, 21.0, 20.0, 19.0, 18.0, 17.0, 16.0, 15.0, 14.0, 13.0, 12.0, 11.0, 10.0, 9.0, 8.0, 7.0, 6.0, 5.0, 4.0, 3.0, 2.0, 1.0, 1.6039999723434448, 1.6022000312805176, 1.6015000343322754, 1.6007000207901, 1.5995999574661255, 1.5985000133514404, 1.5956000089645386, 1.5953999757766724, 1.594099998474121, 1.5920000076293945, 1.5910999774932861, 1.590999960899353, 1.5908000469207764, 1.590499997138977, 1.5893000364303589, 1.5889999866485596, 1.587499976158142, 1.5870000123977661, 1.586400032043457, 1.5861999988555908, 1.5836000442504883, 1.583400011062622, 1.5831999778747559, 1.5831999778747559, 1.5819000005722046, 1.580399990081787, 1.579200029373169, 1.5786999464035034, 1.57669997215271, 1.5760999917984009, 1.570099949836731, 1.5047999620437622, 1.5582000017166138, 1.4158999919891357, 1.402899980545044, 1.5127999782562256, 1.3609000444412231, 1.3671000003814697, 1.3108999729156494, 1.5078999996185303, 1.4855999946594238, 1.2869999408721924, 1.3152999877929688, 1.1878999471664429, 0.9700999855995178, 1.2574000358581543, 0.6995999813079834, 1.378100037574768, 1.2861000299453735, 1.0168999433517456, 0.5131999850273132, 1.0506000518798828, 1.1692999601364136, 1.157099962234497, 1.0914000272750854, 0.598800003528595, 1.2166999578475952, 0.4456000030040741, -0.09430000185966492, 0.6007000207901001, 1.7930999994277954, 1.7884000539779663, 1.7867000102996826, 1.7848000526428223, 1.784600019454956, 1.7832000255584717, 1.7807999849319458, 1.7776999473571777, 1.7770999670028687, 1.7764999866485596, 1.7764999866485596, 1.7753000259399414, 1.7746000289916992, 1.7741999626159668, 1.773300051689148, 1.773300051689148, 1.7723000049591064, 1.7720999717712402, 1.7704999446868896, 1.7702000141143799, 1.7698999643325806, 1.769700050354004, 1.766800045967102, 1.7663999795913696, 1.7640999555587769, 1.7625999450683594, 1.7599999904632568, 1.7585999965667725, 1.7573000192642212, 1.7569999694824219, 1.7481000423431396, 1.750100016593933, 1.7005000114440918, 1.697100043296814, 1.731600046157837, 1.6546000242233276, 1.6305999755859375, 1.465999960899353, 1.6545000076293945, 1.6016000509262085, 1.597100019454956, 1.3116999864578247, 1.216599941253662, 1.63510000705719, 1.4452999830245972, 1.3831000328063965, 1.3724000453948975, 1.5061999559402466, 1.4485000371932983, 1.3176000118255615, 1.2359999418258667, 1.284500002861023, 1.4549000263214111, 0.6858999729156494, 0.8937000036239624, 0.2531000077724457, 0.9294000267982483, 0.8758000135421753, 0.9276999831199646, -0.2045000046491623, 0.7926999926567078, 0.623199999332428, 2.1331000328063965, 2.1328999996185303, 2.1305999755859375, 2.1303999423980713, 2.128000020980835, 2.1275999546051025, 2.127500057220459, 2.1273000240325928, 2.126699924468994, 2.1250998973846436, 2.1238999366760254, 2.123500108718872, 2.1214001178741455, 2.1203999519348145, 2.119999885559082, 2.119800090789795, 2.1196000576019287, 2.117300033569336, 2.1150999069213867, 2.114300012588501, 2.1110999584198, 2.1098999977111816, 2.109800100326538, 2.106800079345703, 2.1045000553131104, 2.1031999588012695, 2.101900100708008, 2.101799964904785, 2.1017000675201416, 2.1015000343322754, 2.0999999046325684, 2.100100040435791, 2.0782999992370605, 2.0069000720977783, 2.0027999877929688, 2.057499885559082, 1.9874999523162842, 1.982300043106079, 1.5133999586105347, 1.2584999799728394, 0.9896000027656555, 0.33480000495910645, 0.250900000333786, 0.6489999890327454, 0.7799999713897705, 0.6069999933242798, 1.0118999481201172, 2.5062999725341797, 2.5053999423980713, 2.496799945831299, 2.494999885559082, 2.4937000274658203, 2.4928998947143555, 2.490000009536743, 2.4879000186920166, 2.485300064086914, 2.484800100326538, 2.481600046157837, 2.4811999797821045, 2.4802000522613525, 2.475100040435791, 2.474600076675415, 2.469899892807007, 2.469399929046631, 2.4663000106811523, 2.4656999111175537, 2.4639999866485596, 2.4625000953674316, 2.462100028991699, 2.4609999656677246, 2.4607999324798584, 2.4584999084472656, 2.4560000896453857, 2.455199956893921, 2.4549999237060547, 2.4544999599456787, 2.4542999267578125, 2.3060998916625977, 2.336899995803833, 2.308199882507324, 2.283900022506714, 2.253999948501587, 2.342600107192993, 2.176300048828125, 2.2678000926971436, 2.081899881362915, 1.891800045967102, 2.064300060272217, 2.148200035095215, 1.9966000318527222, 1.514299988746643, 0.535099983215332, 0.8738999962806702, 0.8583999872207642, 0.7123000025749207, 0.904699981212616, 0.21780000627040863, 0.39259999990463257, 0.9908000230789185, -0.42010000348091125, -0.006500000134110451, -0.49129998683929443, 2.603800058364868, 2.603300094604492, 2.6029000282287598, 2.6010000705718994, 2.599100112915039, 2.5989999771118164, 2.598400115966797, 2.597899913787842, 2.5940001010894775, 2.5927000045776367, 2.5908000469207764, 2.588399887084961, 2.5848000049591064, 2.584199905395508, 2.5833001136779785, 2.58240008354187, 2.5808000564575195, 2.578200101852417, 2.578000068664551, 2.577199935913086, 2.5771000385284424, 2.5755999088287354, 2.5748000144958496, 2.5731000900268555, 2.5729000568389893, 2.571000099182129, 2.569499969482422, 2.5687999725341797, 2.5660998821258545, 2.563199996948242, 2.47979998588562, 2.4823999404907227, 2.1273999214172363, 1.9664000272750854, 1.604099988937378, 1.9846999645233154, 1.3581000566482544, 2.011199951171875, 2.373699903488159, 1.920300006866455, 1.1043000221252441, 1.795799970626831, 1.8070000410079956, 1.958899974822998, 1.0973999500274658, 1.8270000219345093, 0.15289999544620514, 1.695099949836731, 0.9907000064849854, 1.506600022315979, 0.8797000050544739, 2.634200096130371, 2.6321001052856445, 2.62719988822937, 2.6175999641418457, 2.61680006980896, 2.6138999462127686, 2.6126999855041504, 2.6113998889923096, 2.6110000610351562, 2.6098999977111816, 2.6087000370025635, 2.607100009918213, 2.60479998588562, 2.603800058364868, 2.6029999256134033, 2.602400064468384, 2.600100040435791, 2.5999999046325684, 2.599600076675415, 2.5977001190185547, 2.5943000316619873, 2.5934998989105225, 2.5920000076293945, 2.5917000770568848, 2.5903000831604004, 2.5903000831604004, 2.588599920272827, 2.5876998901367188, 2.5859999656677246, 2.5857999324798584, 2.5446999073028564, 2.4642999172210693, 2.546099901199341, 2.536799907684326, 2.553800106048584, 2.4827001094818115, 2.5116000175476074, 2.4163999557495117, 2.3266000747680664, 2.433799982070923, 2.359299898147583, 1.6865999698638916, 1.954200029373169, 2.30679988861084, 1.6324000358581543, 0.9487000107765198, 1.2798000574111938, 1.5683000087738037, 1.6907999515533447, 0.23029999434947968, 1.3837000131607056, 1.638100028038025, 1.2109999656677246, 1.1535999774932861, 0.6765000224113464, 0.9943000078201294, 2.7283999919891357, 2.7279999256134033, 2.7260000705718994, 2.7177999019622803, 2.710599899291992, 2.7105000019073486, 2.703700065612793, 2.7023000717163086, 2.699700117111206, 2.699199914932251, 2.6988000869750977, 2.6986000537872314, 2.691999912261963, 2.6905999183654785, 2.6881000995635986, 2.6877999305725098, 2.685699939727783, 2.684999942779541, 2.684499979019165, 2.683300018310547, 2.683000087738037, 2.6786999702453613, 2.6744000911712646, 2.6719000339508057, 2.6700000762939453, 2.667799949645996, 2.667099952697754, 2.664599895477295, 2.663800001144409, 2.663599967956543, 2.6507999897003174, 2.6105000972747803, 2.49780011177063, 2.4481000900268555, 2.375, 2.5436999797821045, 2.4590001106262207, 2.287100076675415, 2.333699941635132, 1.9149999618530273, 1.9713000059127808, 2.0202999114990234, 1.6650999784469604, 0.8999000191688538, 1.7553000450134277, 2.094599962234497, 0.7172999978065491, 0.5512999892234802, 0.6492999792098999, 1.2789000272750854, -0.46619999408721924, -0.5932999849319458, 2.8617000579833984, 2.857599973678589, 2.856300115585327, 2.8561999797821045, 2.8554999828338623, 2.8533999919891357, 2.849100112915039, 2.841200113296509, 2.84089994430542, 2.8387999534606934, 2.83870005607605, 2.838599920272827, 2.8362998962402344, 2.83489990234375, 2.8326001167297363, 2.831199884414673, 2.829900026321411, 2.8273000717163086, 2.8259999752044678, 2.8254001140594482, 2.82450008392334, 2.815200090408325, 2.8094000816345215, 2.8080999851226807, 2.8071000576019287, 2.803499937057495, 2.8008999824523926, 2.7969000339508057, 2.796299934387207, 2.7948999404907227, 2.793600082397461, 2.7558000087738037, 2.7379000186920166, 2.6828999519348145, 2.6161000728607178, 2.1308999061584473, 1.2283999919891357, 2.4776999950408936, 1.9498000144958496, 1.9498000144958496, 0.5540000200271606, 1.7792999744415283, 2.8880999088287354, 2.887700080871582, 2.880199909210205, 2.880000114440918, 2.878200054168701, 2.877000093460083, 2.8691999912261963, 2.867300033569336, 2.859800100326538, 2.857100009918213, 2.8566999435424805, 2.855799913406372, 2.853600025177002, 2.850100040435791, 2.847399950027466, 2.847100019454956, 2.845599889755249, 2.843899965286255, 2.8422999382019043, 2.839600086212158, 2.839600086212158, 2.838399887084961, 2.838099956512451, 2.837599992752075, 2.836899995803833, 2.8362998962402344, 2.832200050354004, 2.8257999420166016, 2.8243000507354736, 2.823699951171875, 2.798099994659424, 2.808300018310547, 2.518699884414673, 2.1189000606536865, 1.9256000518798828, 2.22379994392395, 1.5148999691009521, 2.3887999057769775, 1.197100043296814, -0.05719999969005585, 2.516900062561035, 1.9973000288009644, 1.0927000045776367, -0.5001999735832214, 0.2888999879360199, 1.6230000257492065, 0.31130000948905945, 3.0999999046325684, 3.0996999740600586, 3.099400043487549, 3.099299907684326, 3.0989999771118164, 3.0985000133514404, 3.098400115966797, 3.098400115966797, 3.098299980163574, 3.098299980163574, 3.098099946975708, 3.0978000164031982, 3.0977001190185547, 3.089200019836426, 3.0559000968933105, 3.052299976348877, 3.0492000579833984, 3.0367000102996826, 3.03629994392395, 3.0302000045776367, 3.027100086212158, 3.0269999504089355, 3.0216000080108643, 3.0085999965667725, 3.0085999965667725, 3.0028998851776123, 2.9953999519348145, 2.9932000637054443, 2.992000102996826, 2.979099988937378, 2.9242000579833984, 2.856600046157837, 2.3101000785827637, 2.7060000896453857, 2.3366000652313232, 1.8898999691009521, 1.1864999532699585, 3.297100067138672, 3.2964000701904297, 3.2904000282287598, 3.285399913787842, 3.2709999084472656, 3.2685999870300293, 3.2672998905181885, 3.2623000144958496, 3.259700059890747, 3.259700059890747, 3.2525999546051025, 3.252500057220459, 3.2493999004364014, 3.2479000091552734, 3.247299909591675, 3.2467000484466553, 3.245500087738037, 3.2453999519348145, 3.240600109100342, 3.2390999794006348, 3.236599922180176, 3.2358999252319336, 3.2284998893737793, 3.225800037384033, 3.2200000286102295, 3.218100070953369, 3.2174999713897705, 3.2095999717712402, 3.209399938583374, 3.202899932861328, 3.1229000091552734, 2.9237000942230225, 2.6178998947143555, 2.823499917984009, 2.7802000045776367, 1.9714000225067139, 2.4986000061035156, 2.492799997329712, 0.3711000084877014, 2.2348999977111816, 2.4820001125335693, 1.37090003490448, 0.8054999709129333, 1.8417999744415283, 1.7408000230789185, 1.2029999494552612, 1.541200041770935, 1.4901000261306763, -0.6761999726295471, 3.4040000438690186, 3.4000000953674316, 3.39490008354187, 3.389899969100952, 3.384200096130371, 3.37719988822937, 3.3752999305725098, 3.374000072479248, 3.357800006866455, 3.356800079345703, 3.354300022125244, 3.3501999378204346, 3.3457999229431152, 3.3438000679016113, 3.3378000259399414, 3.3368000984191895, 3.336199998855591, 3.335900068283081, 3.3324999809265137, 3.3296000957489014, 3.328700065612793, 3.3248000144958496, 3.3231000900268555, 3.3224000930786133, 3.3210999965667725, 3.317199945449829, 3.3125, 3.3115999698638916, 3.309499979019165, 3.305299997329712, 3.2370998859405518, 3.1294000148773193, 3.0789999961853027, 3.1946001052856445, 3.222100019454956, 2.976099967956543, 3.125999927520752, 2.389899969100952, 3.0885000228881836, 1.8388999700546265, 1.381600022315979, 1.2806999683380127, -0.5282999873161316, -0.51910001039505, 1.3284000158309937, 2.487299919128418], \"logprob\": [30.0, 29.0, 28.0, 27.0, 26.0, 25.0, 24.0, 23.0, 22.0, 21.0, 20.0, 19.0, 18.0, 17.0, 16.0, 15.0, 14.0, 13.0, 12.0, 11.0, 10.0, 9.0, 8.0, 7.0, 6.0, 5.0, 4.0, 3.0, 2.0, 1.0, -4.616000175476074, -4.94890022277832, -5.077600002288818, -5.183700084686279, -5.234899997711182, -5.3979997634887695, -5.676000118255615, -5.438499927520752, -5.393199920654297, -5.806300163269043, -6.0005998611450195, -6.00629997253418, -5.848299980163574, -6.028299808502197, -6.094600200653076, -6.112500190734863, -6.178100109100342, -6.211100101470947, -6.238399982452393, -6.249300003051758, -6.360400199890137, -6.360899925231934, -6.375999927520752, -6.376299858093262, -6.424900054931641, -6.464700222015381, -6.525700092315674, -6.541600227355957, -6.596799850463867, -6.625800132751465, -3.5037999153137207, -3.797600030899048, -5.6940999031066895, -3.4275999069213867, -4.663000106811523, -5.844299793243408, -4.887199878692627, -5.140600204467773, -5.111700057983398, -6.011199951171875, -5.937900066375732, -5.344799995422363, -5.450399875640869, -5.089000225067139, -4.565999984741211, -5.348700046539307, -4.124499797821045, -5.652900218963623, -5.501299858093262, -5.0467000007629395, -4.378900051116943, -5.253699779510498, -5.44950008392334, -5.468500137329102, -5.433300018310547, -5.1768999099731445, -5.531000137329102, -5.365099906921387, -5.401000022888184, -5.459099769592285, -3.3571999073028564, -4.785200119018555, -5.028500080108643, -5.248799800872803, -5.250800132751465, -5.32889986038208, -5.588900089263916, -5.793900012969971, -5.833899974822998, -5.8592000007629395, -5.867800235748291, -5.930500030517578, -5.954500198364258, -5.983500003814697, -6.02869987487793, -6.02869987487793, -6.074900150299072, -6.082699775695801, -6.152400016784668, -5.263299942016602, -6.177999973297119, -6.18720006942749, -6.296899795532227, -6.3140997886657715, -6.38670015335083, -6.441999912261963, -6.449100017547607, -6.559599876403809, -6.597099781036377, -6.603700160980225, -4.493299961090088, -5.34060001373291, -4.111199855804443, -4.994200229644775, -5.852799892425537, -4.581699848175049, -4.737800121307373, -3.025099992752075, -5.430699825286865, -5.263000011444092, -5.341100215911865, -4.048500061035156, -3.673799991607666, -5.541500091552734, -4.94920015335083, -4.7652997970581055, -4.989500045776367, -5.312300205230713, -5.2291998863220215, -4.968500137329102, -4.872900009155273, -4.97160005569458, -5.38100004196167, -4.620800018310547, -4.96560001373291, -4.638899803161621, -5.067999839782715, -5.072999954223633, -5.135900020599365, -5.028600215911865, -5.2210001945495605, -5.2596001625061035, -4.060500144958496, -4.116799831390381, -4.526400089263916, -4.190100193023682, -4.858500003814697, -4.8942999839782715, -4.907400131225586, -4.923999786376953, -4.981800079345703, -5.118899822235107, -5.213399887084961, -5.240900039672852, -5.38670015335083, -5.44320011138916, -5.471199989318848, -5.482399940490723, -5.490799903869629, -5.616199970245361, -5.718800067901611, -5.753799915313721, -5.822299957275391, -5.929699897766113, -5.934500217437744, -6.039400100708008, -6.111800193786621, -6.1508002281188965, -6.188300132751465, -6.191400051116943, -6.1946001052856445, -6.2006001472473145, -5.56879997253418, -5.698299884796143, -5.291200160980225, -3.918299913406372, -3.9242000579833984, -5.139999866485596, -5.139999866485596, -5.242800235748291, -5.127600193023682, -5.026100158691406, -4.785999774932861, -4.557199954986572, -4.573299884796143, -5.025100231170654, -5.2266998291015625, -5.341800212860107, -5.474400043487549, -3.828900098800659, -3.9897000789642334, -4.89769983291626, -5.0192999839782715, -5.098800182342529, -5.141300201416016, -5.292200088500977, -5.388800144195557, -5.495500087738037, -4.98360013961792, -5.629799842834473, -5.644199848175049, -5.677199840545654, -5.799099922180176, -5.843699932098389, -5.967400074005127, -5.979700088500977, -6.052999973297119, -6.065700054168701, -6.097499847412109, -6.13640022277832, -6.143599987030029, -6.165900230407715, -6.1539998054504395, -6.216400146484375, -6.178800106048584, -6.27869987487793, -6.252399921417236, -6.292200088500977, -6.271599769592285, -4.010300159454346, -4.769100189208984, -5.2108001708984375, -5.12470006942749, -5.025599956512451, -5.695899963378906, -5.170599937438965, -5.519199848175049, -4.958700180053711, -4.628200054168701, -5.144999980926514, -5.417900085449219, -5.3414998054504395, -5.122200012207031, -4.356900215148926, -5.008900165557861, -5.0903000831604, -5.063399791717529, -5.155099868774414, -5.088900089263916, -5.143499851226807, -5.293799877166748, -5.24429988861084, -5.309000015258789, -5.334700107574463, -4.189300060272217, -4.2571001052856445, -4.30679988861084, -4.5019001960754395, -4.667200088500977, -4.630499839782715, -4.227099895477295, -4.757400035858154, -5.003699779510498, -5.076499938964844, -5.174200057983398, -5.285099983215332, -5.428599834442139, -5.452300071716309, -5.484799861907959, -5.514500141143799, -5.570000171661377, -5.6529998779296875, -5.654600143432617, -5.680799961090088, -5.684299945831299, -5.72760009765625, -5.750500202178955, -5.797299861907959, -5.8018999099731445, -5.8506999015808105, -5.888199806213379, -5.903800010681152, -5.967400074005127, -6.030200004577637, -4.607999801635742, -5.4918999671936035, -4.327099800109863, -4.126200199127197, -3.28629994392395, -4.671000003814697, -3.5971999168395996, -5.041600227355957, -5.503200054168701, -5.027400016784668, -4.255899906158447, -4.9440999031066895, -4.9822998046875, -5.201200008392334, -4.713200092315674, -5.1483001708984375, -4.338200092315674, -5.106599807739258, -4.892000198364258, -5.134300231933594, -5.180099964141846, -4.624100208282471, -4.809700012207031, -5.123300075531006, -5.5121002197265625, -5.537799835205078, -5.627500057220459, -5.66349983215332, -5.69980001449585, -5.711699962615967, -5.742599964141846, -5.7677998542785645, -5.814000129699707, -5.870200157165527, -5.871399879455566, -5.912399768829346, -5.926499843597412, -5.977499961853027, -5.978099822998047, -5.901100158691406, -5.838799953460693, -6.095300197601318, -6.110499858856201, -6.137599945068359, -6.143400192260742, -6.167900085449219, -6.168900012969971, -6.199399948120117, -6.2144999504089355, -6.243500232696533, -6.245500087738037, -4.852499961853027, -4.042799949645996, -5.66379976272583, -5.558000087738037, -5.774700164794922, -5.127999782562256, -5.596099853515625, -5.309700012207031, -5.04580020904541, -5.5904998779296875, -5.376800060272217, -3.6201000213623047, -4.588799953460693, -5.42110013961792, -4.652200222015381, -3.875499963760376, -4.579599857330322, -5.137499809265137, -5.219699859619141, -4.613100051879883, -5.296299934387207, -5.434999942779541, -5.306700229644775, -5.4608001708984375, -5.432300090789795, -5.595200061798096, -3.2927000522613525, -3.4079999923706055, -3.801800012588501, -4.666800022125244, -5.083099842071533, -5.0883002281188965, -5.364299774169922, -5.412399768829346, -5.499100208282471, -5.5152997970581055, -5.526199817657471, -5.531599998474121, -5.715700149536133, -5.751200199127197, -5.810299873352051, -5.81689977645874, -5.866099834442139, -5.87939977645874, -5.891499996185303, -5.917600154876709, -5.92140007019043, -6.008500099182129, -6.089000225067139, -6.132800102233887, -6.164299964904785, -6.200799942016602, -6.211599826812744, -6.25, -6.261300086975098, -6.266300201416016, -5.686100006103516, -5.456099987030029, -4.803999900817871, -4.830999851226807, -4.448500156402588, -5.607900142669678, -5.356900215148926, -4.987800121307373, -5.408199787139893, -4.698400020599365, -4.830399990081787, -4.9274001121521, -4.9756999015808105, -4.46019983291626, -5.140500068664551, -5.43310022354126, -4.956900119781494, -5.105400085449219, -5.210000038146973, -5.437699794769287, -5.356599807739258, -5.485300064086914, -3.837399959564209, -4.293900012969971, -4.398600101470947, -4.406199932098389, -4.461100101470947, -4.611999988555908, -4.857699871063232, -5.1793999671936035, -5.209099769592285, -5.282899856567383, -5.2266998291015625, -5.288300037384033, -5.3628997802734375, -5.406099796295166, -5.473299980163574, -5.51039981842041, -5.547299861907959, -5.612400054931641, -5.642600059509277, -5.656700134277344, -5.6778998374938965, -4.114200115203857, -5.978799819946289, -6.001200199127197, -6.0177998542785645, -6.077199935913086, -6.117499828338623, -6.176000118255615, -6.184299945831299, -6.205399990081787, -6.144100189208984, -5.033999919891357, -5.644199848175049, -5.3403000831604, -5.131499767303467, -2.824399948120117, -3.2627999782562256, -5.587800025939941, -5.0254998207092285, -5.069499969482422, -5.120100021362305, -5.5395002365112305, -3.9554998874664307, -4.0046000480651855, -3.788800001144409, -3.786600112915039, -4.738800048828125, -4.8053998947143555, -5.14769983291626, -5.21750020980835, -5.451000213623047, -5.522799968719482, -5.5335001945495605, -5.5553998947143555, -5.609600067138672, -5.689499855041504, -5.736199855804443, -5.7540998458862305, -5.78410005569458, -5.8171000480651855, -5.8471999168396, -5.898399829864502, -5.898399829864502, -5.918799877166748, -5.92549991607666, -5.932400226593018, -5.945499897003174, -5.9558000564575195, -6.024899959564209, -6.122200012207031, -6.143799781799316, -6.153299808502197, -5.379300117492676, -5.904799938201904, -5.175899982452393, -4.536799907684326, -4.528900146484375, -5.244200229644775, -4.577700138092041, -5.622700214385986, -5.209499835968018, -4.881400108337402, -5.801799774169922, -5.6570000648498535, -5.548299789428711, -5.392300128936768, -5.593900203704834, -5.716300010681152, -5.686100006103516, -3.2720999717712402, -3.3239998817443848, -3.387399911880493, -3.401400089263916, -3.4535999298095703, -3.5244998931884766, -3.536600112915039, -3.5436999797821045, -3.55649995803833, -3.5566999912261963, -3.5899999141693115, -3.626699924468994, -3.6379001140594482, -4.396500110626221, -5.536900043487549, -5.6092000007629395, -5.66949987411499, -5.876699924468994, -5.882500171661377, -5.970699787139893, -6.01170015335083, -6.013700008392334, -6.083700180053711, -6.234399795532227, -6.234399795532227, -6.294400215148926, -6.369100093841553, -6.389800071716309, -4.453400135040283, -6.5152997970581055, -5.67579984664917, -5.095900058746338, -3.34660005569458, -5.696800231933594, -5.6479997634887695, -5.804699897766113, -5.6315999031066895, -4.7683000564575195, -4.794300079345703, -4.983399868011475, -5.11870002746582, -5.366099834442139, -5.4741997718811035, -5.497700214385986, -5.581200122833252, -5.622399806976318, -5.623199939727783, -5.728700160980225, -5.722599983215332, -5.77269983291626, -5.793399810791016, -5.801400184631348, -5.808499813079834, -5.676400184631348, -5.825900077819824, -5.88640022277832, -5.904099941253662, -5.934599876403809, -5.942699909210205, -6.024700164794922, -6.054100036621094, -6.11269998550415, -6.132199764251709, -6.137700080871582, -6.212200164794922, -6.213600158691406, -6.271599769592285, -5.506899833679199, -5.501999855041504, -4.992700099945068, -5.559500217437744, -5.568600177764893, -4.66510009765625, -5.290900230407715, -5.543600082397461, -4.5843000411987305, -5.474299907684326, -5.623700141906738, -5.243500232696533, -5.077300071716309, -5.444699764251709, -5.499599933624268, -5.474699974060059, -5.543300151824951, -5.563000202178955, -5.500400066375732, -4.471399784088135, -4.629799842834473, -4.800899982452393, -4.947199821472168, -5.086900234222412, -5.242199897766113, -5.280799865722656, -5.306000232696533, -5.5767998695373535, -5.5920000076293945, -5.627399921417236, -5.683800220489502, -5.740499973297119, -5.7667999267578125, -5.838799953460693, -5.850299835205078, -5.8572998046875, -5.860799789428711, -5.899099826812744, -5.929999828338623, -4.6132001876831055, -5.980400085449219, -5.997600078582764, -6.00439977645874, -6.01800012588501, -6.055699825286865, -5.844299793243408, -6.10830020904541, -6.126699924468994, -6.164100170135498, -5.472899913787842, -4.647200107574463, -4.982699871063232, -5.609099864959717, -5.7347002029418945, -5.072700023651123, -5.754000186920166, -5.098700046539307, -5.793900012969971, -5.234300136566162, -5.393700122833252, -5.396900177001953, -5.371799945831299, -5.411099910736084, -5.70419979095459, -5.7829999923706055]}, \"token.table\": {\"Topic\": [5, 2, 5, 6, 7, 2, 5, 7, 8, 11, 12, 2, 1, 2, 3, 4, 6, 11, 1, 3, 4, 6, 11, 8, 1, 8, 4, 6, 6, 11, 8, 9, 11, 5, 7, 10, 5, 3, 4, 8, 12, 6, 11, 3, 3, 7, 5, 12, 9, 4, 1, 2, 6, 9, 1, 2, 3, 5, 6, 7, 8, 9, 2, 5, 12, 8, 12, 6, 2, 5, 3, 7, 1, 1, 4, 3, 3, 8, 1, 7, 7, 7, 3, 11, 3, 3, 11, 1, 3, 7, 11, 2, 3, 4, 5, 6, 12, 9, 8, 1, 3, 8, 9, 3, 1, 1, 4, 1, 2, 8, 6, 12, 4, 3, 12, 5, 9, 8, 3, 10, 1, 9, 2, 3, 3, 3, 6, 8, 8, 11, 11, 5, 11, 1, 3, 6, 9, 5, 2, 2, 2, 1, 9, 1, 11, 6, 8, 7, 8, 3, 1, 3, 6, 8, 11, 3, 7, 1, 2, 3, 4, 6, 9, 11, 12, 1, 2, 5, 6, 9, 2, 3, 5, 8, 11, 7, 1, 2, 3, 4, 5, 9, 11, 3, 11, 6, 3, 5, 7, 9, 5, 3, 9, 6, 9, 1, 8, 12, 2, 10, 5, 1, 9, 3, 1, 10, 11, 3, 6, 8, 9, 11, 5, 2, 10, 10, 7, 12, 1, 6, 10, 11, 12, 3, 8, 8, 9, 8, 10, 7, 8, 3, 1, 1, 4, 3, 9, 2, 5, 8, 1, 4, 2, 5, 7, 10, 8, 8, 6, 1, 2, 4, 6, 7, 12, 7, 4, 7, 2, 3, 5, 6, 7, 8, 9, 11, 12, 9, 10, 9, 11, 2, 5, 7, 12, 1, 1, 4, 9, 1, 4, 6, 5, 3, 3, 9, 10, 2, 12, 8, 8, 1, 5, 6, 9, 4, 10, 7, 12, 1, 2, 3, 4, 11, 4, 10, 5, 1, 3, 8, 1, 2, 4, 5, 7, 8, 9, 11, 12, 7, 1, 4, 9, 1, 8, 1, 7, 1, 3, 4, 8, 9, 11, 12, 1, 2, 3, 4, 5, 6, 7, 8, 9, 11, 12, 10, 1, 3, 4, 6, 1, 2, 3, 4, 5, 7, 11, 12, 7, 3, 6, 1, 2, 4, 6, 8, 9, 11, 8, 1, 11, 3, 7, 8, 10, 1, 3, 6, 7, 8, 9, 11, 12, 1, 3, 4, 9, 9, 8, 1, 2, 4, 5, 8, 9, 11, 12, 11, 6, 1, 6, 11, 9, 4, 11, 4, 11, 4, 3, 5, 6, 8, 1, 2, 4, 6, 7, 9, 4, 5, 1, 11, 3, 6, 10, 11, 6, 8, 9, 11, 7, 1, 2, 4, 7, 10, 5, 4, 5, 7, 4, 5, 2, 5, 8, 5, 4, 1, 3, 4, 11, 10, 10, 1, 11, 8, 11, 1, 2, 9, 1, 3, 4, 5, 7, 1, 6, 12, 5, 7, 6, 4, 6, 1, 12, 1, 6, 7, 3, 12, 4, 3, 4, 1, 2, 3, 4, 6, 7, 7, 2, 7, 8, 2, 7, 12, 6, 7, 11, 2, 7, 3, 5, 3, 7, 10, 12, 1, 2, 3, 4, 5, 6, 2, 8, 12, 4, 1, 9, 11, 11, 8, 7, 5, 5, 12, 3, 8, 1, 1, 2, 3, 4, 5, 12, 4, 4, 1, 2, 8, 1, 3, 7, 5, 5, 10, 1, 3, 4, 12, 8, 1, 2, 3, 4, 6, 10, 2, 3, 11, 4, 3, 7, 6, 5, 2, 5, 6, 12, 2, 11, 1, 5, 7, 9, 6, 10, 12, 6, 1, 5, 6, 7, 9, 11, 12, 2, 9, 1, 2, 3, 4, 5, 6, 7, 12, 1, 3, 4, 5, 11, 4, 6, 11, 12, 12, 1, 2, 3, 4, 5, 6, 7, 12, 4, 1, 2, 3, 4, 6, 7, 1, 4, 9, 11, 5, 12, 10, 12, 1, 2, 4, 5, 2, 7, 1, 5, 10, 11, 1, 7, 12, 1, 4, 9, 11, 7, 9, 4, 6, 8, 6, 1, 2, 4, 5, 7, 9, 7, 9, 1, 2, 5, 2, 7, 9, 11, 1, 2, 3, 4, 6, 7, 8, 9, 11, 12, 2, 4, 6, 6, 12, 12, 12, 1, 2, 6, 9, 11, 5, 9, 3, 12, 2, 2, 10, 4, 5, 6, 1, 2, 4, 6, 11, 1, 3, 4, 7, 5, 5, 10, 12, 6, 9, 1, 4, 6, 2, 2, 2, 1, 4, 1, 2, 3, 9, 12, 11, 7, 1, 3, 1, 4, 6, 9, 1, 2, 3, 5, 6, 7, 5, 7, 2, 11, 2, 5, 6, 9, 1, 3, 4, 6, 10, 1, 11, 6, 4, 5, 12, 1, 2, 3, 4, 5, 7, 8, 1, 3, 4, 6, 9, 4, 12, 1, 2, 3, 4, 5, 6, 7, 2, 2, 5, 8, 2, 4, 1, 6, 6, 1, 2, 3, 4, 5, 6, 12, 5, 3, 2, 4, 6, 12, 6, 12, 3, 4, 6, 9, 2, 9, 7, 7, 4, 7, 12, 2, 6, 2, 5, 7, 1, 3, 4, 6, 9, 12, 7, 3, 2, 5, 1, 2, 7, 10, 7, 8, 6, 1, 3, 9, 1, 2, 3, 4, 6, 10, 4, 6, 4, 10, 4, 6, 2, 2, 5, 6, 2, 2, 7, 6, 2, 6, 5, 8, 8, 11, 10, 9, 8, 10, 1, 4, 8, 9, 2, 3, 10, 1, 4, 5, 7, 1, 5, 7, 2, 2, 3, 5, 6, 8, 1, 4, 5, 6, 7, 4, 1, 12, 4, 12, 4, 10, 8, 1, 7, 12, 1, 2, 3, 4, 5, 6, 8, 11, 1, 2, 4, 6, 7, 8, 10, 12, 3, 4, 1, 10, 3, 11, 12, 1, 2, 3, 6, 9, 11, 9, 1, 2, 4, 6, 9, 12, 2, 5, 12, 11, 5, 1, 5, 6, 9, 1, 2, 7, 1, 2, 4, 6, 8, 4, 4, 6, 5, 11, 4, 11, 10, 9, 10, 10, 1, 3, 4, 6, 7, 9, 12, 1, 3, 11, 6, 2, 5, 6, 9, 4, 1, 2, 5, 6, 2, 2, 4, 6, 11, 12, 1, 2, 3, 7, 10, 1, 2, 8, 11, 4, 12, 2, 5, 7, 2, 6, 1, 2, 3, 4, 6, 9, 12, 3, 6, 9, 3, 6, 9, 11, 9, 9, 3, 9, 3, 9, 9], \"Freq\": [0.9498153924942017, 0.8189789056777954, 0.024087615311145782, 0.060219038277864456, 0.08430665731430054, 0.5609106421470642, 0.3651357591152191, 0.040397997945547104, 0.020198998972773552, 0.010876383632421494, 0.001553769106976688, 0.9936271905899048, 0.36529189348220825, 0.07908380776643753, 0.3163352310657501, 0.16569940745830536, 0.06778611987829208, 0.0037658957298845053, 0.38322368264198303, 0.3219078779220581, 0.12263157218694687, 0.16095393896102905, 0.007664473261684179, 0.9284831285476685, 0.10206066071987152, 0.8675156235694885, 0.9573085308074951, 0.9455772042274475, 0.9753251075744629, 0.9255187511444092, 0.4695013761520386, 0.0722309798002243, 0.4333858788013458, 0.49851343035697937, 0.4863545894622803, 0.8920777440071106, 0.9751507639884949, 0.03388691321015358, 0.779399037361145, 0.0847172886133194, 0.0847172886133194, 0.35752207040786743, 0.6128950119018555, 0.9873084425926208, 0.9857828617095947, 0.9963896870613098, 0.9830971956253052, 0.8991091251373291, 0.9169670939445496, 0.9821864366531372, 0.003903847187757492, 0.9095964431762695, 0.08198079466819763, 0.9653951525688171, 0.33375853300094604, 0.4230741858482361, 0.023504121229052544, 0.023504121229052544, 0.04700824245810509, 0.056409891694784164, 0.018803296610713005, 0.07521318644285202, 0.9539852738380432, 0.02399962954223156, 0.01199981477111578, 0.9884626269340515, 0.9131633639335632, 0.9412919878959656, 0.965028703212738, 0.9653806090354919, 0.8586825728416443, 0.13098548352718353, 0.992153525352478, 0.34745582938194275, 0.6317378878593445, 0.9767012596130371, 0.9804785251617432, 0.9535484313964844, 0.9913315773010254, 0.9560660123825073, 0.9493375420570374, 0.9594250917434692, 0.9844961166381836, 0.8739330172538757, 0.9828711152076721, 0.9810872673988342, 0.8536239266395569, 0.4948069155216217, 0.08531153947114944, 0.18768538534641266, 0.2218099981546402, 0.08922889828681946, 0.0405585914850235, 0.21090467274188995, 0.13789920508861542, 0.5029265284538269, 0.02433515526354313, 0.9778147339820862, 0.9648172855377197, 0.9154442548751831, 0.03661777079105377, 0.03661777079105377, 0.9970840215682983, 0.9775698781013489, 0.9668896198272705, 0.9737718105316162, 0.9883801341056824, 0.123342365026474, 0.528610110282898, 0.33478641510009766, 0.9578172564506531, 0.9621110558509827, 0.995071291923523, 0.9835328459739685, 0.885897696018219, 0.6162745356559753, 0.37867471575737, 0.991905927658081, 0.12690019607543945, 0.8248512744903564, 0.980177104473114, 0.977398157119751, 0.9672598838806152, 0.9782941937446594, 0.9949129819869995, 0.9952731728553772, 0.7489033937454224, 0.24071894586086273, 0.9387348890304565, 0.9389165043830872, 0.8986862301826477, 0.1307424157857895, 0.7844544649124146, 0.2594691216945648, 0.5368326902389526, 0.035788845270872116, 0.16104979813098907, 0.9948849081993103, 0.9904513955116272, 0.9871910810470581, 0.9759498834609985, 0.9695555567741394, 0.956332266330719, 0.9984073638916016, 0.9728140830993652, 0.9698168635368347, 0.9587636590003967, 0.956034243106842, 0.9730263352394104, 0.9951810836791992, 0.7830280661582947, 0.08613308519124985, 0.015660561621189117, 0.10962393134832382, 0.8878376483917236, 0.9906461238861084, 0.9798205494880676, 0.40281879901885986, 0.13524241745471954, 0.1512388288974762, 0.0538061186671257, 0.1832316517829895, 0.052351899445056915, 0.018904853612184525, 0.0029084389097988605, 0.2139815241098404, 0.34423115849494934, 0.14885671436786652, 0.27910634875297546, 0.009303544647991657, 0.41480517387390137, 0.09876313805580139, 0.44443413615226746, 0.029628941789269447, 0.009876313619315624, 0.9713018536567688, 0.09640883654356003, 0.31018492579460144, 0.04610857367515564, 0.19281767308712006, 0.1970093548297882, 0.07545039057731628, 0.07964207977056503, 0.9904100298881531, 0.9532920122146606, 0.9768808484077454, 0.1732436865568161, 0.03464873880147934, 0.7969209551811218, 0.9138550758361816, 0.9915810823440552, 0.9752627611160278, 0.025006737560033798, 0.9320563673973083, 0.9804843664169312, 0.9976790547370911, 0.9956188797950745, 0.9287753105163574, 0.9756578803062439, 0.9887174963951111, 0.9592477083206177, 0.9836589694023132, 0.9227151870727539, 0.9795172214508057, 0.9752995371818542, 0.9960535764694214, 0.9053788185119629, 0.9852885007858276, 0.15620911121368408, 0.31241822242736816, 0.1822439581155777, 0.3384530544281006, 0.943186342716217, 0.31259486079216003, 0.677288830280304, 0.9968651533126831, 0.8933607339859009, 0.07444673031568527, 0.31323835253715515, 0.14617790281772614, 0.08353022485971451, 0.08353022485971451, 0.3550034761428833, 0.9673520922660828, 0.9832105040550232, 0.9431149959564209, 0.047752659767866135, 0.9784400463104248, 0.9655907154083252, 0.7451741695404053, 0.23710086941719055, 0.9981762766838074, 0.9944635629653931, 0.172205850481987, 0.817977786064148, 0.2873516380786896, 0.6704871654510498, 0.7202642560005188, 0.08547274768352509, 0.1938772052526474, 0.9562334418296814, 0.03297356888651848, 0.5656255483627319, 0.04617351293563843, 0.38093146681785583, 0.9655901789665222, 0.9191514849662781, 0.9869946241378784, 0.9672620892524719, 0.388841837644577, 0.26604968309402466, 0.07162875682115555, 0.112559475004673, 0.020465359091758728, 0.13302484154701233, 0.9423715472221375, 0.9869288206100464, 0.9806909561157227, 0.09948576986789703, 0.04808478802442551, 0.2851925492286682, 0.019897153601050377, 0.0033161924220621586, 0.47753170132637024, 0.0016580962110310793, 0.05140098184347153, 0.009948576800525188, 0.9557116627693176, 0.9953061938285828, 0.9026230573654175, 0.8670915365219116, 0.10506201535463333, 0.39923566579818726, 0.46227288246154785, 0.03151860460639, 0.9878696203231812, 0.9819055795669556, 0.8403749465942383, 0.15668007731437683, 0.7250096797943115, 0.2692893147468567, 0.931268036365509, 0.9667816162109375, 0.9910004138946533, 0.9825438261032104, 0.6928276419639587, 0.30792340636253357, 0.9953409433364868, 0.8590895533561707, 0.8894537687301636, 0.988461971282959, 0.12407805025577545, 0.5221617817878723, 0.09822845458984375, 0.25332602858543396, 0.9850878119468689, 0.9929526448249817, 0.9624829888343811, 0.8643157482147217, 0.2509273886680603, 0.05576163902878761, 0.5018547773361206, 0.027880819514393806, 0.16728492081165314, 0.9355623722076416, 0.994060754776001, 0.955596387386322, 0.5224242806434631, 0.07836364209651947, 0.4048788249492645, 0.6343027949333191, 0.09690737724304199, 0.05285856872797012, 0.02642928436398506, 0.017619522288441658, 0.02642928436398506, 0.06166832894086838, 0.07047808915376663, 0.008809761144220829, 0.9526637196540833, 0.9722421169281006, 0.9198686480522156, 0.9892858266830444, 0.9698449969291687, 0.9666529297828674, 0.9880115389823914, 0.9916515946388245, 0.3397153317928314, 0.2830961048603058, 0.07077402621507645, 0.021232208237051964, 0.18401247262954712, 0.06369662284851074, 0.03538701310753822, 0.3346214294433594, 0.21478025615215302, 0.16497613489627838, 0.13851770758628845, 0.026458438485860825, 0.014007408171892166, 0.03579670935869217, 0.014007408171892166, 0.03424033150076866, 0.00466913590207696, 0.01867654360830784, 0.9932924509048462, 0.31440624594688416, 0.2549239695072174, 0.23792904615402222, 0.19544170796871185, 0.005467043723911047, 0.6615122556686401, 0.14761017262935638, 0.054670438170433044, 0.03826930746436119, 0.06560452282428741, 0.016401130706071854, 0.016401130706071854, 0.9707624912261963, 0.048367246985435486, 0.918977677822113, 0.07840853929519653, 0.3397703468799591, 0.15681707859039307, 0.2265135496854782, 0.017424119636416435, 0.04356030002236366, 0.13939295709133148, 0.9749139547348022, 0.9042108654975891, 0.08611532300710678, 0.9935390949249268, 0.9771301746368408, 0.9846491813659668, 0.9920552372932434, 0.8155386447906494, 0.005034189205616713, 0.0352393239736557, 0.0251709446310997, 0.0402735136449337, 0.0302051343023777, 0.0503418892621994, 0.005034189205616713, 0.22500984370708466, 0.22500984370708466, 0.040910881012678146, 0.5113860368728638, 0.9714983701705933, 0.9596655368804932, 0.5973234176635742, 0.0796431228518486, 0.0796431228518486, 0.02389293722808361, 0.08760743588209152, 0.04778587445616722, 0.0796431228518486, 0.007964312098920345, 0.9405682682991028, 0.944263756275177, 0.9916837811470032, 0.952142059803009, 0.9630681276321411, 0.9456319808959961, 0.9480089545249939, 0.9219668507575989, 0.9903373718261719, 0.9452243447303772, 0.9856353998184204, 0.04999411106109619, 0.46244552731513977, 0.09998822212219238, 0.39995288848876953, 0.18141867220401764, 0.3298521339893341, 0.10131172090768814, 0.3816860318183899, 0.0023560866247862577, 0.9529483318328857, 0.9823092818260193, 0.02046477608382702, 0.9917229413986206, 0.8766733407974243, 0.9717625379562378, 0.19926181435585022, 0.7638369798660278, 0.9290615320205688, 0.054111070930957794, 0.7846105098724365, 0.16233320534229279, 0.9714258909225464, 0.9644255042076111, 0.013247653841972351, 0.9803264141082764, 0.8324017524719238, 0.14476552605628967, 0.9600856900215149, 0.9756036400794983, 0.3035792112350464, 0.05059653893113136, 0.6408894658088684, 0.9184715151786804, 0.9911009669303894, 0.9672059416770935, 0.8811334371566772, 0.11188996583223343, 0.9864631295204163, 0.9365589022636414, 0.9632046818733215, 0.03733351454138756, 0.3948870003223419, 0.5923304557800293, 0.928846538066864, 0.9909480214118958, 0.9807690978050232, 0.9666346907615662, 0.980128824710846, 0.9678211808204651, 0.6475304961204529, 0.3500164747238159, 0.9251056909561157, 0.6589404940605164, 0.16784332692623138, 0.03729851543903351, 0.062164194881916046, 0.06838061660528183, 0.11636079847812653, 0.8920994400978088, 0.930105984210968, 0.9582868218421936, 0.9693354368209839, 0.9507871866226196, 0.07657885551452637, 0.8806567788124084, 0.5931910276412964, 0.4106706976890564, 0.9881637096405029, 0.8957170248031616, 0.07623124122619629, 0.9876940250396729, 0.9188122749328613, 0.9619657397270203, 0.9454351663589478, 0.037075888365507126, 0.12612184882164001, 0.5728033781051636, 0.031530462205410004, 0.06831599771976471, 0.14188706874847412, 0.05780584365129471, 0.9750627875328064, 0.903146505355835, 0.08466998487710953, 0.9213080406188965, 0.9954890608787537, 0.9935145378112793, 0.9131017923355103, 0.939042866230011, 0.8105103373527527, 0.16210205852985382, 0.9490380883216858, 0.9906969666481018, 0.9733169078826904, 0.9465714693069458, 0.3228336274623871, 0.6725700497627258, 0.9942008852958679, 0.9082311391830444, 0.3652441203594208, 0.1400936394929886, 0.015010032802820206, 0.2001337707042694, 0.17511704564094543, 0.10507023334503174, 0.9713656902313232, 0.9458799362182617, 0.9756202697753906, 0.9781782031059265, 0.4232107102870941, 0.1128561943769455, 0.4232107102870941, 0.9128783345222473, 0.9775288105010986, 0.9674113988876343, 0.9819783568382263, 0.9692108035087585, 0.9218774437904358, 0.9511409997940063, 0.9468609094619751, 0.9777286052703857, 0.7499970197677612, 0.12162113934755325, 0.06081056967377663, 0.05067547410726547, 0.01013509463518858, 0.01013509463518858, 0.9769352674484253, 0.9731912612915039, 0.07162877172231674, 0.8714833855628967, 0.05969064310193062, 0.1283639520406723, 0.8504111170768738, 0.9786994457244873, 0.9497084617614746, 0.9882104992866516, 0.9548445343971252, 0.7269223928451538, 0.22162269055843353, 0.01772981509566307, 0.026594722643494606, 0.9241673350334167, 0.37382254004478455, 0.16020965576171875, 0.11748708784580231, 0.08544515073299408, 0.1068064421415329, 0.14952902495861053, 0.953826904296875, 0.028053732588887215, 0.9003422260284424, 0.9803414344787598, 0.23176932334899902, 0.7532503008842468, 0.9188589453697205, 0.9895675778388977, 0.3032256066799164, 0.12404683977365494, 0.3583575487136841, 0.2067447304725647, 0.4954622983932495, 0.4954622983932495, 0.9527121186256409, 0.28991392254829407, 0.6979409456253052, 0.9502992630004883, 0.9595974087715149, 0.9447839260101318, 0.9294896721839905, 0.9306515455245972, 0.3647724688053131, 0.08106054365634918, 0.06755045801401138, 0.17563118040561676, 0.06755045801401138, 0.16212108731269836, 0.08106054365634918, 0.9917929768562317, 0.9236582517623901, 0.2962400019168854, 0.3679109811782837, 0.07167096436023712, 0.1194516122341156, 0.028668386861681938, 0.06689290702342987, 0.05255870893597603, 0.8785496354103088, 0.21609185636043549, 0.09454018622636795, 0.09454018622636795, 0.5537353754043579, 0.04051722213625908, 0.34836119413375854, 0.11612039804458618, 0.42577478289604187, 0.11612039804458618, 0.9546017646789551, 0.47650042176246643, 0.07941673696041107, 0.06618060916662216, 0.07941673696041107, 0.05294448882341385, 0.05294448882341385, 0.05294448882341385, 0.11912510544061661, 0.9507245421409607, 0.5750133991241455, 0.2938957214355469, 0.051112301647663116, 0.07027941197156906, 0.0063890377059578896, 0.9292386174201965, 0.9008984565734863, 0.07976704835891724, 0.007038269191980362, 0.00938435923308134, 0.25066468119621277, 0.7519940137863159, 0.9450169205665588, 0.9515824913978577, 0.6998154520988464, 0.1123160645365715, 0.10367636382579803, 0.06911757588386536, 0.5483037233352661, 0.44386494159698486, 0.9901265501976013, 0.9939514994621277, 0.9474437832832336, 0.9616830945014954, 0.9817412495613098, 0.14166554808616638, 0.8499933481216431, 0.26718929409980774, 0.36515870690345764, 0.1068757176399231, 0.25828298926353455, 0.08316268771886826, 0.914789617061615, 0.943143904209137, 0.7944119572639465, 0.1853627860546112, 0.9786696434020996, 0.04510511830449104, 0.015035039745271206, 0.1503503918647766, 0.5262264013290405, 0.27063071727752686, 0.9408010244369507, 0.9682256579399109, 0.9470012784004211, 0.25172698497772217, 0.7062340378761292, 0.04195449501276016, 0.26059654355049133, 0.5211930871009827, 0.13029827177524567, 0.08686551451683044, 0.30840829014778137, 0.2467266470193863, 0.2562161386013031, 0.06642640382051468, 0.0854053720831871, 0.028468457981944084, 0.6692913770675659, 0.07436571270227432, 0.07436571270227432, 0.14873142540454865, 0.8279117941856384, 0.08950398117303848, 0.07831598073244095, 0.09065928310155869, 0.8159335851669312, 0.9396016597747803, 0.919000506401062, 0.14319103956222534, 0.429573118686676, 0.3436585068702698, 0.0190921388566494, 0.057276416569948196, 0.5356953144073486, 0.4630586802959442, 0.15557701885700226, 0.7778851389884949, 0.9839670062065125, 0.5143808126449585, 0.4800887703895569, 0.9777602553367615, 0.9356278777122498, 0.9550977349281311, 0.06812082231044769, 0.8515102863311768, 0.06812082231044769, 0.006812082603573799, 0.8659440875053406, 0.779121458530426, 0.12079402059316635, 0.09059552103281021, 0.00603970093652606, 0.9498714208602905, 0.9781864285469055, 0.8999859690666199, 0.09999844431877136, 0.8494375348091125, 0.14157292246818542, 0.8805376887321472, 0.07827001810073853, 0.01956750452518463, 0.988829493522644, 0.9812865853309631, 0.9638438820838928, 0.29332777857780457, 0.6994739174842834, 0.12228502333164215, 0.8559951782226562, 0.015285627916455269, 0.2592857778072357, 0.7037756443023682, 0.9262216091156006, 0.9764816761016846, 0.7407965064048767, 0.2517269551753998, 0.19817763566970825, 0.5390431880950928, 0.14268790185451508, 0.11097947508096695, 0.08598541468381882, 0.40535980463027954, 0.0777963325381279, 0.049134522676467896, 0.2538616955280304, 0.12283630669116974, 0.9898619651794434, 0.010759369470179081, 0.3198210895061493, 0.6929457187652588, 0.07043042033910751, 0.03130240738391876, 0.8295137882232666, 0.06260481476783752, 0.6769382357597351, 0.2190094292163849, 0.04977487027645111, 0.009954974055290222, 0.03981989622116089, 0.9957498908042908, 0.8944541215896606, 0.9764096140861511, 0.10181964933872223, 0.8824369311332703, 0.9742099046707153, 0.1565089225769043, 0.2483728528022766, 0.22455626726150513, 0.09526629745960236, 0.040828414261341095, 0.1326923370361328, 0.0986686646938324, 0.9675164222717285, 0.41346195340156555, 0.21926012635231018, 0.36334535479545593, 0.9673793911933899, 0.997525691986084, 0.9754050970077515, 0.15221939980983734, 0.6027888655662537, 0.1278643012046814, 0.012177552096545696, 0.006088776048272848, 0.05479898676276207, 0.05479898676276207, 0.9712998270988464, 0.9827424883842468, 0.9624695181846619, 0.9793714880943298, 0.9422813057899475, 0.04596494138240814, 0.2652652859687805, 0.7162163257598877, 0.9519446492195129, 0.5275264978408813, 0.21338151395320892, 0.07705443352460861, 0.12150891870260239, 0.0029636321123689413, 0.03556358441710472, 0.02370905689895153, 0.9455395936965942, 0.9870485067367554, 0.39524030685424805, 0.5928604602813721, 0.9152964353561401, 0.9623242616653442, 0.9663349390029907, 0.9035611748695374, 0.3943195641040802, 0.049289945513010025, 0.12322486937046051, 0.41896456480026245, 0.3874785900115967, 0.5988305807113647, 0.9691765904426575, 0.9343725442886353, 0.7880728840827942, 0.19701822102069855, 0.9838058948516846, 0.9911932945251465, 0.9754827618598938, 0.6079225540161133, 0.1543930321931839, 0.23158954083919525, 0.3597225844860077, 0.053958386182785034, 0.23381967842578888, 0.07194451987743378, 0.2877780795097351, 0.8993197083473206, 0.9130686521530151, 0.9775453805923462, 0.8648771047592163, 0.1255466789007187, 0.2350635975599289, 0.7479296326637268, 0.010684709064662457, 0.9464795589447021, 0.9661799669265747, 0.9456732869148254, 0.9617707133293152, 0.9645676612854004, 0.9420998096466064, 0.9470011591911316, 0.054361872375011444, 0.7067043781280518, 0.10872374475002289, 0.06523425132036209, 0.054361872375011444, 0.9540541172027588, 0.1784036010503769, 0.8206565380096436, 0.9906455874443054, 0.9786950349807739, 0.9574534296989441, 0.9514878988265991, 0.9718433022499084, 0.9859790205955505, 0.9642144441604614, 0.9716065526008606, 0.9574594497680664, 0.9430426955223083, 0.9745187759399414, 0.9767329096794128, 0.982775092124939, 0.9639542102813721, 0.08466590940952301, 0.9031030535697937, 0.9838413596153259, 0.9514818787574768, 0.8873456716537476, 0.9442686438560486, 0.8197993040084839, 0.1425737887620926, 0.12687276303768158, 0.7068625688552856, 0.01812468096613884, 0.12687276303768158, 0.062436383217573166, 0.9209367036819458, 0.9935868382453918, 0.20575572550296783, 0.11629671603441238, 0.33099836111068726, 0.3399442434310913, 0.0923801138997078, 0.8006276488304138, 0.12317348271608353, 0.9827233552932739, 0.03718417137861252, 0.07436834275722504, 0.092960424721241, 0.7250913381576538, 0.05577625706791878, 0.0800468921661377, 0.6537163257598877, 0.09338804334402084, 0.06670574843883514, 0.10672919452190399, 0.9731269478797913, 0.9817980527877808, 0.8814239501953125, 0.1679135411977768, 0.7556109428405762, 0.9659889340400696, 0.9889522790908813, 0.9598332047462463, 0.048773638904094696, 0.926699161529541, 0.9686505794525146, 0.3119930624961853, 0.27689385414123535, 0.08579809218645096, 0.05069887265563011, 0.2183951437473297, 0.023399479687213898, 0.015599653124809265, 0.011699739843606949, 0.18388493359088898, 0.16382475197315216, 0.06686724722385406, 0.02006017416715622, 0.11367432028055191, 0.0033433623611927032, 0.45135390758514404, 0.9704416394233704, 0.9678674936294556, 0.9552348852157593, 0.9866158962249756, 0.8856549263000488, 0.9774335622787476, 0.25247907638549805, 0.6732775568962097, 0.24439725279808044, 0.39103561639785767, 0.09775890409946442, 0.04887945204973221, 0.016293151304125786, 0.21181096136569977, 0.9363361597061157, 0.18190690875053406, 0.41126778721809387, 0.16608890891075134, 0.23726987838745117, 0.9855383038520813, 0.9482384324073792, 0.032860904932022095, 0.032860904932022095, 0.9201053380966187, 0.9242428541183472, 0.9718645215034485, 0.4462239742279053, 0.4462239742279053, 0.08301841467618942, 0.020754603669047356, 0.9748770594596863, 0.9916940331459045, 0.9223161935806274, 0.006466911640018225, 0.14873896539211273, 0.8148308992385864, 0.0258676465600729, 0.982661783695221, 0.9706915020942688, 0.0859142392873764, 0.9020995497703552, 0.9869273900985718, 0.9148765802383423, 0.7903712391853333, 0.1927734762430191, 0.9914684891700745, 0.8986703157424927, 0.9312265515327454, 0.833035409450531, 0.8242782354354858, 0.001482514780946076, 0.048922985792160034, 0.08895088732242584, 0.011860118247568607, 0.00444754445925355, 0.019272692501544952, 0.7928180694580078, 0.19820451736450195, 0.9233533143997192, 0.9329172372817993, 0.4100286662578583, 0.08200573176145554, 0.38659846782684326, 0.12886615097522736, 0.9575716257095337, 0.2301149070262909, 0.6565042734146118, 0.10152128338813782, 0.006768085528165102, 0.9863256812095642, 0.7053642272949219, 0.03712443262338638, 0.01856221631169319, 0.12065441161394119, 0.12065441161394119, 0.2886171042919159, 0.621154248714447, 0.07529142498970032, 0.006274285260587931, 0.006274285260587931, 0.552481472492218, 0.42189493775367737, 0.0050225588493049145, 0.015067676082253456, 0.3290712833404541, 0.621579110622406, 0.6164048314094543, 0.2212097942829132, 0.15907220542430878, 0.999506413936615, 0.9641245007514954, 0.08507391065359116, 0.3985041081905365, 0.21492356061935425, 0.19253568351268768, 0.09402905404567719, 0.01343272253870964, 0.004477574024349451, 0.8790411353111267, 0.0874667763710022, 0.034986712038517, 0.8718194961547852, 0.07885804772377014, 0.04381002485752106, 0.967344343662262, 0.9734693765640259, 0.9886057376861572, 0.009179693646728992, 0.9822272062301636, 0.009200985543429852, 0.9845054149627686, 0.9715150594711304], \"Term\": [\"'ll\", \"'re\", \"'re\", \"'re\", \"'re\", \"'s\", \"'s\", \"'s\", \"'s\", \"'s\", \"'s\", \"'ve\", \"...\", \"...\", \"...\", \"...\", \"...\", \"...\", \"....\", \"....\", \"....\", \"....\", \"....\", \"2014\", \"3\", \"3\", \"4\", \"60\", \"7\", \"@EmmanuelMacron\", \"@FLOTUS\", \"@FLOTUS\", \"@FLOTUS\", \"@OFA\", \"@OFA\", \"@SenateMajLdr\", \"@VP\", \"@WhiteHouse\", \"@WhiteHouse\", \"@WhiteHouse\", \"@WhiteHouse\", \"@nytimes\", \"@nytimes\", \"AGAIN\", \"AMERICA\", \"ActOnClimate\", \"Add\", \"Affordable\", \"Air\", \"Amazon\", \"America\", \"America\", \"America\", \"AmericaFirst\", \"American\", \"American\", \"American\", \"American\", \"American\", \"American\", \"American\", \"American\", \"Americans\", \"Americans\", \"Americans\", \"Anthem\", \"April\", \"Arizona\", \"Be\", \"Biden\", \"Big\", \"Big\", \"Bill\", \"Border\", \"Border\", \"CNN\", \"Campaign\", \"Center\", \"China\", \"Chip\", \"Clean\", \"Climate\", \"Clinton\", \"Coast\", \"Collusion\", \"Comey\", \"Commander\", \"Congratulations\", \"Congratulations\", \"Congratulations\", \"Congratulations\", \"Congress\", \"Congress\", \"Congress\", \"Congress\", \"Congress\", \"Congress\", \"Consumer\", \"Council\", \"Country\", \"Country\", \"Country\", \"Court\", \"Crooked\", \"Cut\", \"Cuts\", \"DACA\", \"Day\", \"Day\", \"Day\", \"Deal\", \"December\", \"Democrats\", \"Department\", \"DoSomething\", \"DoYourJob\", \"DoYourJob\", \"ET\", \"East\", \"East\", \"Economic\", \"Enjoy\", \"Enter\", \"FAKE\", \"FBI\", \"Fake\", \"First\", \"First\", \"Flag\", \"France\", \"Friday\", \"From\", \"From\", \"GREAT\", \"GREAT\", \"GREAT\", \"GREAT\", \"Garland\", \"GetCovered\", \"Getting\", \"God\", \"Good\", \"Governor\", \"Great\", \"Guard\", \"HEROES\", \"Happening\", \"Harvey\", \"High\", \"Hillary\", \"House\", \"House\", \"House\", \"House\", \"How\", \"Hunt\", \"Hurricane\", \"I\", \"I\", \"I\", \"I\", \"I\", \"I\", \"I\", \"I\", \"If\", \"If\", \"If\", \"If\", \"If\", \"In\", \"In\", \"In\", \"In\", \"In\", \"Israel\", \"It\", \"It\", \"It\", \"It\", \"It\", \"It\", \"It\", \"James\", \"Jobs\", \"John\", \"Join\", \"Join\", \"Join\", \"Jong\", \"Judge\", \"Justice\", \"Justice\", \"Kelly\", \"Kim\", \"Korea\", \"LIVE\", \"Leaving\", \"Let\", \"London\", \"LoveIsLove\", \"Luther\", \"M\", \"MAKE\", \"Market\", \"May\", \"Mayor\", \"Media\", \"Melania\", \"Melania\", \"Melania\", \"Melania\", \"Merrick\", \"Middle\", \"Middle\", \"Minister\", \"More\", \"More\", \"My\", \"My\", \"My\", \"My\", \"My\", \"NEWS\", \"NFL\", \"National\", \"National\", \"Nations\", \"Never\", \"New\", \"New\", \"News\", \"North\", \"Now\", \"Now\", \"OUR\", \"OUR\", \"Obama\", \"Obama\", \"Obama\", \"ObamaCare\", \"ObamaCare\", \"Obamacare\", \"Obamacare\", \"Obamacare\", \"Obstruction\", \"Ohio\", \"On\", \"Order\", \"Our\", \"Our\", \"Our\", \"Our\", \"Our\", \"Our\", \"Plan\", \"Post\", \"Power\", \"President\", \"President\", \"President\", \"President\", \"President\", \"President\", \"President\", \"President\", \"President\", \"Presidential\", \"Prime\", \"Proclamation\", \"Rasmussen\", \"Read\", \"Read\", \"Read\", \"Read\", \"Repeal\", \"Replace\", \"Republican\", \"Republican\", \"Republicans\", \"Republicans\", \"Responders\", \"Retweet\", \"Russia\", \"Russian\", \"SCOTUS\", \"SCOTUS\", \"SOTU\", \"Saturday\", \"School\", \"Secretary\", \"Senate\", \"Senate\", \"Senate\", \"Senate\", \"Senators\", \"She\", \"Since\", \"Singapore\", \"So\", \"So\", \"So\", \"So\", \"So\", \"Southern\", \"Spoke\", \"Stand\", \"State\", \"State\", \"State\", \"States\", \"States\", \"States\", \"States\", \"States\", \"States\", \"States\", \"States\", \"States\", \"Stay\", \"Stock\", \"Street\", \"Supreme\", \"TAX\", \"THANK\", \"Tax\", \"Team\", \"Thank\", \"Thank\", \"Thank\", \"Thank\", \"Thank\", \"Thank\", \"Thank\", \"The\", \"The\", \"The\", \"The\", \"The\", \"The\", \"The\", \"The\", \"The\", \"The\", \"The\", \"Theresa\", \"They\", \"They\", \"They\", \"They\", \"This\", \"This\", \"This\", \"This\", \"This\", \"This\", \"This\", \"This\", \"Times\", \"To\", \"To\", \"Today\", \"Today\", \"Today\", \"Today\", \"Today\", \"Today\", \"Today\", \"Together\", \"Trade\", \"Trade\", \"Trump\", \"Truth\", \"Tune\", \"U.K.\", \"U.S.\", \"U.S.\", \"U.S.\", \"U.S.\", \"U.S.\", \"U.S.\", \"U.S.\", \"U.S.\", \"USA\", \"USA\", \"USA\", \"USA\", \"Un\", \"Under\", \"United\", \"United\", \"United\", \"United\", \"United\", \"United\", \"United\", \"United\", \"UnitedOnClimate\", \"VA\", \"Very\", \"Veterans\", \"Vietnam\", \"Virginia\", \"Vote\", \"WH\", \"Wall\", \"War\", \"Washington\", \"Watch\", \"Watch\", \"Watch\", \"Watch\", \"We\", \"We\", \"We\", \"We\", \"We\", \"West\", \"Why\", \"Why\", \"Will\", \"Wisconsin\", \"Witch\", \"With\", \"With\", \"Would\", \"YOU\", \"YOU\", \"YOU\", \"Year\", \"York\", \"You\", \"You\", \"able\", \"able\", \"accomplished\", \"across\", \"action\", \"action\", \"action\", \"actions\", \"add\", \"added\", \"address\", \"address\", \"agree\", \"amazing\", \"amp\", \"amp\", \"anyone\", \"anyone\", \"asking\", \"attack\", \"bad\", \"beautiful\", \"behalf\", \"behind\", \"better\", \"better\", \"beyond\", \"big\", \"big\", \"big\", \"big\", \"big\", \"bill\", \"bill\", \"board\", \"boards\", \"bold\", \"brave\", \"broken\", \"broken\", \"building\", \"building\", \"business\", \"ca\", \"ca\", \"called\", \"calls\", \"came\", \"campaign\", \"campaign\", \"can\", \"can\", \"can\", \"can\", \"can\", \"can\", \"carbon\", \"care\", \"care\", \"celebrating\", \"chance\", \"change\", \"choice\", \"citizens\", \"clean\", \"clean\", \"clear\", \"climate\", \"collusion\", \"common\", \"companies\", \"companies\", \"condolences\", \"constitutional\", \"country\", \"country\", \"country\", \"country\", \"country\", \"country\", \"covered\", \"criminal\", \"cuts\", \"dangerous\", \"days\", \"days\", \"days\", \"deficit\", \"delivering\", \"deniers\", \"deserves\", \"discusses\", \"discussing\", \"dishonest\", \"disrespect\", \"dollars\", \"done\", \"done\", \"done\", \"done\", \"done\", \"done\", \"drugs\", \"easy\", \"economy\", \"economy\", \"economy\", \"election\", \"election\", \"energy\", \"enough\", \"equality\", \"especially\", \"even\", \"even\", \"even\", \"even\", \"event\", \"ever\", \"ever\", \"ever\", \"ever\", \"ever\", \"ever\", \"every\", \"every\", \"exciting\", \"fact\", \"facts\", \"facts\", \"failed\", \"fair\", \"families\", \"families\", \"families\", \"families\", \"family\", \"family\", \"fast\", \"fight\", \"fight\", \"fill\", \"financial\", \"focus\", \"foreign\", \"forget\", \"forward\", \"forward\", \"forward\", \"forward\", \"forward\", \"forward\", \"forward\", \"free\", \"games\", \"get\", \"get\", \"get\", \"get\", \"get\", \"get\", \"get\", \"gets\", \"give\", \"give\", \"give\", \"give\", \"give\", \"given\", \"given\", \"given\", \"given\", \"gives\", \"go\", \"go\", \"go\", \"go\", \"go\", \"go\", \"go\", \"go\", \"gone\", \"good\", \"good\", \"good\", \"good\", \"good\", \"grassroots\", \"great\", \"great\", \"great\", \"great\", \"gun\", \"gun\", \"happened\", \"happens\", \"hard\", \"hard\", \"hard\", \"hard\", \"health\", \"health\", \"healthcare\", \"hearing\", \"heroes\", \"historic\", \"hit\", \"holding\", \"holding\", \"honor\", \"honor\", \"honor\", \"honor\", \"https://t.co\", \"https://t.co\", \"hurt\", \"illegal\", \"illegal\", \"immigration\", \"important\", \"important\", \"important\", \"important\", \"important\", \"industry\", \"insurance\", \"interviewed\", \"jobs\", \"jobs\", \"jobs\", \"join\", \"join\", \"join\", \"join\", \"just\", \"just\", \"just\", \"just\", \"just\", \"just\", \"justice\", \"justice\", \"justice\", \"justice\", \"keep\", \"keep\", \"keep\", \"killed\", \"killed\", \"kind\", \"largest\", \"last\", \"last\", \"last\", \"last\", \"last\", \"leaders\", \"leaders\", \"leading\", \"leading\", \"leave\", \"left\", \"left\", \"legislation\", \"less\", \"majority\", \"make\", \"make\", \"make\", \"make\", \"manufacturing\", \"many\", \"many\", \"many\", \"many\", \"matters\", \"media\", \"meeting\", \"meeting\", \"men\", \"men\", \"military\", \"military\", \"military\", \"million\", \"minimum\", \"miss\", \"money\", \"money\", \"months\", \"months\", \"months\", \"morning\", \"morning\", \"move\", \"movement\", \"much\", \"much\", \"must\", \"must\", \"must\", \"must\", \"n't\", \"n't\", \"n't\", \"n't\", \"n't\", \"n't\", \"name\", \"name\", \"nations\", \"nations\", \"need\", \"need\", \"need\", \"need\", \"never\", \"never\", \"never\", \"never\", \"never\", \"news\", \"nice\", \"night\", \"nomination\", \"nomination\", \"nominee\", \"now\", \"now\", \"now\", \"now\", \"now\", \"now\", \"now\", \"numbers\", \"n\\u2019t\", \"n\\u2019t\", \"n\\u2019t\", \"obstruction\", \"offer\", \"official\", \"one\", \"one\", \"one\", \"one\", \"one\", \"one\", \"one\", \"opportunity\", \"options\", \"overtime\", \"p.m.\", \"part\", \"part\", \"pass\", \"pass\", \"passed\", \"people\", \"people\", \"people\", \"people\", \"people\", \"people\", \"people\", \"petition\", \"phony\", \"place\", \"place\", \"plus\", \"point\", \"police\", \"policy\", \"political\", \"political\", \"political\", \"political\", \"politics\", \"politics\", \"pollution\", \"potential\", \"power\", \"power\", \"prayers\", \"private\", \"problem\", \"progress\", \"progress\", \"progress\", \"put\", \"put\", \"put\", \"put\", \"put\", \"qualified\", \"quality\", \"ratings\", \"really\", \"really\", \"record\", \"record\", \"record\", \"recorded\", \"reduce\", \"remarks\", \"remember\", \"reported\", \"reporting\", \"respect\", \"right\", \"right\", \"right\", \"right\", \"right\", \"ruling\", \"safe\", \"safe\", \"safety\", \"said\", \"save\", \"saying\", \"school\", \"sector\", \"sense\", \"serve\", \"sick\", \"six\", \"solar\", \"solve\", \"something\", \"sources\", \"speak\", \"speak\", \"speaking\", \"speech\", \"spirit\", \"spoke\", \"statement\", \"statement\", \"stop\", \"stop\", \"stop\", \"stop\", \"story\", \"story\", \"strong\", \"support\", \"support\", \"support\", \"support\", \"supporters\", \"supporters\", \"supporters\", \"sure\", \"system\", \"system\", \"system\", \"system\", \"system\", \"take\", \"take\", \"take\", \"take\", \"take\", \"taking\", \"taxes\", \"teachers\", \"terror\", \"terror\", \"terrorism\", \"terrorist\", \"thank\", \"thanks\", \"thanks\", \"thoughts\", \"time\", \"time\", \"time\", \"time\", \"time\", \"time\", \"time\", \"time\", \"today\", \"today\", \"today\", \"today\", \"today\", \"today\", \"today\", \"top\", \"total\", \"tougher\", \"trade\", \"treated\", \"true\", \"try\", \"try\", \"two\", \"two\", \"two\", \"two\", \"two\", \"two\", \"unprecedented\", \"us\", \"us\", \"us\", \"us\", \"vacancy\", \"victims\", \"violence\", \"violence\", \"violence\", \"vital\", \"voice\", \"vote\", \"vote\", \"vote\", \"vote\", \"w/\", \"wage\", \"wait\", \"want\", \"want\", \"want\", \"want\", \"watch\", \"watching\", \"weak\", \"weak\", \"weekly\", \"weeks\", \"welcome\", \"welcome\", \"well\", \"went\", \"whatever\", \"whether\", \"will\", \"will\", \"will\", \"will\", \"will\", \"will\", \"will\", \"win\", \"win\", \"wish\", \"wo\", \"women\", \"women\", \"women\", \"women\", \"words\", \"work\", \"work\", \"work\", \"work\", \"works\", \"world\", \"world\", \"world\", \"world\", \"world\", \"year\", \"year\", \"year\", \"year\", \"year\", \"years\", \"years\", \"years\", \"years\", \"young\", \"young\", \"\\u2014\", \"\\u2014\", \"\\u2014\", \"\\u2014President\", \"\\u2019ll\", \"\\u2019s\", \"\\u2019s\", \"\\u2019s\", \"\\u2019s\", \"\\u2019s\", \"\\u2019s\", \"\\u2019s\", \"\\u201c\", \"\\u201c\", \"\\u201c\", \"\\u201d\", \"\\u201d\", \"\\u201d\", \"\\u2714\", \"\\u27a1\", \"\\ufe0fhttps://t.co\", \"\\ud83c\\uddf8\", \"\\ud83c\\uddf8\", \"\\ud83c\\uddfa\", \"\\ud83c\\uddfa\", \"\\ud83c\\udfa5\"]}, \"R\": 30, \"lambda.step\": 0.01, \"plot.opts\": {\"xlab\": \"PC1\", \"ylab\": \"PC2\"}, \"topic.order\": [9, 11, 10, 5, 6, 12, 1, 7, 3, 4, 2, 8]};\n",
              "\n",
              "function LDAvis_load_lib(url, callback){\n",
              "  var s = document.createElement('script');\n",
              "  s.src = url;\n",
              "  s.async = true;\n",
              "  s.onreadystatechange = s.onload = callback;\n",
              "  s.onerror = function(){console.warn(\"failed to load library \" + url);};\n",
              "  document.getElementsByTagName(\"head\")[0].appendChild(s);\n",
              "}\n",
              "\n",
              "if(typeof(LDAvis) !== \"undefined\"){\n",
              "   // already loaded: just create the visualization\n",
              "   !function(LDAvis){\n",
              "       new LDAvis(\"#\" + \"ldavis_el92140450042895240460152496\", ldavis_el92140450042895240460152496_data);\n",
              "   }(LDAvis);\n",
              "}else if(typeof define === \"function\" && define.amd){\n",
              "   // require.js is available: use it to load d3/LDAvis\n",
              "   require.config({paths: {d3: \"https://cdnjs.cloudflare.com/ajax/libs/d3/3.5.5/d3.min\"}});\n",
              "   require([\"d3\"], function(d3){\n",
              "      window.d3 = d3;\n",
              "      LDAvis_load_lib(\"https://cdn.rawgit.com/bmabey/pyLDAvis/files/ldavis.v1.0.0.js\", function(){\n",
              "        new LDAvis(\"#\" + \"ldavis_el92140450042895240460152496\", ldavis_el92140450042895240460152496_data);\n",
              "      });\n",
              "    });\n",
              "}else{\n",
              "    // require.js not available: dynamically load d3 & LDAvis\n",
              "    LDAvis_load_lib(\"https://cdnjs.cloudflare.com/ajax/libs/d3/3.5.5/d3.min.js\", function(){\n",
              "         LDAvis_load_lib(\"https://cdn.rawgit.com/bmabey/pyLDAvis/files/ldavis.v1.0.0.js\", function(){\n",
              "                 new LDAvis(\"#\" + \"ldavis_el92140450042895240460152496\", ldavis_el92140450042895240460152496_data);\n",
              "            })\n",
              "         });\n",
              "}\n",
              "</script>"
            ],
            "text/plain": [
              "<IPython.core.display.HTML object>"
            ]
          },
          "metadata": {
            "tags": []
          },
          "execution_count": 66
        }
      ]
    },
    {
      "metadata": {
        "id": "CB2KwrR73MzK",
        "colab_type": "text"
      },
      "cell_type": "markdown",
      "source": [
        "Esta seria la clusterizacion en temas optima. Por lo general parece bastante correcta, con pocas burbujas solapandose. Quedan algunos temas interesantes:\n",
        "\n",
        "- El numero 10 parece que engloba los tweets que recogieron el atentado de Londres.\n",
        "- El numero 7 parece que recoge las politicas democratas de Obama, como la seguridad social y temas de cambio climatico.\n",
        "- Los numeros 1 y 2 actuan un poco como los dos grandes clusters que vimos en el ejemplo anterior, el 1 para Trump y el 2 para Obama.\n",
        "- El numero 3 parece incluir los chascarrillos de Trump, como Fake News, make America Great Again y palabras como 'Hillary', 'crooked' o 'Russia'\n",
        "\n",
        "Tambien es interesante como queda la distribucion por cuadrantes, donde las burbujas gravitan hacia sus temas relacionados (1 y 3 es el mejor ejemplo)."
      ]
    },
    {
      "metadata": {
        "id": "cppYsQrSYwCw",
        "colab_type": "text"
      },
      "cell_type": "markdown",
      "source": [
        "## Tweet Generation"
      ]
    },
    {
      "metadata": {
        "id": "DpG2ueCe7gkv",
        "colab_type": "text"
      },
      "cell_type": "markdown",
      "source": [
        "Para el ultimo ejemplo vamos a escoger los tweets de Trump y a tratar de implementar un modelo que genere nuevos tweets con su estilo inconfundible.\n",
        "\n",
        "Para ello vamos a implementar un sistema de Language Modelling como el que vimos en clase, lo entrenaremos con los tweets de Trump y generaremos una serie de frases a ver que pinta tienen."
      ]
    },
    {
      "metadata": {
        "id": "TshyDxMyZsJ0",
        "colab_type": "code",
        "colab": {
          "autoexec": {
            "startup": false,
            "wait_interval": 0
          }
        }
      },
      "cell_type": "code",
      "source": [
        "#Code aquí .\n",
        "\n",
        "import spacy\n",
        "\n",
        "nlp = spacy.load('en_core_web_sm')"
      ],
      "execution_count": 0,
      "outputs": []
    },
    {
      "metadata": {
        "id": "DndOiQ137JOy",
        "colab_type": "code",
        "colab": {
          "autoexec": {
            "startup": false,
            "wait_interval": 0
          },
          "base_uri": "https://localhost:8080/",
          "height": 359
        },
        "outputId": "9b6ac913-7c4b-4c1c-cf93-ae261caf4dbb",
        "executionInfo": {
          "status": "ok",
          "timestamp": 1532043906032,
          "user_tz": -120,
          "elapsed": 676,
          "user": {
            "displayName": "Guillermo Pedernal",
            "photoUrl": "//lh4.googleusercontent.com/-c67Vnm1lekk/AAAAAAAAAAI/AAAAAAAAAD4/_p61UmeZ47E/s50-c-k-no/photo.jpg",
            "userId": "101927487601652154517"
          }
        }
      },
      "cell_type": "code",
      "source": [
        "df3 = df2.loc[df2['label'] == 'TRUMP']\n",
        "\n",
        "df3.head(10)"
      ],
      "execution_count": 13,
      "outputs": [
        {
          "output_type": "execute_result",
          "data": {
            "text/html": [
              "<div>\n",
              "<style scoped>\n",
              "    .dataframe tbody tr th:only-of-type {\n",
              "        vertical-align: middle;\n",
              "    }\n",
              "\n",
              "    .dataframe tbody tr th {\n",
              "        vertical-align: top;\n",
              "    }\n",
              "\n",
              "    .dataframe thead th {\n",
              "        text-align: right;\n",
              "    }\n",
              "</style>\n",
              "<table border=\"1\" class=\"dataframe\">\n",
              "  <thead>\n",
              "    <tr style=\"text-align: right;\">\n",
              "      <th></th>\n",
              "      <th>label</th>\n",
              "      <th>tweet</th>\n",
              "    </tr>\n",
              "  </thead>\n",
              "  <tbody>\n",
              "    <tr>\n",
              "      <th>2894</th>\n",
              "      <td>TRUMP</td>\n",
              "      <td>My thoughts and prayers are with the families ...</td>\n",
              "    </tr>\n",
              "    <tr>\n",
              "      <th>2895</th>\n",
              "      <td>TRUMP</td>\n",
              "      <td>My thoughts and prayers are with the families ...</td>\n",
              "    </tr>\n",
              "    <tr>\n",
              "      <th>2896</th>\n",
              "      <td>TRUMP</td>\n",
              "      <td>I am heading for Canada and the G-7 for talks ...</td>\n",
              "    </tr>\n",
              "    <tr>\n",
              "      <th>2897</th>\n",
              "      <td>TRUMP</td>\n",
              "      <td>Congratulations to the Washington Capitals on ...</td>\n",
              "    </tr>\n",
              "    <tr>\n",
              "      <th>2898</th>\n",
              "      <td>TRUMP</td>\n",
              "      <td>Looking forward to straightening out unfair Tr...</td>\n",
              "    </tr>\n",
              "    <tr>\n",
              "      <th>2899</th>\n",
              "      <td>TRUMP</td>\n",
              "      <td>Canada charges the U.S. a 270%  tariff on Dair...</td>\n",
              "    </tr>\n",
              "    <tr>\n",
              "      <th>2900</th>\n",
              "      <td>TRUMP</td>\n",
              "      <td>Obama, Schumer and Pelosi did NOTHING about No...</td>\n",
              "    </tr>\n",
              "    <tr>\n",
              "      <th>2901</th>\n",
              "      <td>TRUMP</td>\n",
              "      <td>Why isn’t the European Union and Canada inform...</td>\n",
              "    </tr>\n",
              "    <tr>\n",
              "      <th>2902</th>\n",
              "      <td>TRUMP</td>\n",
              "      <td>Prime Minister Trudeau is being so indignant, ...</td>\n",
              "    </tr>\n",
              "    <tr>\n",
              "      <th>2903</th>\n",
              "      <td>TRUMP</td>\n",
              "      <td>Please tell Prime Minister Trudeau and Preside...</td>\n",
              "    </tr>\n",
              "  </tbody>\n",
              "</table>\n",
              "</div>"
            ],
            "text/plain": [
              "      label                                              tweet\n",
              "2894  TRUMP  My thoughts and prayers are with the families ...\n",
              "2895  TRUMP  My thoughts and prayers are with the families ...\n",
              "2896  TRUMP  I am heading for Canada and the G-7 for talks ...\n",
              "2897  TRUMP  Congratulations to the Washington Capitals on ...\n",
              "2898  TRUMP  Looking forward to straightening out unfair Tr...\n",
              "2899  TRUMP  Canada charges the U.S. a 270%  tariff on Dair...\n",
              "2900  TRUMP  Obama, Schumer and Pelosi did NOTHING about No...\n",
              "2901  TRUMP  Why isn’t the European Union and Canada inform...\n",
              "2902  TRUMP  Prime Minister Trudeau is being so indignant, ...\n",
              "2903  TRUMP  Please tell Prime Minister Trudeau and Preside..."
            ]
          },
          "metadata": {
            "tags": []
          },
          "execution_count": 13
        }
      ]
    },
    {
      "metadata": {
        "id": "WKAIH4nkZvid",
        "colab_type": "code",
        "colab": {
          "autoexec": {
            "startup": false,
            "wait_interval": 0
          }
        }
      },
      "cell_type": "code",
      "source": [
        "import re\n",
        "\n",
        "corpus2 = []\n",
        "for row in df3.iterrows():\n",
        "    _, info = row\n",
        "    _, q = info\n",
        "    q = re.sub(r'\\n', '', q)\n",
        "    corpus2.append(q)\n",
        "    "
      ],
      "execution_count": 0,
      "outputs": []
    },
    {
      "metadata": {
        "id": "vCm6H_nO6R5t",
        "colab_type": "code",
        "colab": {
          "autoexec": {
            "startup": false,
            "wait_interval": 0
          }
        }
      },
      "cell_type": "code",
      "source": [
        "ngram_type='word'\n",
        "def get_vocabulary(corpus, ngram_type='word'):\n",
        "  \"\"\"\n",
        "    :corpus: list of strings\n",
        "  \"\"\"\n",
        "  if ngram_type == 'word':\n",
        "    vocab = set([t.text for document in corpus for t in nlp(document)])\n",
        "  else:\n",
        "    vocab = []\n",
        "    for doc in corpus:\n",
        "      vocab += list(doc)\n",
        "    vocab = set(vocab)\n",
        "  return list(vocab)  "
      ],
      "execution_count": 0,
      "outputs": []
    },
    {
      "metadata": {
        "id": "sir-x6n86-2Z",
        "colab_type": "code",
        "colab": {
          "autoexec": {
            "startup": false,
            "wait_interval": 0
          }
        }
      },
      "cell_type": "code",
      "source": [
        "vocab = get_vocabulary(corpus2, ngram_type=ngram_type)"
      ],
      "execution_count": 0,
      "outputs": []
    },
    {
      "metadata": {
        "id": "atQpyr0D8Cvt",
        "colab_type": "code",
        "colab": {
          "autoexec": {
            "startup": false,
            "wait_interval": 0
          }
        }
      },
      "cell_type": "code",
      "source": [
        "from collections import Counter, defaultdict\n",
        "\n",
        "def get_unigrams(corpus):\n",
        "  unigrams = defaultdict(int)\n",
        "  for document in corpus:\n",
        "    tokens = [t for t in document.split(\" \")] #[t.text for t in nlp(document)]\n",
        "    for token in tokens:\n",
        "      unigrams[token]+=1\n",
        "  return unigrams\n",
        "\n",
        "def get_bigrams(corpus):\n",
        "  bigrams = defaultdict(int)\n",
        "  for document in corpus:\n",
        "    tokens = [t for t in document.split(\" \")]\n",
        "    for ix in range(len(tokens)-1):\n",
        "      bigram = \" \".join(tokens[ix:ix+2])\n",
        "      bigrams[bigram]+=1\n",
        "  return bigrams"
      ],
      "execution_count": 0,
      "outputs": []
    },
    {
      "metadata": {
        "id": "VUzKljwM8UYS",
        "colab_type": "code",
        "colab": {
          "autoexec": {
            "startup": false,
            "wait_interval": 0
          }
        }
      },
      "cell_type": "code",
      "source": [
        "def get_counts(corpus, ngram_range=(1,3), ngram_type='word'):\n",
        "  grams = defaultdict(int)\n",
        "  minrange, maxrange = ngram_range\n",
        "  \n",
        "  for document in corpus:\n",
        "    if ngram_type=='word': \n",
        "      tokens = [t.text for t in nlp(document)]\n",
        "      join_type = \" \".join\n",
        "    elif ngram_type == 'char':\n",
        "      tokens = list(document)\n",
        "      join_type = \"\".join\n",
        "    else:\n",
        "      raise 'wrong ngram_type (char/word)'\n",
        "    for ix in range(len(tokens)-1):\n",
        "      for nrange in range(minrange, maxrange+1):\n",
        "        gram = join_type(tokens[ix:ix+nrange])\n",
        "        grams[gram]+=1\n",
        "  return grams\n"
      ],
      "execution_count": 0,
      "outputs": []
    },
    {
      "metadata": {
        "id": "80psq9AP8XQ2",
        "colab_type": "code",
        "colab": {
          "autoexec": {
            "startup": false,
            "wait_interval": 0
          }
        }
      },
      "cell_type": "code",
      "source": [
        "trigrams = get_counts(corpus2, ngram_range=(3,3), ngram_type=ngram_type)\n",
        "bigrams = get_counts(corpus2, ngram_range=(2,2), ngram_type=ngram_type)\n",
        "unigrams = get_counts(corpus2, ngram_range=(1,1), ngram_type=ngram_type)"
      ],
      "execution_count": 0,
      "outputs": []
    },
    {
      "metadata": {
        "id": "HEIE6oST8e41",
        "colab_type": "code",
        "colab": {
          "autoexec": {
            "startup": false,
            "wait_interval": 0
          }
        }
      },
      "cell_type": "code",
      "source": [
        "from math import log, exp, log2\n",
        "\n",
        "def compute_probs_laplace(counts, previous_counts, ngram_range, ngram_type):\n",
        "  probs = {}\n",
        "  v = len(counts)\n",
        "  for c in counts.keys():\n",
        "    for pc in previous_counts.keys():\n",
        "      k = \" \".join(c.split(\" \")[:ngram_range]) if ngram_type=='word' else \"\".join(list(c)[:ngram_range])\n",
        "      if k == pc:\n",
        "        probs[c]=(counts[c]+1)/(previous_counts[pc]+v)\n",
        "  \n",
        "  probs['<UNK>'] =(0+1)/(previous_counts[pc]+v)\n",
        "  return probs\n",
        "\n",
        "def compute_sequence_log_prob(sequence, ngrams, ngram_range, e=0.000000, ngram_type='word'):\n",
        "  probs = []\n",
        "  if ngram_type=='word': \n",
        "    doc = [t.text for t in nlp(sequence)]\n",
        "    join_type = \" \".join\n",
        "  elif ngram_type == 'char':\n",
        "    doc = list(sequence)\n",
        "    join_type = \"\".join\n",
        "  else:\n",
        "    raise 'wrong ngram_type (char/word)'\n",
        "    \n",
        "    \n",
        "  for ix in range(len(doc)-ngram_range+1):\n",
        "    ngram = join_type(doc[ix:ix+ngram_range])\n",
        "    if ngram in ngrams:\n",
        "      probs.append(ngrams[ngram])\n",
        "    else:\n",
        "      probs.append(ngrams['<UNK>'])\n",
        "  logprob = sum([log2(p) for p in probs])\n",
        "  return logprob, pow(2,logprob), len(doc)"
      ],
      "execution_count": 0,
      "outputs": []
    },
    {
      "metadata": {
        "id": "aCK9Q1gA8rnE",
        "colab_type": "code",
        "colab": {
          "autoexec": {
            "startup": false,
            "wait_interval": 0
          },
          "base_uri": "https://localhost:8080/",
          "height": 102
        },
        "outputId": "591accea-d755-425b-c3aa-180e8cba20f0",
        "executionInfo": {
          "status": "ok",
          "timestamp": 1532046727147,
          "user_tz": -120,
          "elapsed": 1923848,
          "user": {
            "displayName": "Guillermo Pedernal",
            "photoUrl": "//lh4.googleusercontent.com/-c67Vnm1lekk/AAAAAAAAAAI/AAAAAAAAAD4/_p61UmeZ47E/s50-c-k-no/photo.jpg",
            "userId": "101927487601652154517"
          }
        }
      },
      "cell_type": "code",
      "source": [
        "probs = compute_probs_laplace(trigrams, bigrams, 2, ngram_type)\n",
        "list(probs.items())[:5]"
      ],
      "execution_count": 38,
      "outputs": [
        {
          "output_type": "execute_result",
          "data": {
            "text/plain": [
              "[('My thoughts and', 0.0001116118141105236),\n",
              " ('thoughts and prayers', 0.0003208302528979341),\n",
              " ('and prayers are', 0.00022317381055333158),\n",
              " ('prayers are with', 0.00026504477861786124),\n",
              " ('are with the', 0.00018130343221343598)]"
            ]
          },
          "metadata": {
            "tags": []
          },
          "execution_count": 38
        }
      ]
    },
    {
      "metadata": {
        "id": "JYr-y-mo87FL",
        "colab_type": "code",
        "colab": {
          "autoexec": {
            "startup": false,
            "wait_interval": 0
          }
        }
      },
      "cell_type": "code",
      "source": [
        "from random import choice\n",
        "def compute_next(bigram, probs, ngram_range=2, ngram_type='word'):\n",
        "  max_prob = 0\n",
        "  candidates = []\n",
        "  for key in probs.keys(): # argmax\n",
        "    k = \" \".join(key.split(' ')[:ngram_range]) if ngram_type=='word' else key[:ngram_range]\n",
        "    if bigram == k:\n",
        "      #print('key: \"{}\" -- {}'.format(key, probs[key]))\n",
        "      if probs[key]>max_prob:\n",
        "        max_prob = probs[key]\n",
        "        candidates = [key]\n",
        "      elif probs[key]==max_prob:\n",
        "        candidates.append(key)\n",
        "  if len(candidates)>0:\n",
        "    candidate = choice(candidates)\n",
        "    candidate = \" \"+\" \".join(candidate.split(' ')[ngram_range:]) if ngram_type=='word' else candidate[ngram_range:]\n",
        "    return (candidate, max_prob)\n",
        "  else:\n",
        "    return False\n",
        "      \n",
        "  "
      ],
      "execution_count": 0,
      "outputs": []
    },
    {
      "metadata": {
        "id": "Fni_tds19Tww",
        "colab_type": "code",
        "colab": {
          "autoexec": {
            "startup": false,
            "wait_interval": 0
          },
          "base_uri": "https://localhost:8080/",
          "height": 102
        },
        "outputId": "502a2f49-60cd-4ffd-ee3f-4916a3a2cc89",
        "executionInfo": {
          "status": "ok",
          "timestamp": 1532047349534,
          "user_tz": -120,
          "elapsed": 1678,
          "user": {
            "displayName": "Guillermo Pedernal",
            "photoUrl": "//lh4.googleusercontent.com/-c67Vnm1lekk/AAAAAAAAAAI/AAAAAAAAAD4/_p61UmeZ47E/s50-c-k-no/photo.jpg",
            "userId": "101927487601652154517"
          }
        }
      },
      "cell_type": "code",
      "source": [
        "for _ in range(5):\n",
        "    text = \"Make America\" #\n",
        "    prob = 1\n",
        "    for i in range(50):\n",
        "      bigram = text[-2:] if ngram_type=='char' else \" \".join(text.split(' ')[-2:])\n",
        "      # print('bigram:', bigram)\n",
        "      next_p=compute_next(bigram, probs, ngram_type=ngram_type)\n",
        "      # print('chosen: ', next_p)\n",
        "      if next_p:\n",
        "        text+=next_p[0]\n",
        "      else:\n",
        "        break\n",
        "    print('Sample text: ',text)"
      ],
      "execution_count": 49,
      "outputs": [
        {
          "output_type": "stream",
          "text": [
            "Sample text:  Make America Great Again ! \n",
            "Sample text:  Make America Great Again ! \n",
            "Sample text:  Make America Great Again ! \n",
            "Sample text:  Make America Great Again ! \n",
            "Sample text:  Make America Great Again ! \n"
          ],
          "name": "stdout"
        }
      ]
    },
    {
      "metadata": {
        "id": "MjnM4DsyHb-X",
        "colab_type": "text"
      },
      "cell_type": "markdown",
      "source": [
        "El algoritmo ha sido capaz de generar la frase por excelencia de Trump."
      ]
    },
    {
      "metadata": {
        "id": "kEJDED2IID-0",
        "colab_type": "text"
      },
      "cell_type": "markdown",
      "source": [
        "Al final no he podido jugar mucho con las cosas que se pedían, lo que es una pena porque la práctica daba bastante juego y todo lo que hemos visto en clase ha sido muy interesante. Ha sido una semana complicadilla y he tenido el tiempo limitado por lo que doy por bueno lo conseguido."
      ]
    }
  ]
}